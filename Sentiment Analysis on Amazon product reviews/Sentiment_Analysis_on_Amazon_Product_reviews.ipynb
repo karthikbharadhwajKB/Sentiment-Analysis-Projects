{
 "cells": [
  {
   "cell_type": "markdown",
   "metadata": {
    "colab_type": "text",
    "id": "K7eIVIIAR2xR"
   },
   "source": [
    "## Import Required Libraries"
   ]
  },
  {
   "cell_type": "code",
   "execution_count": 1,
   "metadata": {
    "colab": {
     "base_uri": "https://localhost:8080/",
     "height": 74
    },
    "colab_type": "code",
    "id": "4VoYmQvzR2xc",
    "outputId": "8b206e1d-cb4e-4201-a6e6-fd207926ea9c"
   },
   "outputs": [
    {
     "name": "stderr",
     "output_type": "stream",
     "text": [
      "C:\\Users\\Karthik Bharadhwaj\\Anaconda3\\lib\\site-packages\\sklearn\\feature_extraction\\text.py:17: DeprecationWarning: Using or importing the ABCs from 'collections' instead of from 'collections.abc' is deprecated, and in 3.8 it will stop working\n",
      "  from collections import Mapping, defaultdict\n"
     ]
    }
   ],
   "source": [
    "#python libaries\n",
    "import pandas as pd #read,write and manipulation of data frames \n",
    "import numpy as np #numerical operations\n",
    "import matplotlib.pyplot as plt #basic visualization \n",
    "import seaborn as sb #statistical visualization\n",
    "import nltk #natural language processing \n",
    "from bs4 import BeautifulSoup # html \n",
    "import re # regular expressions\n",
    "#NLP libraries\n",
    "from nltk.corpus import stopwords #stopwords\n",
    "from nltk.stem import WordNetLemmatizer #lemmatization\n",
    "from wordcloud import WordCloud, STOPWORDS #word cloud \n",
    "#machine learning libraries\n",
    "from sklearn.model_selection import train_test_split #splitting  the dataset\n",
    "from sklearn.feature_extraction.text import CountVectorizer #vectorizeration techniques\n",
    "from sklearn.naive_bayes import MultinomialNB #multinomial naive bayes\n",
    "from sklearn.svm import SVC # support vector classifier\n",
    "from sklearn.tree import DecisionTreeClassifier #decision tree\n",
    "from sklearn.model_selection import GridSearchCV #gridsearchcv\n",
    "from sklearn.metrics import confusion_matrix,accuracy_score,classification_report #evaluation of models\n",
    "from sklearn.preprocessing import LabelEncoder #preprocessing "
   ]
  },
  {
   "cell_type": "markdown",
   "metadata": {
    "colab_type": "text",
    "id": "dv5DBGKER2xq"
   },
   "source": [
    "## Loading Dataset "
   ]
  },
  {
   "cell_type": "code",
   "execution_count": 2,
   "metadata": {
    "colab": {},
    "colab_type": "code",
    "id": "4kd1X8MLR2xr"
   },
   "outputs": [],
   "source": [
    "df = pd.read_csv('amazonreviews.tsv',sep='\\t')"
   ]
  },
  {
   "cell_type": "code",
   "execution_count": 3,
   "metadata": {
    "colab": {},
    "colab_type": "code",
    "id": "MJOyn4peR2x4",
    "outputId": "04b2d4a6-3f60-408b-b3d7-af69c99195a9"
   },
   "outputs": [
    {
     "data": {
      "text/html": [
       "<div>\n",
       "<style scoped>\n",
       "    .dataframe tbody tr th:only-of-type {\n",
       "        vertical-align: middle;\n",
       "    }\n",
       "\n",
       "    .dataframe tbody tr th {\n",
       "        vertical-align: top;\n",
       "    }\n",
       "\n",
       "    .dataframe thead th {\n",
       "        text-align: right;\n",
       "    }\n",
       "</style>\n",
       "<table border=\"1\" class=\"dataframe\">\n",
       "  <thead>\n",
       "    <tr style=\"text-align: right;\">\n",
       "      <th></th>\n",
       "      <th>label</th>\n",
       "      <th>review</th>\n",
       "    </tr>\n",
       "  </thead>\n",
       "  <tbody>\n",
       "    <tr>\n",
       "      <th>0</th>\n",
       "      <td>pos</td>\n",
       "      <td>Stuning even for the non-gamer: This sound tra...</td>\n",
       "    </tr>\n",
       "    <tr>\n",
       "      <th>1</th>\n",
       "      <td>pos</td>\n",
       "      <td>The best soundtrack ever to anything.: I'm rea...</td>\n",
       "    </tr>\n",
       "    <tr>\n",
       "      <th>2</th>\n",
       "      <td>pos</td>\n",
       "      <td>Amazing!: This soundtrack is my favorite music...</td>\n",
       "    </tr>\n",
       "    <tr>\n",
       "      <th>3</th>\n",
       "      <td>pos</td>\n",
       "      <td>Excellent Soundtrack: I truly like this soundt...</td>\n",
       "    </tr>\n",
       "    <tr>\n",
       "      <th>4</th>\n",
       "      <td>pos</td>\n",
       "      <td>Remember, Pull Your Jaw Off The Floor After He...</td>\n",
       "    </tr>\n",
       "  </tbody>\n",
       "</table>\n",
       "</div>"
      ],
      "text/plain": [
       "  label                                             review\n",
       "0   pos  Stuning even for the non-gamer: This sound tra...\n",
       "1   pos  The best soundtrack ever to anything.: I'm rea...\n",
       "2   pos  Amazing!: This soundtrack is my favorite music...\n",
       "3   pos  Excellent Soundtrack: I truly like this soundt...\n",
       "4   pos  Remember, Pull Your Jaw Off The Floor After He..."
      ]
     },
     "execution_count": 3,
     "metadata": {},
     "output_type": "execute_result"
    }
   ],
   "source": [
    "df.head()"
   ]
  },
  {
   "cell_type": "markdown",
   "metadata": {
    "colab_type": "text",
    "id": "HxPz_L2eR2yC"
   },
   "source": [
    "## Exploratory Data Analysis"
   ]
  },
  {
   "cell_type": "code",
   "execution_count": 0,
   "metadata": {
    "colab": {},
    "colab_type": "code",
    "id": "am4lCl7jR2yE",
    "outputId": "c6d68c05-4377-4b78-9917-7a053cce9551"
   },
   "outputs": [
    {
     "name": "stdout",
     "output_type": "stream",
     "text": [
      "<class 'pandas.core.frame.DataFrame'>\n",
      "RangeIndex: 10000 entries, 0 to 9999\n",
      "Data columns (total 2 columns):\n",
      "label     10000 non-null object\n",
      "review    10000 non-null object\n",
      "dtypes: object(2)\n",
      "memory usage: 156.3+ KB\n"
     ]
    }
   ],
   "source": [
    "df.info()"
   ]
  },
  {
   "cell_type": "markdown",
   "metadata": {
    "colab_type": "text",
    "id": "2YvgFHNkR2yN"
   },
   "source": [
    "We can see that there are two columns(label,review) which are object datatype and Total entries are 10000"
   ]
  },
  {
   "cell_type": "code",
   "execution_count": 0,
   "metadata": {
    "colab": {},
    "colab_type": "code",
    "id": "Oq-P4rrsR2yP",
    "outputId": "ac844cef-93e4-4ed5-b059-ff4c1d62797d"
   },
   "outputs": [
    {
     "data": {
      "text/plain": [
       "(10000, 2)"
      ]
     },
     "execution_count": 21,
     "metadata": {
      "tags": []
     },
     "output_type": "execute_result"
    }
   ],
   "source": [
    "df.shape"
   ]
  },
  {
   "cell_type": "markdown",
   "metadata": {
    "colab_type": "text",
    "id": "1Jicd53ZR2yY"
   },
   "source": [
    "There are 10000 rows and 2 columns."
   ]
  },
  {
   "cell_type": "code",
   "execution_count": 0,
   "metadata": {
    "colab": {},
    "colab_type": "code",
    "id": "o7_q5O29R2yb",
    "outputId": "241baa5e-cc74-4639-e5ed-9160a7afa2b5"
   },
   "outputs": [
    {
     "data": {
      "text/html": [
       "<div>\n",
       "<style scoped>\n",
       "    .dataframe tbody tr th:only-of-type {\n",
       "        vertical-align: middle;\n",
       "    }\n",
       "\n",
       "    .dataframe tbody tr th {\n",
       "        vertical-align: top;\n",
       "    }\n",
       "\n",
       "    .dataframe thead th {\n",
       "        text-align: right;\n",
       "    }\n",
       "</style>\n",
       "<table border=\"1\" class=\"dataframe\">\n",
       "  <thead>\n",
       "    <tr style=\"text-align: right;\">\n",
       "      <th></th>\n",
       "      <th>label</th>\n",
       "      <th>review</th>\n",
       "    </tr>\n",
       "  </thead>\n",
       "  <tbody>\n",
       "    <tr>\n",
       "      <th>count</th>\n",
       "      <td>10000</td>\n",
       "      <td>10000</td>\n",
       "    </tr>\n",
       "    <tr>\n",
       "      <th>unique</th>\n",
       "      <td>2</td>\n",
       "      <td>10000</td>\n",
       "    </tr>\n",
       "    <tr>\n",
       "      <th>top</th>\n",
       "      <td>neg</td>\n",
       "      <td>AWESOME!: Let's face it,Garbage's self-titled ...</td>\n",
       "    </tr>\n",
       "    <tr>\n",
       "      <th>freq</th>\n",
       "      <td>5097</td>\n",
       "      <td>1</td>\n",
       "    </tr>\n",
       "  </tbody>\n",
       "</table>\n",
       "</div>"
      ],
      "text/plain": [
       "        label                                             review\n",
       "count   10000                                              10000\n",
       "unique      2                                              10000\n",
       "top       neg  AWESOME!: Let's face it,Garbage's self-titled ...\n",
       "freq     5097                                                  1"
      ]
     },
     "execution_count": 13,
     "metadata": {
      "tags": []
     },
     "output_type": "execute_result"
    }
   ],
   "source": [
    "df.describe()"
   ]
  },
  {
   "cell_type": "markdown",
   "metadata": {
    "colab_type": "text",
    "id": "QWltCHCVR2yk"
   },
   "source": [
    "In label column, Total count is 10000 and unique classes are two (pos and neg).\n",
    "\n",
    "In review column, Total count is 10000 and unique reviews were 10000."
   ]
  },
  {
   "cell_type": "code",
   "execution_count": 0,
   "metadata": {
    "colab": {},
    "colab_type": "code",
    "id": "StJ8JZbIR2yl",
    "outputId": "c2df6f14-f3cb-413e-ee72-9dafba382c21"
   },
   "outputs": [
    {
     "data": {
      "text/plain": [
       "label     0\n",
       "review    0\n",
       "dtype: int64"
      ]
     },
     "execution_count": 14,
     "metadata": {
      "tags": []
     },
     "output_type": "execute_result"
    }
   ],
   "source": [
    "df.isnull().sum()"
   ]
  },
  {
   "cell_type": "markdown",
   "metadata": {
    "colab_type": "text",
    "id": "PvES3VrpR2yx"
   },
   "source": [
    " there are no null values in the dataset "
   ]
  },
  {
   "cell_type": "code",
   "execution_count": 0,
   "metadata": {
    "colab": {},
    "colab_type": "code",
    "id": "Nfb-Rg-eR2yy",
    "outputId": "29e7bfce-247c-45be-a50a-242d7022b57f"
   },
   "outputs": [
    {
     "data": {
      "text/plain": [
       "neg    5097\n",
       "pos    4903\n",
       "Name: label, dtype: int64"
      ]
     },
     "execution_count": 15,
     "metadata": {
      "tags": []
     },
     "output_type": "execute_result"
    }
   ],
   "source": [
    "df.label.value_counts() #unique items and frequency"
   ]
  },
  {
   "cell_type": "code",
   "execution_count": 6,
   "metadata": {
    "colab": {},
    "colab_type": "code",
    "id": "Xz6WFWuzR2y6",
    "outputId": "a6c96b7e-4577-4858-f86d-6053797cf4a7"
   },
   "outputs": [
    {
     "data": {
      "text/plain": [
       "<matplotlib.axes._subplots.AxesSubplot at 0x203e921a3c8>"
      ]
     },
     "execution_count": 6,
     "metadata": {},
     "output_type": "execute_result"
    },
    {
     "data": {
      "image/png": "[encoded data removed]",
      "text/plain": [
       "<Figure size 432x288 with 1 Axes>"
      ]
     },
     "metadata": {
      "needs_background": "light"
     },
     "output_type": "display_data"
    }
   ],
   "source": [
    "sb.countplot(x=\"label\",data=df)"
   ]
  },
  {
   "cell_type": "code",
   "execution_count": 0,
   "metadata": {
    "colab": {},
    "colab_type": "code",
    "id": "QQVh6nBSR2zA",
    "outputId": "fc177b3c-0375-42c2-a80d-ffd8f3a737be"
   },
   "outputs": [
    {
     "data": {
      "text/plain": [
       "neg    0.5097\n",
       "pos    0.4903\n",
       "Name: label, dtype: float64"
      ]
     },
     "execution_count": 16,
     "metadata": {
      "tags": []
     },
     "output_type": "execute_result"
    }
   ],
   "source": [
    "df.label.value_counts()/len(df)"
   ]
  },
  {
   "cell_type": "markdown",
   "metadata": {
    "colab_type": "text",
    "id": "3j7Hag29R2zH"
   },
   "source": [
    "we can see that dataset is balanced."
   ]
  },
  {
   "cell_type": "code",
   "execution_count": 0,
   "metadata": {
    "colab": {},
    "colab_type": "code",
    "id": "gsGBINygR2zK"
   },
   "outputs": [],
   "source": [
    "#checking for spaces and double spaces\n",
    "blanks = []\n",
    "for i,lb,rv in df.itertuples():\n",
    "    if rv.isspace():\n",
    "        blanks.append(i)"
   ]
  },
  {
   "cell_type": "code",
   "execution_count": 0,
   "metadata": {
    "colab": {},
    "colab_type": "code",
    "id": "blutYnIER2zQ",
    "outputId": "12c26344-c695-44e9-84bc-74d4c0f0be28"
   },
   "outputs": [
    {
     "data": {
      "text/plain": [
       "[]"
      ]
     },
     "execution_count": 18,
     "metadata": {
      "tags": []
     },
     "output_type": "execute_result"
    }
   ],
   "source": [
    "blanks"
   ]
  },
  {
   "cell_type": "markdown",
   "metadata": {
    "colab_type": "text",
    "id": "g_2M4hY7R2zV"
   },
   "source": [
    " there is no spaces in between text  in individual review."
   ]
  },
  {
   "cell_type": "markdown",
   "metadata": {
    "colab_type": "text",
    "id": "hj8jeBXkR2zW"
   },
   "source": [
    "## Text Preprocessing "
   ]
  },
  {
   "cell_type": "code",
   "execution_count": 0,
   "metadata": {
    "colab": {},
    "colab_type": "code",
    "id": "RFXW6JQXR2zX"
   },
   "outputs": [],
   "source": [
    "stopwords=nltk.corpus.stopwords.words(\"english\")\n",
    "lem = WordNetLemmatizer()"
   ]
  },
  {
   "cell_type": "code",
   "execution_count": 0,
   "metadata": {
    "colab": {},
    "colab_type": "code",
    "id": "ZHNSzfMBR2zf"
   },
   "outputs": [],
   "source": [
    "#cleaning HTML tags in data \n",
    "def strip_html(text):\n",
    "    soup = BeautifulSoup(text, \"html.parser\")\n",
    "    return soup.get_text()"
   ]
  },
  {
   "cell_type": "code",
   "execution_count": 0,
   "metadata": {
    "colab": {},
    "colab_type": "code",
    "id": "LNNYAKHDR2zk"
   },
   "outputs": [],
   "source": [
    "#data cleaning and removing stop words and applying stemming \n",
    "def clean_text(text):\n",
    "    text=text.lower()\n",
    "    text = strip_html(text)\n",
    "    #pattern : '[^a-z\\s] \n",
    "    text=re.sub('[^a-z\\s]',\"\",text)\n",
    "    words=text.split(\" \") #words list \n",
    "    words_imp=[lem.lemmatize(word) for word in words if word not in stopwords]\n",
    "    text_cleaned=\" \".join(words_imp)\n",
    "    return text_cleaned"
   ]
  },
  {
   "cell_type": "code",
   "execution_count": 8,
   "metadata": {},
   "outputs": [
    {
     "data": {
      "text/plain": [
       "0    Stuning even for the non-gamer: This sound tra...\n",
       "1    The best soundtrack ever to anything.: I'm rea...\n",
       "2    Amazing!: This soundtrack is my favorite music...\n",
       "3    Excellent Soundtrack: I truly like this soundt...\n",
       "4    Remember, Pull Your Jaw Off The Floor After He...\n",
       "Name: review, dtype: object"
      ]
     },
     "execution_count": 8,
     "metadata": {},
     "output_type": "execute_result"
    }
   ],
   "source": [
    "df['review'].head()"
   ]
  },
  {
   "cell_type": "code",
   "execution_count": 0,
   "metadata": {
    "colab": {},
    "colab_type": "code",
    "id": "B5Ltc2ArR2zt"
   },
   "outputs": [],
   "source": [
    "df['review'] = df['review'].apply(clean_text) #applies for each row"
   ]
  },
  {
   "cell_type": "code",
   "execution_count": 10,
   "metadata": {},
   "outputs": [
    {
     "data": {
      "text/plain": [
       "0    pos\n",
       "1    pos\n",
       "2    pos\n",
       "3    pos\n",
       "4    pos\n",
       "Name: label, dtype: object"
      ]
     },
     "execution_count": 10,
     "metadata": {},
     "output_type": "execute_result"
    }
   ],
   "source": [
    "df['label'].head()"
   ]
  },
  {
   "cell_type": "code",
   "execution_count": 12,
   "metadata": {
    "colab": {},
    "colab_type": "code",
    "id": "mJn-NbqdR2z0"
   },
   "outputs": [],
   "source": [
    "df[\"label\"]=df[\"label\"].map({\"pos\":1,\"neg\":0})"
   ]
  },
  {
   "cell_type": "code",
   "execution_count": 15,
   "metadata": {},
   "outputs": [
    {
     "data": {
      "text/plain": [
       "0    1\n",
       "1    1\n",
       "2    1\n",
       "3    1\n",
       "4    1\n",
       "5    1\n",
       "6    0\n",
       "7    1\n",
       "8    1\n",
       "9    1\n",
       "Name: label, dtype: int64"
      ]
     },
     "execution_count": 15,
     "metadata": {},
     "output_type": "execute_result"
    }
   ],
   "source": [
    "df['label'].head(10)"
   ]
  },
  {
   "cell_type": "markdown",
   "metadata": {
    "colab_type": "text",
    "id": "dOGJLI0fR20E"
   },
   "source": [
    "## Splitting Dataset "
   ]
  },
  {
   "cell_type": "code",
   "execution_count": 16,
   "metadata": {
    "colab": {},
    "colab_type": "code",
    "id": "pUQRRaaqR20G"
   },
   "outputs": [],
   "source": [
    "X = df.review\n",
    "y=df.label"
   ]
  },
  {
   "cell_type": "code",
   "execution_count": 0,
   "metadata": {
    "colab": {},
    "colab_type": "code",
    "id": "SQb7vWwfR20N"
   },
   "outputs": [],
   "source": [
    "x_train,x_test,y_train,y_test = train_test_split(X,y,test_size=0.3,random_state=1,stratify=y)"
   ]
  },
  {
   "cell_type": "code",
   "execution_count": null,
   "metadata": {},
   "outputs": [],
   "source": [
    "#without stratify \n",
    "#3000 => pos : 1800  neg: 1200\n"
   ]
  },
  {
   "cell_type": "code",
   "execution_count": 0,
   "metadata": {
    "colab": {},
    "colab_type": "code",
    "id": "MpqJiVGlR20U",
    "outputId": "8974d5bb-9154-4ecc-f498-6f20aa71637d"
   },
   "outputs": [
    {
     "name": "stdout",
     "output_type": "stream",
     "text": [
      "(7000,) (7000,) (3000,) (3000,)\n"
     ]
    }
   ],
   "source": [
    "print(x_train.shape,y_train.shape,x_test.shape,y_test.shape)"
   ]
  },
  {
   "cell_type": "markdown",
   "metadata": {
    "colab_type": "text",
    "id": "sqM9FzkYR20a"
   },
   "source": [
    "## Vectorization"
   ]
  },
  {
   "cell_type": "code",
   "execution_count": 0,
   "metadata": {
    "colab": {},
    "colab_type": "code",
    "id": "vSJnfpU0R20b"
   },
   "outputs": [],
   "source": [
    "count_vec = CountVectorizer() "
   ]
  },
  {
   "cell_type": "code",
   "execution_count": 0,
   "metadata": {
    "colab": {},
    "colab_type": "code",
    "id": "Fn4zEzw9R20i"
   },
   "outputs": [],
   "source": [
    "train_count_vec = count_vec.fit_transform(x_train)"
   ]
  },
  {
   "cell_type": "code",
   "execution_count": 0,
   "metadata": {
    "colab": {},
    "colab_type": "code",
    "id": "QTLxE7iYR20p"
   },
   "outputs": [],
   "source": [
    "test_count_vec = count_vec.transform(x_test)"
   ]
  },
  {
   "cell_type": "code",
   "execution_count": 0,
   "metadata": {
    "colab": {},
    "colab_type": "code",
    "id": "KBf3UssgR20u",
    "outputId": "0fae03dc-f399-42ab-8342-890930f7715b"
   },
   "outputs": [
    {
     "data": {
      "text/plain": [
       "<7000x28384 sparse matrix of type '<class 'numpy.int64'>'\n",
       "\twith 243433 stored elements in Compressed Sparse Row format>"
      ]
     },
     "execution_count": 49,
     "metadata": {
      "tags": []
     },
     "output_type": "execute_result"
    }
   ],
   "source": [
    "train_count_vec"
   ]
  },
  {
   "cell_type": "code",
   "execution_count": 0,
   "metadata": {
    "colab": {},
    "colab_type": "code",
    "id": "OXR1Gz-GR200",
    "outputId": "702907a5-fe40-43b6-d647-6b8811340e45"
   },
   "outputs": [
    {
     "data": {
      "text/plain": [
       "<3000x28384 sparse matrix of type '<class 'numpy.int64'>'\n",
       "\twith 96677 stored elements in Compressed Sparse Row format>"
      ]
     },
     "execution_count": 50,
     "metadata": {
      "tags": []
     },
     "output_type": "execute_result"
    }
   ],
   "source": [
    "test_count_vec"
   ]
  },
  {
   "cell_type": "markdown",
   "metadata": {
    "colab_type": "text",
    "id": "vyAVwlRxR205"
   },
   "source": [
    "# Model Building "
   ]
  },
  {
   "cell_type": "markdown",
   "metadata": {
    "colab_type": "text",
    "id": "ZVkYbuPzR206"
   },
   "source": [
    "##  MultiNomial Naive Bayes "
   ]
  },
  {
   "cell_type": "code",
   "execution_count": 0,
   "metadata": {
    "colab": {},
    "colab_type": "code",
    "id": "lSR72GSWR208"
   },
   "outputs": [],
   "source": [
    "from sklearn.naive_bayes import MultinomialNB "
   ]
  },
  {
   "cell_type": "code",
   "execution_count": 0,
   "metadata": {
    "colab": {},
    "colab_type": "code",
    "id": "iLc3el7FR21C"
   },
   "outputs": [],
   "source": [
    "clf_MNb = MultinomialNB()"
   ]
  },
  {
   "cell_type": "code",
   "execution_count": 0,
   "metadata": {
    "colab": {},
    "colab_type": "code",
    "id": "O92N9Z0JR21H",
    "outputId": "ec3161fa-cdb7-458a-f048-3461ba0a5f98"
   },
   "outputs": [
    {
     "data": {
      "text/plain": [
       "MultinomialNB(alpha=1.0, class_prior=None, fit_prior=True)"
      ]
     },
     "execution_count": 53,
     "metadata": {
      "tags": []
     },
     "output_type": "execute_result"
    }
   ],
   "source": [
    "clf_MNb.fit(train_count_vec,y_train) #training "
   ]
  },
  {
   "cell_type": "code",
   "execution_count": 0,
   "metadata": {
    "colab": {},
    "colab_type": "code",
    "id": "c7xeTNssR21N"
   },
   "outputs": [],
   "source": [
    "y_pred = clf_MNb.predict(test_count_vec)"
   ]
  },
  {
   "cell_type": "markdown",
   "metadata": {
    "colab_type": "text",
    "id": "I_df5KjCR21S"
   },
   "source": [
    "## Model Evaluation"
   ]
  },
  {
   "cell_type": "code",
   "execution_count": 0,
   "metadata": {
    "colab": {},
    "colab_type": "code",
    "id": "I6Lr3kHzR21T",
    "outputId": "f3cc5b69-a904-4d9a-8610-d2472e907b45"
   },
   "outputs": [
    {
     "name": "stdout",
     "output_type": "stream",
     "text": [
      "[[1315  214]\n",
      " [ 287 1184]]\n"
     ]
    }
   ],
   "source": [
    "print(confusion_matrix(y_test,y_pred))"
   ]
  },
  {
   "cell_type": "code",
   "execution_count": 0,
   "metadata": {
    "colab": {},
    "colab_type": "code",
    "id": "SdrTmhZVR21c",
    "outputId": "de9c74cd-2774-4fdf-8e7d-7d1e1b05ce7b"
   },
   "outputs": [
    {
     "name": "stdout",
     "output_type": "stream",
     "text": [
      "0.833\n"
     ]
    }
   ],
   "source": [
    "print(accuracy_score(y_test,y_pred))"
   ]
  },
  {
   "cell_type": "code",
   "execution_count": 0,
   "metadata": {
    "colab": {},
    "colab_type": "code",
    "id": "8nRbpm94R21i",
    "outputId": "8c0d12f5-a759-44b8-8017-c734af23f6e3"
   },
   "outputs": [
    {
     "name": "stdout",
     "output_type": "stream",
     "text": [
      "             precision    recall  f1-score   support\n",
      "\n",
      "          0       0.82      0.86      0.84      1529\n",
      "          1       0.85      0.80      0.83      1471\n",
      "\n",
      "avg / total       0.83      0.83      0.83      3000\n",
      "\n"
     ]
    }
   ],
   "source": [
    "print(classification_report(y_test,y_pred))"
   ]
  },
  {
   "cell_type": "markdown",
   "metadata": {
    "colab_type": "text",
    "id": "71cQBKQ9R21p"
   },
   "source": [
    "## Hyperparameter Tunning : GridSearchCV "
   ]
  },
  {
   "cell_type": "code",
   "execution_count": 0,
   "metadata": {
    "colab": {},
    "colab_type": "code",
    "id": "Mb3C1xTKR21q"
   },
   "outputs": [],
   "source": [
    "params_grid = {\n",
    "    'alpha':[1, 0.1, 0.01, 0.001, 0.0001, 0.00001] \n",
    "}"
   ]
  },
  {
   "cell_type": "code",
   "execution_count": 0,
   "metadata": {
    "colab": {},
    "colab_type": "code",
    "id": "DXANHji1R21x"
   },
   "outputs": [],
   "source": [
    "grid= GridSearchCV(clf_MNb,param_grid=params_grid,verbose=3)"
   ]
  },
  {
   "cell_type": "code",
   "execution_count": 0,
   "metadata": {
    "colab": {},
    "colab_type": "code",
    "id": "JQzpXkybR216",
    "outputId": "e5f0cd17-369f-42e1-e3e9-2649629f7dcd"
   },
   "outputs": [
    {
     "name": "stdout",
     "output_type": "stream",
     "text": [
      "Fitting 3 folds for each of 6 candidates, totalling 18 fits\n",
      "[CV] alpha=1 .........................................................\n",
      "[CV] ................................ alpha=1, score=0.831191 -   0.0s\n",
      "[CV] alpha=1 .........................................................\n",
      "[CV] ................................ alpha=1, score=0.823403 -   0.0s\n",
      "[CV] alpha=1 .........................................................\n",
      "[CV] ................................ alpha=1, score=0.833691 -   0.0s\n",
      "[CV] alpha=0.1 .......................................................\n",
      "[CV] .............................. alpha=0.1, score=0.819195 -   0.0s\n",
      "[CV] alpha=0.1 .......................................................\n",
      "[CV] .............................. alpha=0.1, score=0.807544 -   0.0s\n",
      "[CV] alpha=0.1 .......................................................\n",
      "[CV] .............................. alpha=0.1, score=0.821260 -   0.0s\n"
     ]
    },
    {
     "name": "stderr",
     "output_type": "stream",
     "text": [
      "[Parallel(n_jobs=1)]: Done   1 out of   1 | elapsed:    0.0s remaining:    0.0s\n",
      "[Parallel(n_jobs=1)]: Done   2 out of   2 | elapsed:    0.0s remaining:    0.0s\n"
     ]
    },
    {
     "name": "stdout",
     "output_type": "stream",
     "text": [
      "[CV] alpha=0.01 ......................................................\n",
      "[CV] ............................. alpha=0.01, score=0.802057 -   0.0s\n",
      "[CV] alpha=0.01 ......................................................\n",
      "[CV] ............................. alpha=0.01, score=0.774539 -   0.0s\n",
      "[CV] alpha=0.01 ......................................................\n",
      "[CV] ............................. alpha=0.01, score=0.799829 -   0.0s\n",
      "[CV] alpha=0.001 .....................................................\n",
      "[CV] ............................ alpha=0.001, score=0.786204 -   0.0s\n",
      "[CV] alpha=0.001 .....................................................\n",
      "[CV] ............................ alpha=0.001, score=0.753965 -   0.0s\n",
      "[CV] alpha=0.001 .....................................................\n",
      "[CV] ............................ alpha=0.001, score=0.781826 -   0.0s\n",
      "[CV] alpha=0.0001 ....................................................\n",
      "[CV] ........................... alpha=0.0001, score=0.773350 -   0.0s\n",
      "[CV] alpha=0.0001 ....................................................\n",
      "[CV] ........................... alpha=0.0001, score=0.739391 -   0.0s\n",
      "[CV] alpha=0.0001 ....................................................\n",
      "[CV] ........................... alpha=0.0001, score=0.770253 -   0.0s\n",
      "[CV] alpha=1e-05 .....................................................\n",
      "[CV] ............................ alpha=1e-05, score=0.763068 -   0.0s\n",
      "[CV] alpha=1e-05 .....................................................\n",
      "[CV] ............................ alpha=1e-05, score=0.729533 -   0.0s\n",
      "[CV] alpha=1e-05 .....................................................\n",
      "[CV] ............................ alpha=1e-05, score=0.762109 -   0.0s\n"
     ]
    },
    {
     "name": "stderr",
     "output_type": "stream",
     "text": [
      "[Parallel(n_jobs=1)]: Done  18 out of  18 | elapsed:    0.4s finished\n"
     ]
    },
    {
     "data": {
      "text/plain": [
       "GridSearchCV(cv=None, error_score='raise',\n",
       "       estimator=MultinomialNB(alpha=1.0, class_prior=None, fit_prior=True),\n",
       "       fit_params={}, iid=True, n_jobs=1,\n",
       "       param_grid={'alpha': [1, 0.1, 0.01, 0.001, 0.0001, 1e-05]},\n",
       "       pre_dispatch='2*n_jobs', refit=True, scoring=None, verbose=3)"
      ]
     },
     "execution_count": 96,
     "metadata": {
      "tags": []
     },
     "output_type": "execute_result"
    }
   ],
   "source": [
    "grid.fit(train_count_vec,y_train)"
   ]
  },
  {
   "cell_type": "code",
   "execution_count": 0,
   "metadata": {
    "colab": {},
    "colab_type": "code",
    "id": "-lMQflikR22F",
    "outputId": "dcb8d7b2-ed60-4b01-b700-3b131bed1824"
   },
   "outputs": [
    {
     "data": {
      "text/plain": [
       "MultinomialNB(alpha=1, class_prior=None, fit_prior=True)"
      ]
     },
     "execution_count": 68,
     "metadata": {
      "tags": []
     },
     "output_type": "execute_result"
    }
   ],
   "source": [
    "grid.best_estimator_"
   ]
  },
  {
   "cell_type": "code",
   "execution_count": 0,
   "metadata": {
    "colab": {},
    "colab_type": "code",
    "id": "tngni737R22M",
    "outputId": "860f4e87-1ecf-4ea8-91d0-656309f7efbf"
   },
   "outputs": [
    {
     "data": {
      "text/plain": [
       "{'alpha': 1}"
      ]
     },
     "execution_count": 69,
     "metadata": {
      "tags": []
     },
     "output_type": "execute_result"
    }
   ],
   "source": [
    "grid.best_params_"
   ]
  },
  {
   "cell_type": "code",
   "execution_count": 0,
   "metadata": {
    "colab": {},
    "colab_type": "code",
    "id": "JHXqNEMgR22S",
    "outputId": "e3355c69-c02f-42b1-d8b4-d6637180b544"
   },
   "outputs": [
    {
     "data": {
      "text/plain": [
       "0.8294285714285714"
      ]
     },
     "execution_count": 70,
     "metadata": {
      "tags": []
     },
     "output_type": "execute_result"
    }
   ],
   "source": [
    "grid.best_score_"
   ]
  },
  {
   "cell_type": "code",
   "execution_count": 0,
   "metadata": {
    "colab": {},
    "colab_type": "code",
    "id": "laOq6gE3R22a"
   },
   "outputs": [],
   "source": [
    "y_pred_g = grid.predict(test_count_vec)"
   ]
  },
  {
   "cell_type": "code",
   "execution_count": 0,
   "metadata": {
    "colab": {},
    "colab_type": "code",
    "id": "PdvrV53wR22n",
    "outputId": "89900bbe-97ad-4ae3-c410-93c1c3d7e31e",
    "scrolled": true
   },
   "outputs": [
    {
     "name": "stdout",
     "output_type": "stream",
     "text": [
      "[[1315  214]\n",
      " [ 287 1184]]\n"
     ]
    }
   ],
   "source": [
    "print(confusion_matrix(y_test,y_pred_g))"
   ]
  },
  {
   "cell_type": "code",
   "execution_count": 0,
   "metadata": {
    "colab": {},
    "colab_type": "code",
    "id": "MgIjLpv1R22s",
    "outputId": "04328369-cd72-4b46-cc74-b6bfc7de756b"
   },
   "outputs": [
    {
     "name": "stdout",
     "output_type": "stream",
     "text": [
      "0.833\n"
     ]
    }
   ],
   "source": [
    "print(accuracy_score(y_test,y_pred_g))"
   ]
  },
  {
   "cell_type": "code",
   "execution_count": 0,
   "metadata": {
    "colab": {},
    "colab_type": "code",
    "id": "moqZQw5tR22w",
    "outputId": "f3778077-ccd3-454a-ac75-c7f370f9143b"
   },
   "outputs": [
    {
     "name": "stdout",
     "output_type": "stream",
     "text": [
      "             precision    recall  f1-score   support\n",
      "\n",
      "          0       0.82      0.86      0.84      1529\n",
      "          1       0.85      0.80      0.83      1471\n",
      "\n",
      "avg / total       0.83      0.83      0.83      3000\n",
      "\n"
     ]
    }
   ],
   "source": [
    "print(classification_report(y_test,y_pred_g))"
   ]
  },
  {
   "cell_type": "markdown",
   "metadata": {
    "colab_type": "text",
    "id": "61GuquP7R221"
   },
   "source": [
    "## Decision Tree"
   ]
  },
  {
   "cell_type": "code",
   "execution_count": 0,
   "metadata": {
    "colab": {},
    "colab_type": "code",
    "id": "s-v4lBD0R221"
   },
   "outputs": [],
   "source": [
    "clf_dt = DecisionTreeClassifier()"
   ]
  },
  {
   "cell_type": "code",
   "execution_count": 0,
   "metadata": {
    "colab": {},
    "colab_type": "code",
    "id": "CjZQqRUaR225",
    "outputId": "bcf62ca2-d684-4910-873b-e035d140fea9"
   },
   "outputs": [
    {
     "data": {
      "text/plain": [
       "DecisionTreeClassifier(class_weight=None, criterion='gini', max_depth=None,\n",
       "            max_features=None, max_leaf_nodes=None,\n",
       "            min_impurity_decrease=0.0, min_impurity_split=None,\n",
       "            min_samples_leaf=1, min_samples_split=2,\n",
       "            min_weight_fraction_leaf=0.0, presort=False, random_state=None,\n",
       "            splitter='best')"
      ]
     },
     "execution_count": 78,
     "metadata": {
      "tags": []
     },
     "output_type": "execute_result"
    }
   ],
   "source": [
    "clf_dt.fit(train_count_vec,y_train) "
   ]
  },
  {
   "cell_type": "code",
   "execution_count": 0,
   "metadata": {
    "colab": {},
    "colab_type": "code",
    "id": "9HD5wvTcR229"
   },
   "outputs": [],
   "source": [
    "y_pred1 = clf_dt.predict(test_count_vec)"
   ]
  },
  {
   "cell_type": "markdown",
   "metadata": {
    "colab_type": "text",
    "id": "aW8h3v1UR23E"
   },
   "source": [
    "## Model Evaluation"
   ]
  },
  {
   "cell_type": "code",
   "execution_count": 0,
   "metadata": {
    "colab": {},
    "colab_type": "code",
    "id": "KDkeZUiCR23F",
    "outputId": "c1d11ac5-29bb-4638-bad1-5ac5195993b8"
   },
   "outputs": [
    {
     "name": "stdout",
     "output_type": "stream",
     "text": [
      "[[1070  459]\n",
      " [ 397 1074]]\n"
     ]
    }
   ],
   "source": [
    "print(confusion_matrix(y_test,y_pred1))"
   ]
  },
  {
   "cell_type": "code",
   "execution_count": 0,
   "metadata": {
    "colab": {},
    "colab_type": "code",
    "id": "vkh5rmyfR23L",
    "outputId": "9dd1f24a-0a53-464e-ceb6-d74e66e7ad0a"
   },
   "outputs": [
    {
     "name": "stdout",
     "output_type": "stream",
     "text": [
      "0.7146666666666667\n"
     ]
    }
   ],
   "source": [
    "print(accuracy_score(y_test,y_pred1))"
   ]
  },
  {
   "cell_type": "code",
   "execution_count": 0,
   "metadata": {
    "colab": {},
    "colab_type": "code",
    "id": "AayqCDFBR23T",
    "outputId": "41324862-4f55-4db5-ace3-a56eab8df10f"
   },
   "outputs": [
    {
     "name": "stdout",
     "output_type": "stream",
     "text": [
      "             precision    recall  f1-score   support\n",
      "\n",
      "          0       0.73      0.70      0.71      1529\n",
      "          1       0.70      0.73      0.72      1471\n",
      "\n",
      "avg / total       0.72      0.71      0.71      3000\n",
      "\n"
     ]
    }
   ],
   "source": [
    "print(classification_report(y_test,y_pred1))"
   ]
  },
  {
   "cell_type": "markdown",
   "metadata": {
    "colab_type": "text",
    "id": "IH1wDenIR23g"
   },
   "source": [
    "## Hyperparameter Tunning : GridSearchCV "
   ]
  },
  {
   "cell_type": "code",
   "execution_count": 0,
   "metadata": {
    "colab": {},
    "colab_type": "code",
    "id": "C6SP-Z4VR23i"
   },
   "outputs": [],
   "source": [
    "param_grid = {\n",
    "    'criterion':['gini','entropy'], \n",
    "    'max_leaf_nodes': list(range(2, 50)),\n",
    "    'min_samples_split':[2, 3, 4]\n",
    "}"
   ]
  },
  {
   "cell_type": "code",
   "execution_count": 0,
   "metadata": {
    "colab": {},
    "colab_type": "code",
    "id": "FNQGFqF_R23r"
   },
   "outputs": [],
   "source": [
    "grid1 = GridSearchCV(clf_dt,param_grid,verbose=3)"
   ]
  },
  {
   "cell_type": "code",
   "execution_count": 0,
   "metadata": {
    "colab": {},
    "colab_type": "code",
    "id": "s2PzBWNHR237",
    "outputId": "eaaa94c2-27e9-451e-fdc1-d68e3c730d14"
   },
   "outputs": [
    {
     "name": "stdout",
     "output_type": "stream",
     "text": [
      "Fitting 3 folds for each of 168 candidates, totalling 504 fits\n",
      "[CV] criterion=gini, max_leaf_nodes=2, min_samples_split=2 ...........\n",
      "[CV]  criterion=gini, max_leaf_nodes=2, min_samples_split=2, score=0.618252 -   0.3s\n",
      "[CV] criterion=gini, max_leaf_nodes=2, min_samples_split=2 ...........\n"
     ]
    },
    {
     "name": "stderr",
     "output_type": "stream",
     "text": [
      "[Parallel(n_jobs=1)]: Done   1 out of   1 | elapsed:    0.3s remaining:    0.0s\n"
     ]
    },
    {
     "name": "stdout",
     "output_type": "stream",
     "text": [
      "[CV]  criterion=gini, max_leaf_nodes=2, min_samples_split=2, score=0.600514 -   0.3s\n",
      "[CV] criterion=gini, max_leaf_nodes=2, min_samples_split=2 ...........\n"
     ]
    },
    {
     "name": "stderr",
     "output_type": "stream",
     "text": [
      "[Parallel(n_jobs=1)]: Done   2 out of   2 | elapsed:    0.8s remaining:    0.0s\n"
     ]
    },
    {
     "name": "stdout",
     "output_type": "stream",
     "text": [
      "[CV]  criterion=gini, max_leaf_nodes=2, min_samples_split=2, score=0.608658 -   0.3s\n",
      "[CV] criterion=gini, max_leaf_nodes=2, min_samples_split=3 ...........\n",
      "[CV]  criterion=gini, max_leaf_nodes=2, min_samples_split=3, score=0.618252 -   0.3s\n",
      "[CV] criterion=gini, max_leaf_nodes=2, min_samples_split=3 ...........\n",
      "[CV]  criterion=gini, max_leaf_nodes=2, min_samples_split=3, score=0.600514 -   0.4s\n",
      "[CV] criterion=gini, max_leaf_nodes=2, min_samples_split=3 ...........\n",
      "[CV]  criterion=gini, max_leaf_nodes=2, min_samples_split=3, score=0.608658 -   0.3s\n",
      "[CV] criterion=gini, max_leaf_nodes=2, min_samples_split=4 ...........\n",
      "[CV]  criterion=gini, max_leaf_nodes=2, min_samples_split=4, score=0.618252 -   0.3s\n",
      "[CV] criterion=gini, max_leaf_nodes=2, min_samples_split=4 ...........\n",
      "[CV]  criterion=gini, max_leaf_nodes=2, min_samples_split=4, score=0.600514 -   0.3s\n",
      "[CV] criterion=gini, max_leaf_nodes=2, min_samples_split=4 ...........\n",
      "[CV]  criterion=gini, max_leaf_nodes=2, min_samples_split=4, score=0.608658 -   0.3s\n",
      "[CV] criterion=gini, max_leaf_nodes=3, min_samples_split=2 ...........\n",
      "[CV]  criterion=gini, max_leaf_nodes=3, min_samples_split=2, score=0.618252 -   0.4s\n",
      "[CV] criterion=gini, max_leaf_nodes=3, min_samples_split=2 ...........\n",
      "[CV]  criterion=gini, max_leaf_nodes=3, min_samples_split=2, score=0.600514 -   0.6s\n",
      "[CV] criterion=gini, max_leaf_nodes=3, min_samples_split=2 ...........\n",
      "[CV]  criterion=gini, max_leaf_nodes=3, min_samples_split=2, score=0.608658 -   0.5s\n",
      "[CV] criterion=gini, max_leaf_nodes=3, min_samples_split=3 ...........\n",
      "[CV]  criterion=gini, max_leaf_nodes=3, min_samples_split=3, score=0.618252 -   0.6s\n",
      "[CV] criterion=gini, max_leaf_nodes=3, min_samples_split=3 ...........\n",
      "[CV]  criterion=gini, max_leaf_nodes=3, min_samples_split=3, score=0.600514 -   0.5s\n",
      "[CV] criterion=gini, max_leaf_nodes=3, min_samples_split=3 ...........\n",
      "[CV]  criterion=gini, max_leaf_nodes=3, min_samples_split=3, score=0.608658 -   0.4s\n",
      "[CV] criterion=gini, max_leaf_nodes=3, min_samples_split=4 ...........\n",
      "[CV]  criterion=gini, max_leaf_nodes=3, min_samples_split=4, score=0.618252 -   0.6s\n",
      "[CV] criterion=gini, max_leaf_nodes=3, min_samples_split=4 ...........\n",
      "[CV]  criterion=gini, max_leaf_nodes=3, min_samples_split=4, score=0.600514 -   0.4s\n",
      "[CV] criterion=gini, max_leaf_nodes=3, min_samples_split=4 ...........\n",
      "[CV]  criterion=gini, max_leaf_nodes=3, min_samples_split=4, score=0.608658 -   0.5s\n",
      "[CV] criterion=gini, max_leaf_nodes=4, min_samples_split=2 ...........\n",
      "[CV]  criterion=gini, max_leaf_nodes=4, min_samples_split=2, score=0.651671 -   0.6s\n",
      "[CV] criterion=gini, max_leaf_nodes=4, min_samples_split=2 ...........\n",
      "[CV]  criterion=gini, max_leaf_nodes=4, min_samples_split=2, score=0.636520 -   1.0s\n",
      "[CV] criterion=gini, max_leaf_nodes=4, min_samples_split=2 ...........\n",
      "[CV]  criterion=gini, max_leaf_nodes=4, min_samples_split=2, score=0.643378 -   0.7s\n",
      "[CV] criterion=gini, max_leaf_nodes=4, min_samples_split=3 ...........\n",
      "[CV]  criterion=gini, max_leaf_nodes=4, min_samples_split=3, score=0.651671 -   0.7s\n",
      "[CV] criterion=gini, max_leaf_nodes=4, min_samples_split=3 ...........\n",
      "[CV]  criterion=gini, max_leaf_nodes=4, min_samples_split=3, score=0.636520 -   0.7s\n",
      "[CV] criterion=gini, max_leaf_nodes=4, min_samples_split=3 ...........\n",
      "[CV]  criterion=gini, max_leaf_nodes=4, min_samples_split=3, score=0.643378 -   0.5s\n",
      "[CV] criterion=gini, max_leaf_nodes=4, min_samples_split=4 ...........\n",
      "[CV]  criterion=gini, max_leaf_nodes=4, min_samples_split=4, score=0.651671 -   0.7s\n",
      "[CV] criterion=gini, max_leaf_nodes=4, min_samples_split=4 ...........\n",
      "[CV]  criterion=gini, max_leaf_nodes=4, min_samples_split=4, score=0.636520 -   0.6s\n",
      "[CV] criterion=gini, max_leaf_nodes=4, min_samples_split=4 ...........\n",
      "[CV]  criterion=gini, max_leaf_nodes=4, min_samples_split=4, score=0.643378 -   0.7s\n",
      "[CV] criterion=gini, max_leaf_nodes=5, min_samples_split=2 ...........\n",
      "[CV]  criterion=gini, max_leaf_nodes=5, min_samples_split=2, score=0.669666 -   0.7s\n",
      "[CV] criterion=gini, max_leaf_nodes=5, min_samples_split=2 ...........\n",
      "[CV]  criterion=gini, max_leaf_nodes=5, min_samples_split=2, score=0.656665 -   0.8s\n",
      "[CV] criterion=gini, max_leaf_nodes=5, min_samples_split=2 ...........\n",
      "[CV]  criterion=gini, max_leaf_nodes=5, min_samples_split=2, score=0.663095 -   0.8s\n",
      "[CV] criterion=gini, max_leaf_nodes=5, min_samples_split=3 ...........\n",
      "[CV]  criterion=gini, max_leaf_nodes=5, min_samples_split=3, score=0.669666 -   0.8s\n",
      "[CV] criterion=gini, max_leaf_nodes=5, min_samples_split=3 ...........\n",
      "[CV]  criterion=gini, max_leaf_nodes=5, min_samples_split=3, score=0.656665 -   1.0s\n",
      "[CV] criterion=gini, max_leaf_nodes=5, min_samples_split=3 ...........\n",
      "[CV]  criterion=gini, max_leaf_nodes=5, min_samples_split=3, score=0.663095 -   0.8s\n",
      "[CV] criterion=gini, max_leaf_nodes=5, min_samples_split=4 ...........\n",
      "[CV]  criterion=gini, max_leaf_nodes=5, min_samples_split=4, score=0.669666 -   0.7s\n",
      "[CV] criterion=gini, max_leaf_nodes=5, min_samples_split=4 ...........\n",
      "[CV]  criterion=gini, max_leaf_nodes=5, min_samples_split=4, score=0.656665 -   0.9s\n",
      "[CV] criterion=gini, max_leaf_nodes=5, min_samples_split=4 ...........\n",
      "[CV]  criterion=gini, max_leaf_nodes=5, min_samples_split=4, score=0.663095 -   0.8s\n",
      "[CV] criterion=gini, max_leaf_nodes=6, min_samples_split=2 ...........\n",
      "[CV]  criterion=gini, max_leaf_nodes=6, min_samples_split=2, score=0.669666 -   0.9s\n",
      "[CV] criterion=gini, max_leaf_nodes=6, min_samples_split=2 ...........\n",
      "[CV]  criterion=gini, max_leaf_nodes=6, min_samples_split=2, score=0.656665 -   1.1s\n",
      "[CV] criterion=gini, max_leaf_nodes=6, min_samples_split=2 ...........\n",
      "[CV]  criterion=gini, max_leaf_nodes=6, min_samples_split=2, score=0.674668 -   1.2s\n",
      "[CV] criterion=gini, max_leaf_nodes=6, min_samples_split=3 ...........\n",
      "[CV]  criterion=gini, max_leaf_nodes=6, min_samples_split=3, score=0.669666 -   1.0s\n",
      "[CV] criterion=gini, max_leaf_nodes=6, min_samples_split=3 ...........\n",
      "[CV]  criterion=gini, max_leaf_nodes=6, min_samples_split=3, score=0.656665 -   1.0s\n",
      "[CV] criterion=gini, max_leaf_nodes=6, min_samples_split=3 ...........\n",
      "[CV]  criterion=gini, max_leaf_nodes=6, min_samples_split=3, score=0.674668 -   1.0s\n",
      "[CV] criterion=gini, max_leaf_nodes=6, min_samples_split=4 ...........\n",
      "[CV]  criterion=gini, max_leaf_nodes=6, min_samples_split=4, score=0.669666 -   1.1s\n",
      "[CV] criterion=gini, max_leaf_nodes=6, min_samples_split=4 ...........\n",
      "[CV]  criterion=gini, max_leaf_nodes=6, min_samples_split=4, score=0.656665 -   1.0s\n",
      "[CV] criterion=gini, max_leaf_nodes=6, min_samples_split=4 ...........\n",
      "[CV]  criterion=gini, max_leaf_nodes=6, min_samples_split=4, score=0.674668 -   1.1s\n",
      "[CV] criterion=gini, max_leaf_nodes=7, min_samples_split=2 ...........\n",
      "[CV]  criterion=gini, max_leaf_nodes=7, min_samples_split=2, score=0.685947 -   1.2s\n",
      "[CV] criterion=gini, max_leaf_nodes=7, min_samples_split=2 ...........\n",
      "[CV]  criterion=gini, max_leaf_nodes=7, min_samples_split=2, score=0.656665 -   1.2s\n",
      "[CV] criterion=gini, max_leaf_nodes=7, min_samples_split=2 ...........\n",
      "[CV]  criterion=gini, max_leaf_nodes=7, min_samples_split=2, score=0.674668 -   1.1s\n",
      "[CV] criterion=gini, max_leaf_nodes=7, min_samples_split=3 ...........\n",
      "[CV]  criterion=gini, max_leaf_nodes=7, min_samples_split=3, score=0.685947 -   1.1s\n",
      "[CV] criterion=gini, max_leaf_nodes=7, min_samples_split=3 ...........\n",
      "[CV]  criterion=gini, max_leaf_nodes=7, min_samples_split=3, score=0.656665 -   1.1s\n",
      "[CV] criterion=gini, max_leaf_nodes=7, min_samples_split=3 ...........\n",
      "[CV]  criterion=gini, max_leaf_nodes=7, min_samples_split=3, score=0.674668 -   1.2s\n",
      "[CV] criterion=gini, max_leaf_nodes=7, min_samples_split=4 ...........\n",
      "[CV]  criterion=gini, max_leaf_nodes=7, min_samples_split=4, score=0.685947 -   1.2s\n",
      "[CV] criterion=gini, max_leaf_nodes=7, min_samples_split=4 ...........\n",
      "[CV]  criterion=gini, max_leaf_nodes=7, min_samples_split=4, score=0.656665 -   1.1s\n",
      "[CV] criterion=gini, max_leaf_nodes=7, min_samples_split=4 ...........\n",
      "[CV]  criterion=gini, max_leaf_nodes=7, min_samples_split=4, score=0.674668 -   1.0s\n",
      "[CV] criterion=gini, max_leaf_nodes=8, min_samples_split=2 ...........\n",
      "[CV]  criterion=gini, max_leaf_nodes=8, min_samples_split=2, score=0.685947 -   1.1s\n",
      "[CV] criterion=gini, max_leaf_nodes=8, min_samples_split=2 ...........\n"
     ]
    },
    {
     "name": "stdout",
     "output_type": "stream",
     "text": [
      "[CV]  criterion=gini, max_leaf_nodes=8, min_samples_split=2, score=0.656665 -   1.4s\n",
      "[CV] criterion=gini, max_leaf_nodes=8, min_samples_split=2 ...........\n",
      "[CV]  criterion=gini, max_leaf_nodes=8, min_samples_split=2, score=0.674668 -   1.5s\n",
      "[CV] criterion=gini, max_leaf_nodes=8, min_samples_split=3 ...........\n",
      "[CV]  criterion=gini, max_leaf_nodes=8, min_samples_split=3, score=0.685947 -   1.3s\n",
      "[CV] criterion=gini, max_leaf_nodes=8, min_samples_split=3 ...........\n",
      "[CV]  criterion=gini, max_leaf_nodes=8, min_samples_split=3, score=0.656665 -   1.5s\n",
      "[CV] criterion=gini, max_leaf_nodes=8, min_samples_split=3 ...........\n",
      "[CV]  criterion=gini, max_leaf_nodes=8, min_samples_split=3, score=0.674668 -   1.2s\n",
      "[CV] criterion=gini, max_leaf_nodes=8, min_samples_split=4 ...........\n",
      "[CV]  criterion=gini, max_leaf_nodes=8, min_samples_split=4, score=0.685947 -   1.1s\n",
      "[CV] criterion=gini, max_leaf_nodes=8, min_samples_split=4 ...........\n",
      "[CV]  criterion=gini, max_leaf_nodes=8, min_samples_split=4, score=0.656665 -   1.1s\n",
      "[CV] criterion=gini, max_leaf_nodes=8, min_samples_split=4 ...........\n",
      "[CV]  criterion=gini, max_leaf_nodes=8, min_samples_split=4, score=0.674668 -   1.3s\n",
      "[CV] criterion=gini, max_leaf_nodes=9, min_samples_split=2 ...........\n",
      "[CV]  criterion=gini, max_leaf_nodes=9, min_samples_split=2, score=0.685947 -   1.5s\n",
      "[CV] criterion=gini, max_leaf_nodes=9, min_samples_split=2 ...........\n",
      "[CV]  criterion=gini, max_leaf_nodes=9, min_samples_split=2, score=0.657523 -   1.2s\n",
      "[CV] criterion=gini, max_leaf_nodes=9, min_samples_split=2 ...........\n",
      "[CV]  criterion=gini, max_leaf_nodes=9, min_samples_split=2, score=0.674668 -   1.3s\n",
      "[CV] criterion=gini, max_leaf_nodes=9, min_samples_split=3 ...........\n",
      "[CV]  criterion=gini, max_leaf_nodes=9, min_samples_split=3, score=0.685947 -   1.3s\n",
      "[CV] criterion=gini, max_leaf_nodes=9, min_samples_split=3 ...........\n",
      "[CV]  criterion=gini, max_leaf_nodes=9, min_samples_split=3, score=0.657523 -   1.2s\n",
      "[CV] criterion=gini, max_leaf_nodes=9, min_samples_split=3 ...........\n",
      "[CV]  criterion=gini, max_leaf_nodes=9, min_samples_split=3, score=0.674668 -   1.2s\n",
      "[CV] criterion=gini, max_leaf_nodes=9, min_samples_split=4 ...........\n",
      "[CV]  criterion=gini, max_leaf_nodes=9, min_samples_split=4, score=0.685947 -   1.3s\n",
      "[CV] criterion=gini, max_leaf_nodes=9, min_samples_split=4 ...........\n",
      "[CV]  criterion=gini, max_leaf_nodes=9, min_samples_split=4, score=0.657523 -   1.3s\n",
      "[CV] criterion=gini, max_leaf_nodes=9, min_samples_split=4 ...........\n",
      "[CV]  criterion=gini, max_leaf_nodes=9, min_samples_split=4, score=0.674668 -   1.3s\n",
      "[CV] criterion=gini, max_leaf_nodes=10, min_samples_split=2 ..........\n",
      "[CV]  criterion=gini, max_leaf_nodes=10, min_samples_split=2, score=0.685947 -   1.4s\n",
      "[CV] criterion=gini, max_leaf_nodes=10, min_samples_split=2 ..........\n",
      "[CV]  criterion=gini, max_leaf_nodes=10, min_samples_split=2, score=0.657523 -   1.4s\n",
      "[CV] criterion=gini, max_leaf_nodes=10, min_samples_split=2 ..........\n",
      "[CV]  criterion=gini, max_leaf_nodes=10, min_samples_split=2, score=0.674668 -   1.7s\n",
      "[CV] criterion=gini, max_leaf_nodes=10, min_samples_split=3 ..........\n",
      "[CV]  criterion=gini, max_leaf_nodes=10, min_samples_split=3, score=0.685947 -   1.5s\n",
      "[CV] criterion=gini, max_leaf_nodes=10, min_samples_split=3 ..........\n",
      "[CV]  criterion=gini, max_leaf_nodes=10, min_samples_split=3, score=0.657523 -   1.5s\n",
      "[CV] criterion=gini, max_leaf_nodes=10, min_samples_split=3 ..........\n",
      "[CV]  criterion=gini, max_leaf_nodes=10, min_samples_split=3, score=0.674668 -   1.5s\n",
      "[CV] criterion=gini, max_leaf_nodes=10, min_samples_split=4 ..........\n",
      "[CV]  criterion=gini, max_leaf_nodes=10, min_samples_split=4, score=0.685947 -   1.4s\n",
      "[CV] criterion=gini, max_leaf_nodes=10, min_samples_split=4 ..........\n",
      "[CV]  criterion=gini, max_leaf_nodes=10, min_samples_split=4, score=0.657523 -   1.4s\n",
      "[CV] criterion=gini, max_leaf_nodes=10, min_samples_split=4 ..........\n",
      "[CV]  criterion=gini, max_leaf_nodes=10, min_samples_split=4, score=0.674668 -   1.6s\n",
      "[CV] criterion=gini, max_leaf_nodes=11, min_samples_split=2 ..........\n",
      "[CV]  criterion=gini, max_leaf_nodes=11, min_samples_split=2, score=0.685947 -   1.8s\n",
      "[CV] criterion=gini, max_leaf_nodes=11, min_samples_split=2 ..........\n",
      "[CV]  criterion=gini, max_leaf_nodes=11, min_samples_split=2, score=0.684098 -   1.6s\n",
      "[CV] criterion=gini, max_leaf_nodes=11, min_samples_split=2 ..........\n",
      "[CV]  criterion=gini, max_leaf_nodes=11, min_samples_split=2, score=0.674668 -   1.7s\n",
      "[CV] criterion=gini, max_leaf_nodes=11, min_samples_split=3 ..........\n",
      "[CV]  criterion=gini, max_leaf_nodes=11, min_samples_split=3, score=0.685947 -   1.9s\n",
      "[CV] criterion=gini, max_leaf_nodes=11, min_samples_split=3 ..........\n",
      "[CV]  criterion=gini, max_leaf_nodes=11, min_samples_split=3, score=0.684098 -   1.7s\n",
      "[CV] criterion=gini, max_leaf_nodes=11, min_samples_split=3 ..........\n",
      "[CV]  criterion=gini, max_leaf_nodes=11, min_samples_split=3, score=0.674668 -   1.6s\n",
      "[CV] criterion=gini, max_leaf_nodes=11, min_samples_split=4 ..........\n",
      "[CV]  criterion=gini, max_leaf_nodes=11, min_samples_split=4, score=0.685947 -   1.5s\n",
      "[CV] criterion=gini, max_leaf_nodes=11, min_samples_split=4 ..........\n",
      "[CV]  criterion=gini, max_leaf_nodes=11, min_samples_split=4, score=0.684098 -   1.4s\n",
      "[CV] criterion=gini, max_leaf_nodes=11, min_samples_split=4 ..........\n",
      "[CV]  criterion=gini, max_leaf_nodes=11, min_samples_split=4, score=0.674668 -   1.5s\n",
      "[CV] criterion=gini, max_leaf_nodes=12, min_samples_split=2 ..........\n",
      "[CV]  criterion=gini, max_leaf_nodes=12, min_samples_split=2, score=0.689803 -   1.6s\n",
      "[CV] criterion=gini, max_leaf_nodes=12, min_samples_split=2 ..........\n",
      "[CV]  criterion=gini, max_leaf_nodes=12, min_samples_split=2, score=0.684098 -   1.6s\n",
      "[CV] criterion=gini, max_leaf_nodes=12, min_samples_split=2 ..........\n",
      "[CV]  criterion=gini, max_leaf_nodes=12, min_samples_split=2, score=0.674668 -   1.6s\n",
      "[CV] criterion=gini, max_leaf_nodes=12, min_samples_split=3 ..........\n",
      "[CV]  criterion=gini, max_leaf_nodes=12, min_samples_split=3, score=0.689803 -   1.7s\n",
      "[CV] criterion=gini, max_leaf_nodes=12, min_samples_split=3 ..........\n",
      "[CV]  criterion=gini, max_leaf_nodes=12, min_samples_split=3, score=0.684098 -   1.6s\n",
      "[CV] criterion=gini, max_leaf_nodes=12, min_samples_split=3 ..........\n",
      "[CV]  criterion=gini, max_leaf_nodes=12, min_samples_split=3, score=0.674668 -   1.5s\n",
      "[CV] criterion=gini, max_leaf_nodes=12, min_samples_split=4 ..........\n",
      "[CV]  criterion=gini, max_leaf_nodes=12, min_samples_split=4, score=0.689803 -   1.6s\n",
      "[CV] criterion=gini, max_leaf_nodes=12, min_samples_split=4 ..........\n",
      "[CV]  criterion=gini, max_leaf_nodes=12, min_samples_split=4, score=0.684098 -   1.6s\n",
      "[CV] criterion=gini, max_leaf_nodes=12, min_samples_split=4 ..........\n",
      "[CV]  criterion=gini, max_leaf_nodes=12, min_samples_split=4, score=0.674668 -   1.6s\n",
      "[CV] criterion=gini, max_leaf_nodes=13, min_samples_split=2 ..........\n",
      "[CV]  criterion=gini, max_leaf_nodes=13, min_samples_split=2, score=0.689803 -   1.7s\n",
      "[CV] criterion=gini, max_leaf_nodes=13, min_samples_split=2 ..........\n",
      "[CV]  criterion=gini, max_leaf_nodes=13, min_samples_split=2, score=0.684098 -   1.7s\n",
      "[CV] criterion=gini, max_leaf_nodes=13, min_samples_split=2 ..........\n",
      "[CV]  criterion=gini, max_leaf_nodes=13, min_samples_split=2, score=0.677240 -   1.6s\n",
      "[CV] criterion=gini, max_leaf_nodes=13, min_samples_split=3 ..........\n",
      "[CV]  criterion=gini, max_leaf_nodes=13, min_samples_split=3, score=0.689803 -   2.0s\n",
      "[CV] criterion=gini, max_leaf_nodes=13, min_samples_split=3 ..........\n",
      "[CV]  criterion=gini, max_leaf_nodes=13, min_samples_split=3, score=0.684098 -   1.7s\n",
      "[CV] criterion=gini, max_leaf_nodes=13, min_samples_split=3 ..........\n",
      "[CV]  criterion=gini, max_leaf_nodes=13, min_samples_split=3, score=0.677240 -   1.6s\n",
      "[CV] criterion=gini, max_leaf_nodes=13, min_samples_split=4 ..........\n",
      "[CV]  criterion=gini, max_leaf_nodes=13, min_samples_split=4, score=0.689803 -   1.7s\n",
      "[CV] criterion=gini, max_leaf_nodes=13, min_samples_split=4 ..........\n",
      "[CV]  criterion=gini, max_leaf_nodes=13, min_samples_split=4, score=0.684098 -   1.6s\n",
      "[CV] criterion=gini, max_leaf_nodes=13, min_samples_split=4 ..........\n",
      "[CV]  criterion=gini, max_leaf_nodes=13, min_samples_split=4, score=0.677240 -   1.7s\n",
      "[CV] criterion=gini, max_leaf_nodes=14, min_samples_split=2 ..........\n"
     ]
    },
    {
     "name": "stdout",
     "output_type": "stream",
     "text": [
      "[CV]  criterion=gini, max_leaf_nodes=14, min_samples_split=2, score=0.691945 -   1.9s\n",
      "[CV] criterion=gini, max_leaf_nodes=14, min_samples_split=2 ..........\n",
      "[CV]  criterion=gini, max_leaf_nodes=14, min_samples_split=2, score=0.684098 -   1.8s\n",
      "[CV] criterion=gini, max_leaf_nodes=14, min_samples_split=2 ..........\n",
      "[CV]  criterion=gini, max_leaf_nodes=14, min_samples_split=2, score=0.682812 -   1.8s\n",
      "[CV] criterion=gini, max_leaf_nodes=14, min_samples_split=3 ..........\n",
      "[CV]  criterion=gini, max_leaf_nodes=14, min_samples_split=3, score=0.691945 -   1.9s\n",
      "[CV] criterion=gini, max_leaf_nodes=14, min_samples_split=3 ..........\n",
      "[CV]  criterion=gini, max_leaf_nodes=14, min_samples_split=3, score=0.684098 -   1.8s\n",
      "[CV] criterion=gini, max_leaf_nodes=14, min_samples_split=3 ..........\n",
      "[CV]  criterion=gini, max_leaf_nodes=14, min_samples_split=3, score=0.682812 -   1.9s\n",
      "[CV] criterion=gini, max_leaf_nodes=14, min_samples_split=4 ..........\n",
      "[CV]  criterion=gini, max_leaf_nodes=14, min_samples_split=4, score=0.691945 -   2.0s\n",
      "[CV] criterion=gini, max_leaf_nodes=14, min_samples_split=4 ..........\n",
      "[CV]  criterion=gini, max_leaf_nodes=14, min_samples_split=4, score=0.684098 -   2.0s\n",
      "[CV] criterion=gini, max_leaf_nodes=14, min_samples_split=4 ..........\n",
      "[CV]  criterion=gini, max_leaf_nodes=14, min_samples_split=4, score=0.682812 -   1.8s\n",
      "[CV] criterion=gini, max_leaf_nodes=15, min_samples_split=2 ..........\n",
      "[CV]  criterion=gini, max_leaf_nodes=15, min_samples_split=2, score=0.704799 -   1.9s\n",
      "[CV] criterion=gini, max_leaf_nodes=15, min_samples_split=2 ..........\n",
      "[CV]  criterion=gini, max_leaf_nodes=15, min_samples_split=2, score=0.687527 -   2.0s\n",
      "[CV] criterion=gini, max_leaf_nodes=15, min_samples_split=2 ..........\n",
      "[CV]  criterion=gini, max_leaf_nodes=15, min_samples_split=2, score=0.690956 -   2.1s\n",
      "[CV] criterion=gini, max_leaf_nodes=15, min_samples_split=3 ..........\n",
      "[CV]  criterion=gini, max_leaf_nodes=15, min_samples_split=3, score=0.704799 -   1.8s\n",
      "[CV] criterion=gini, max_leaf_nodes=15, min_samples_split=3 ..........\n",
      "[CV]  criterion=gini, max_leaf_nodes=15, min_samples_split=3, score=0.687527 -   1.9s\n",
      "[CV] criterion=gini, max_leaf_nodes=15, min_samples_split=3 ..........\n",
      "[CV]  criterion=gini, max_leaf_nodes=15, min_samples_split=3, score=0.690956 -   1.9s\n",
      "[CV] criterion=gini, max_leaf_nodes=15, min_samples_split=4 ..........\n",
      "[CV]  criterion=gini, max_leaf_nodes=15, min_samples_split=4, score=0.704799 -   1.8s\n",
      "[CV] criterion=gini, max_leaf_nodes=15, min_samples_split=4 ..........\n",
      "[CV]  criterion=gini, max_leaf_nodes=15, min_samples_split=4, score=0.687527 -   2.0s\n",
      "[CV] criterion=gini, max_leaf_nodes=15, min_samples_split=4 ..........\n",
      "[CV]  criterion=gini, max_leaf_nodes=15, min_samples_split=4, score=0.690956 -   1.8s\n",
      "[CV] criterion=gini, max_leaf_nodes=16, min_samples_split=2 ..........\n",
      "[CV]  criterion=gini, max_leaf_nodes=16, min_samples_split=2, score=0.705656 -   2.2s\n",
      "[CV] criterion=gini, max_leaf_nodes=16, min_samples_split=2 ..........\n",
      "[CV]  criterion=gini, max_leaf_nodes=16, min_samples_split=2, score=0.698243 -   2.1s\n",
      "[CV] criterion=gini, max_leaf_nodes=16, min_samples_split=2 ..........\n",
      "[CV]  criterion=gini, max_leaf_nodes=16, min_samples_split=2, score=0.697814 -   2.0s\n",
      "[CV] criterion=gini, max_leaf_nodes=16, min_samples_split=3 ..........\n",
      "[CV]  criterion=gini, max_leaf_nodes=16, min_samples_split=3, score=0.705656 -   2.0s\n",
      "[CV] criterion=gini, max_leaf_nodes=16, min_samples_split=3 ..........\n",
      "[CV]  criterion=gini, max_leaf_nodes=16, min_samples_split=3, score=0.698243 -   2.0s\n",
      "[CV] criterion=gini, max_leaf_nodes=16, min_samples_split=3 ..........\n",
      "[CV]  criterion=gini, max_leaf_nodes=16, min_samples_split=3, score=0.697814 -   2.0s\n",
      "[CV] criterion=gini, max_leaf_nodes=16, min_samples_split=4 ..........\n",
      "[CV]  criterion=gini, max_leaf_nodes=16, min_samples_split=4, score=0.705656 -   2.0s\n",
      "[CV] criterion=gini, max_leaf_nodes=16, min_samples_split=4 ..........\n",
      "[CV]  criterion=gini, max_leaf_nodes=16, min_samples_split=4, score=0.698243 -   2.2s\n",
      "[CV] criterion=gini, max_leaf_nodes=16, min_samples_split=4 ..........\n",
      "[CV]  criterion=gini, max_leaf_nodes=16, min_samples_split=4, score=0.697814 -   2.3s\n",
      "[CV] criterion=gini, max_leaf_nodes=17, min_samples_split=2 ..........\n",
      "[CV]  criterion=gini, max_leaf_nodes=17, min_samples_split=2, score=0.710797 -   2.0s\n",
      "[CV] criterion=gini, max_leaf_nodes=17, min_samples_split=2 ..........\n",
      "[CV]  criterion=gini, max_leaf_nodes=17, min_samples_split=2, score=0.700386 -   2.1s\n",
      "[CV] criterion=gini, max_leaf_nodes=17, min_samples_split=2 ..........\n",
      "[CV]  criterion=gini, max_leaf_nodes=17, min_samples_split=2, score=0.708958 -   1.9s\n",
      "[CV] criterion=gini, max_leaf_nodes=17, min_samples_split=3 ..........\n",
      "[CV]  criterion=gini, max_leaf_nodes=17, min_samples_split=3, score=0.710797 -   2.1s\n",
      "[CV] criterion=gini, max_leaf_nodes=17, min_samples_split=3 ..........\n",
      "[CV]  criterion=gini, max_leaf_nodes=17, min_samples_split=3, score=0.700386 -   2.0s\n",
      "[CV] criterion=gini, max_leaf_nodes=17, min_samples_split=3 ..........\n",
      "[CV]  criterion=gini, max_leaf_nodes=17, min_samples_split=3, score=0.708958 -   2.0s\n",
      "[CV] criterion=gini, max_leaf_nodes=17, min_samples_split=4 ..........\n",
      "[CV]  criterion=gini, max_leaf_nodes=17, min_samples_split=4, score=0.710797 -   2.3s\n",
      "[CV] criterion=gini, max_leaf_nodes=17, min_samples_split=4 ..........\n",
      "[CV]  criterion=gini, max_leaf_nodes=17, min_samples_split=4, score=0.700386 -   2.1s\n",
      "[CV] criterion=gini, max_leaf_nodes=17, min_samples_split=4 ..........\n",
      "[CV]  criterion=gini, max_leaf_nodes=17, min_samples_split=4, score=0.708958 -   2.1s\n",
      "[CV] criterion=gini, max_leaf_nodes=18, min_samples_split=2 ..........\n",
      "[CV]  criterion=gini, max_leaf_nodes=18, min_samples_split=2, score=0.709940 -   2.1s\n",
      "[CV] criterion=gini, max_leaf_nodes=18, min_samples_split=2 ..........\n",
      "[CV]  criterion=gini, max_leaf_nodes=18, min_samples_split=2, score=0.705958 -   2.1s\n",
      "[CV] criterion=gini, max_leaf_nodes=18, min_samples_split=2 ..........\n",
      "[CV]  criterion=gini, max_leaf_nodes=18, min_samples_split=2, score=0.711530 -   2.1s\n",
      "[CV] criterion=gini, max_leaf_nodes=18, min_samples_split=3 ..........\n",
      "[CV]  criterion=gini, max_leaf_nodes=18, min_samples_split=3, score=0.709940 -   2.1s\n",
      "[CV] criterion=gini, max_leaf_nodes=18, min_samples_split=3 ..........\n",
      "[CV]  criterion=gini, max_leaf_nodes=18, min_samples_split=3, score=0.705958 -   2.4s\n",
      "[CV] criterion=gini, max_leaf_nodes=18, min_samples_split=3 ..........\n",
      "[CV]  criterion=gini, max_leaf_nodes=18, min_samples_split=3, score=0.711530 -   2.2s\n",
      "[CV] criterion=gini, max_leaf_nodes=18, min_samples_split=4 ..........\n",
      "[CV]  criterion=gini, max_leaf_nodes=18, min_samples_split=4, score=0.709940 -   2.1s\n",
      "[CV] criterion=gini, max_leaf_nodes=18, min_samples_split=4 ..........\n",
      "[CV]  criterion=gini, max_leaf_nodes=18, min_samples_split=4, score=0.705958 -   2.2s\n",
      "[CV] criterion=gini, max_leaf_nodes=18, min_samples_split=4 ..........\n",
      "[CV]  criterion=gini, max_leaf_nodes=18, min_samples_split=4, score=0.711530 -   2.1s\n",
      "[CV] criterion=gini, max_leaf_nodes=19, min_samples_split=2 ..........\n",
      "[CV]  criterion=gini, max_leaf_nodes=19, min_samples_split=2, score=0.716367 -   2.3s\n",
      "[CV] criterion=gini, max_leaf_nodes=19, min_samples_split=2 ..........\n",
      "[CV]  criterion=gini, max_leaf_nodes=19, min_samples_split=2, score=0.710244 -   2.3s\n",
      "[CV] criterion=gini, max_leaf_nodes=19, min_samples_split=2 ..........\n",
      "[CV]  criterion=gini, max_leaf_nodes=19, min_samples_split=2, score=0.715388 -   2.5s\n",
      "[CV] criterion=gini, max_leaf_nodes=19, min_samples_split=3 ..........\n",
      "[CV]  criterion=gini, max_leaf_nodes=19, min_samples_split=3, score=0.716367 -   2.2s\n",
      "[CV] criterion=gini, max_leaf_nodes=19, min_samples_split=3 ..........\n",
      "[CV]  criterion=gini, max_leaf_nodes=19, min_samples_split=3, score=0.710244 -   2.2s\n",
      "[CV] criterion=gini, max_leaf_nodes=19, min_samples_split=3 ..........\n",
      "[CV]  criterion=gini, max_leaf_nodes=19, min_samples_split=3, score=0.715388 -   2.2s\n",
      "[CV] criterion=gini, max_leaf_nodes=19, min_samples_split=4 ..........\n",
      "[CV]  criterion=gini, max_leaf_nodes=19, min_samples_split=4, score=0.716367 -   2.2s\n",
      "[CV] criterion=gini, max_leaf_nodes=19, min_samples_split=4 ..........\n",
      "[CV]  criterion=gini, max_leaf_nodes=19, min_samples_split=4, score=0.710244 -   2.2s\n",
      "[CV] criterion=gini, max_leaf_nodes=19, min_samples_split=4 ..........\n"
     ]
    },
    {
     "name": "stdout",
     "output_type": "stream",
     "text": [
      "[CV]  criterion=gini, max_leaf_nodes=19, min_samples_split=4, score=0.715388 -   2.2s\n",
      "[CV] criterion=gini, max_leaf_nodes=20, min_samples_split=2 ..........\n",
      "[CV]  criterion=gini, max_leaf_nodes=20, min_samples_split=2, score=0.716367 -   2.6s\n",
      "[CV] criterion=gini, max_leaf_nodes=20, min_samples_split=2 ..........\n",
      "[CV]  criterion=gini, max_leaf_nodes=20, min_samples_split=2, score=0.710244 -   2.2s\n",
      "[CV] criterion=gini, max_leaf_nodes=20, min_samples_split=2 ..........\n",
      "[CV]  criterion=gini, max_leaf_nodes=20, min_samples_split=2, score=0.715388 -   2.3s\n",
      "[CV] criterion=gini, max_leaf_nodes=20, min_samples_split=3 ..........\n",
      "[CV]  criterion=gini, max_leaf_nodes=20, min_samples_split=3, score=0.716367 -   2.4s\n",
      "[CV] criterion=gini, max_leaf_nodes=20, min_samples_split=3 ..........\n",
      "[CV]  criterion=gini, max_leaf_nodes=20, min_samples_split=3, score=0.710244 -   2.6s\n",
      "[CV] criterion=gini, max_leaf_nodes=20, min_samples_split=3 ..........\n",
      "[CV]  criterion=gini, max_leaf_nodes=20, min_samples_split=3, score=0.715388 -   2.8s\n",
      "[CV] criterion=gini, max_leaf_nodes=20, min_samples_split=4 ..........\n",
      "[CV]  criterion=gini, max_leaf_nodes=20, min_samples_split=4, score=0.716367 -   2.5s\n",
      "[CV] criterion=gini, max_leaf_nodes=20, min_samples_split=4 ..........\n",
      "[CV]  criterion=gini, max_leaf_nodes=20, min_samples_split=4, score=0.710244 -   2.0s\n",
      "[CV] criterion=gini, max_leaf_nodes=20, min_samples_split=4 ..........\n",
      "[CV]  criterion=gini, max_leaf_nodes=20, min_samples_split=4, score=0.715388 -   2.2s\n",
      "[CV] criterion=gini, max_leaf_nodes=21, min_samples_split=2 ..........\n",
      "[CV]  criterion=gini, max_leaf_nodes=21, min_samples_split=2, score=0.716367 -   2.4s\n",
      "[CV] criterion=gini, max_leaf_nodes=21, min_samples_split=2 ..........\n",
      "[CV]  criterion=gini, max_leaf_nodes=21, min_samples_split=2, score=0.710244 -   2.7s\n",
      "[CV] criterion=gini, max_leaf_nodes=21, min_samples_split=2 ..........\n",
      "[CV]  criterion=gini, max_leaf_nodes=21, min_samples_split=2, score=0.717531 -   2.8s\n",
      "[CV] criterion=gini, max_leaf_nodes=21, min_samples_split=3 ..........\n",
      "[CV]  criterion=gini, max_leaf_nodes=21, min_samples_split=3, score=0.716367 -   6.1s\n",
      "[CV] criterion=gini, max_leaf_nodes=21, min_samples_split=3 ..........\n",
      "[CV]  criterion=gini, max_leaf_nodes=21, min_samples_split=3, score=0.710244 -   4.1s\n",
      "[CV] criterion=gini, max_leaf_nodes=21, min_samples_split=3 ..........\n",
      "[CV]  criterion=gini, max_leaf_nodes=21, min_samples_split=3, score=0.717531 -   3.3s\n",
      "[CV] criterion=gini, max_leaf_nodes=21, min_samples_split=4 ..........\n",
      "[CV]  criterion=gini, max_leaf_nodes=21, min_samples_split=4, score=0.716367 -   2.9s\n",
      "[CV] criterion=gini, max_leaf_nodes=21, min_samples_split=4 ..........\n",
      "[CV]  criterion=gini, max_leaf_nodes=21, min_samples_split=4, score=0.710244 -   4.0s\n",
      "[CV] criterion=gini, max_leaf_nodes=21, min_samples_split=4 ..........\n",
      "[CV]  criterion=gini, max_leaf_nodes=21, min_samples_split=4, score=0.717531 -   2.8s\n",
      "[CV] criterion=gini, max_leaf_nodes=22, min_samples_split=2 ..........\n",
      "[CV]  criterion=gini, max_leaf_nodes=22, min_samples_split=2, score=0.720651 -   3.4s\n",
      "[CV] criterion=gini, max_leaf_nodes=22, min_samples_split=2 ..........\n",
      "[CV]  criterion=gini, max_leaf_nodes=22, min_samples_split=2, score=0.710673 -   3.2s\n",
      "[CV] criterion=gini, max_leaf_nodes=22, min_samples_split=2 ..........\n",
      "[CV]  criterion=gini, max_leaf_nodes=22, min_samples_split=2, score=0.717960 -   2.9s\n",
      "[CV] criterion=gini, max_leaf_nodes=22, min_samples_split=3 ..........\n",
      "[CV]  criterion=gini, max_leaf_nodes=22, min_samples_split=3, score=0.720651 -   3.6s\n",
      "[CV] criterion=gini, max_leaf_nodes=22, min_samples_split=3 ..........\n",
      "[CV]  criterion=gini, max_leaf_nodes=22, min_samples_split=3, score=0.710673 -   2.7s\n",
      "[CV] criterion=gini, max_leaf_nodes=22, min_samples_split=3 ..........\n",
      "[CV]  criterion=gini, max_leaf_nodes=22, min_samples_split=3, score=0.717960 -   2.8s\n",
      "[CV] criterion=gini, max_leaf_nodes=22, min_samples_split=4 ..........\n",
      "[CV]  criterion=gini, max_leaf_nodes=22, min_samples_split=4, score=0.720651 -   2.8s\n",
      "[CV] criterion=gini, max_leaf_nodes=22, min_samples_split=4 ..........\n",
      "[CV]  criterion=gini, max_leaf_nodes=22, min_samples_split=4, score=0.710673 -   2.6s\n",
      "[CV] criterion=gini, max_leaf_nodes=22, min_samples_split=4 ..........\n",
      "[CV]  criterion=gini, max_leaf_nodes=22, min_samples_split=4, score=0.717960 -   3.3s\n",
      "[CV] criterion=gini, max_leaf_nodes=23, min_samples_split=2 ..........\n",
      "[CV]  criterion=gini, max_leaf_nodes=23, min_samples_split=2, score=0.722365 -   2.6s\n",
      "[CV] criterion=gini, max_leaf_nodes=23, min_samples_split=2 ..........\n",
      "[CV]  criterion=gini, max_leaf_nodes=23, min_samples_split=2, score=0.732962 -   2.9s\n",
      "[CV] criterion=gini, max_leaf_nodes=23, min_samples_split=2 ..........\n",
      "[CV]  criterion=gini, max_leaf_nodes=23, min_samples_split=2, score=0.720960 -   2.6s\n",
      "[CV] criterion=gini, max_leaf_nodes=23, min_samples_split=3 ..........\n",
      "[CV]  criterion=gini, max_leaf_nodes=23, min_samples_split=3, score=0.722365 -   2.9s\n",
      "[CV] criterion=gini, max_leaf_nodes=23, min_samples_split=3 ..........\n",
      "[CV]  criterion=gini, max_leaf_nodes=23, min_samples_split=3, score=0.732962 -   3.0s\n",
      "[CV] criterion=gini, max_leaf_nodes=23, min_samples_split=3 ..........\n",
      "[CV]  criterion=gini, max_leaf_nodes=23, min_samples_split=3, score=0.720960 -   2.6s\n",
      "[CV] criterion=gini, max_leaf_nodes=23, min_samples_split=4 ..........\n",
      "[CV]  criterion=gini, max_leaf_nodes=23, min_samples_split=4, score=0.722365 -   2.9s\n",
      "[CV] criterion=gini, max_leaf_nodes=23, min_samples_split=4 ..........\n",
      "[CV]  criterion=gini, max_leaf_nodes=23, min_samples_split=4, score=0.732962 -   2.6s\n",
      "[CV] criterion=gini, max_leaf_nodes=23, min_samples_split=4 ..........\n",
      "[CV]  criterion=gini, max_leaf_nodes=23, min_samples_split=4, score=0.720960 -   2.8s\n",
      "[CV] criterion=gini, max_leaf_nodes=24, min_samples_split=2 ..........\n",
      "[CV]  criterion=gini, max_leaf_nodes=24, min_samples_split=2, score=0.722365 -   2.9s\n",
      "[CV] criterion=gini, max_leaf_nodes=24, min_samples_split=2 ..........\n",
      "[CV]  criterion=gini, max_leaf_nodes=24, min_samples_split=2, score=0.738534 -   3.3s\n",
      "[CV] criterion=gini, max_leaf_nodes=24, min_samples_split=2 ..........\n",
      "[CV]  criterion=gini, max_leaf_nodes=24, min_samples_split=2, score=0.720960 -   2.8s\n",
      "[CV] criterion=gini, max_leaf_nodes=24, min_samples_split=3 ..........\n",
      "[CV]  criterion=gini, max_leaf_nodes=24, min_samples_split=3, score=0.722365 -   2.6s\n",
      "[CV] criterion=gini, max_leaf_nodes=24, min_samples_split=3 ..........\n",
      "[CV]  criterion=gini, max_leaf_nodes=24, min_samples_split=3, score=0.738534 -   3.4s\n",
      "[CV] criterion=gini, max_leaf_nodes=24, min_samples_split=3 ..........\n",
      "[CV]  criterion=gini, max_leaf_nodes=24, min_samples_split=3, score=0.720960 -   2.9s\n",
      "[CV] criterion=gini, max_leaf_nodes=24, min_samples_split=4 ..........\n",
      "[CV]  criterion=gini, max_leaf_nodes=24, min_samples_split=4, score=0.722365 -   3.1s\n",
      "[CV] criterion=gini, max_leaf_nodes=24, min_samples_split=4 ..........\n",
      "[CV]  criterion=gini, max_leaf_nodes=24, min_samples_split=4, score=0.738534 -   3.0s\n",
      "[CV] criterion=gini, max_leaf_nodes=24, min_samples_split=4 ..........\n",
      "[CV]  criterion=gini, max_leaf_nodes=24, min_samples_split=4, score=0.720960 -   3.2s\n",
      "[CV] criterion=gini, max_leaf_nodes=25, min_samples_split=2 ..........\n",
      "[CV]  criterion=gini, max_leaf_nodes=25, min_samples_split=2, score=0.722365 -   2.7s\n",
      "[CV] criterion=gini, max_leaf_nodes=25, min_samples_split=2 ..........\n",
      "[CV]  criterion=gini, max_leaf_nodes=25, min_samples_split=2, score=0.736391 -   3.1s\n",
      "[CV] criterion=gini, max_leaf_nodes=25, min_samples_split=2 ..........\n",
      "[CV]  criterion=gini, max_leaf_nodes=25, min_samples_split=2, score=0.720103 -   3.7s\n",
      "[CV] criterion=gini, max_leaf_nodes=25, min_samples_split=3 ..........\n",
      "[CV]  criterion=gini, max_leaf_nodes=25, min_samples_split=3, score=0.722365 -   2.9s\n",
      "[CV] criterion=gini, max_leaf_nodes=25, min_samples_split=3 ..........\n",
      "[CV]  criterion=gini, max_leaf_nodes=25, min_samples_split=3, score=0.736391 -   3.3s\n",
      "[CV] criterion=gini, max_leaf_nodes=25, min_samples_split=3 ..........\n",
      "[CV]  criterion=gini, max_leaf_nodes=25, min_samples_split=3, score=0.720103 -   4.5s\n",
      "[CV] criterion=gini, max_leaf_nodes=25, min_samples_split=4 ..........\n",
      "[CV]  criterion=gini, max_leaf_nodes=25, min_samples_split=4, score=0.722365 -   4.4s\n",
      "[CV] criterion=gini, max_leaf_nodes=25, min_samples_split=4 ..........\n"
     ]
    },
    {
     "name": "stdout",
     "output_type": "stream",
     "text": [
      "[CV]  criterion=gini, max_leaf_nodes=25, min_samples_split=4, score=0.736391 -   4.6s\n",
      "[CV] criterion=gini, max_leaf_nodes=25, min_samples_split=4 ..........\n",
      "[CV]  criterion=gini, max_leaf_nodes=25, min_samples_split=4, score=0.720103 -   3.4s\n",
      "[CV] criterion=gini, max_leaf_nodes=26, min_samples_split=2 ..........\n",
      "[CV]  criterion=gini, max_leaf_nodes=26, min_samples_split=2, score=0.722365 -   3.4s\n",
      "[CV] criterion=gini, max_leaf_nodes=26, min_samples_split=2 ..........\n",
      "[CV]  criterion=gini, max_leaf_nodes=26, min_samples_split=2, score=0.736391 -   3.4s\n",
      "[CV] criterion=gini, max_leaf_nodes=26, min_samples_split=2 ..........\n",
      "[CV]  criterion=gini, max_leaf_nodes=26, min_samples_split=2, score=0.720532 -   2.9s\n",
      "[CV] criterion=gini, max_leaf_nodes=26, min_samples_split=3 ..........\n",
      "[CV]  criterion=gini, max_leaf_nodes=26, min_samples_split=3, score=0.722365 -   3.3s\n",
      "[CV] criterion=gini, max_leaf_nodes=26, min_samples_split=3 ..........\n",
      "[CV]  criterion=gini, max_leaf_nodes=26, min_samples_split=3, score=0.736391 -   3.3s\n",
      "[CV] criterion=gini, max_leaf_nodes=26, min_samples_split=3 ..........\n",
      "[CV]  criterion=gini, max_leaf_nodes=26, min_samples_split=3, score=0.720532 -   3.3s\n",
      "[CV] criterion=gini, max_leaf_nodes=26, min_samples_split=4 ..........\n",
      "[CV]  criterion=gini, max_leaf_nodes=26, min_samples_split=4, score=0.722365 -   4.9s\n",
      "[CV] criterion=gini, max_leaf_nodes=26, min_samples_split=4 ..........\n",
      "[CV]  criterion=gini, max_leaf_nodes=26, min_samples_split=4, score=0.736391 -   5.5s\n",
      "[CV] criterion=gini, max_leaf_nodes=26, min_samples_split=4 ..........\n",
      "[CV]  criterion=gini, max_leaf_nodes=26, min_samples_split=4, score=0.720532 -   3.0s\n",
      "[CV] criterion=gini, max_leaf_nodes=27, min_samples_split=2 ..........\n",
      "[CV]  criterion=gini, max_leaf_nodes=27, min_samples_split=2, score=0.722365 -   3.6s\n",
      "[CV] criterion=gini, max_leaf_nodes=27, min_samples_split=2 ..........\n",
      "[CV]  criterion=gini, max_leaf_nodes=27, min_samples_split=2, score=0.733819 -   4.5s\n",
      "[CV] criterion=gini, max_leaf_nodes=27, min_samples_split=2 ..........\n",
      "[CV]  criterion=gini, max_leaf_nodes=27, min_samples_split=2, score=0.720532 -   3.7s\n",
      "[CV] criterion=gini, max_leaf_nodes=27, min_samples_split=3 ..........\n",
      "[CV]  criterion=gini, max_leaf_nodes=27, min_samples_split=3, score=0.722365 -   8.4s\n",
      "[CV] criterion=gini, max_leaf_nodes=27, min_samples_split=3 ..........\n",
      "[CV]  criterion=gini, max_leaf_nodes=27, min_samples_split=3, score=0.733819 -   9.2s\n",
      "[CV] criterion=gini, max_leaf_nodes=27, min_samples_split=3 ..........\n",
      "[CV]  criterion=gini, max_leaf_nodes=27, min_samples_split=3, score=0.720532 -   6.4s\n",
      "[CV] criterion=gini, max_leaf_nodes=27, min_samples_split=4 ..........\n",
      "[CV]  criterion=gini, max_leaf_nodes=27, min_samples_split=4, score=0.722365 -   5.7s\n",
      "[CV] criterion=gini, max_leaf_nodes=27, min_samples_split=4 ..........\n",
      "[CV]  criterion=gini, max_leaf_nodes=27, min_samples_split=4, score=0.733819 -   5.9s\n",
      "[CV] criterion=gini, max_leaf_nodes=27, min_samples_split=4 ..........\n",
      "[CV]  criterion=gini, max_leaf_nodes=27, min_samples_split=4, score=0.720532 -   6.0s\n",
      "[CV] criterion=gini, max_leaf_nodes=28, min_samples_split=2 ..........\n",
      "[CV]  criterion=gini, max_leaf_nodes=28, min_samples_split=2, score=0.722365 -   4.6s\n",
      "[CV] criterion=gini, max_leaf_nodes=28, min_samples_split=2 ..........\n",
      "[CV]  criterion=gini, max_leaf_nodes=28, min_samples_split=2, score=0.733819 -   5.2s\n",
      "[CV] criterion=gini, max_leaf_nodes=28, min_samples_split=2 ..........\n",
      "[CV]  criterion=gini, max_leaf_nodes=28, min_samples_split=2, score=0.721389 -   7.1s\n",
      "[CV] criterion=gini, max_leaf_nodes=28, min_samples_split=3 ..........\n",
      "[CV]  criterion=gini, max_leaf_nodes=28, min_samples_split=3, score=0.722365 -   4.8s\n",
      "[CV] criterion=gini, max_leaf_nodes=28, min_samples_split=3 ..........\n",
      "[CV]  criterion=gini, max_leaf_nodes=28, min_samples_split=3, score=0.733819 -   3.5s\n",
      "[CV] criterion=gini, max_leaf_nodes=28, min_samples_split=3 ..........\n",
      "[CV]  criterion=gini, max_leaf_nodes=28, min_samples_split=3, score=0.721389 -   3.6s\n",
      "[CV] criterion=gini, max_leaf_nodes=28, min_samples_split=4 ..........\n",
      "[CV]  criterion=gini, max_leaf_nodes=28, min_samples_split=4, score=0.722365 -   3.3s\n",
      "[CV] criterion=gini, max_leaf_nodes=28, min_samples_split=4 ..........\n",
      "[CV]  criterion=gini, max_leaf_nodes=28, min_samples_split=4, score=0.733819 -   3.6s\n",
      "[CV] criterion=gini, max_leaf_nodes=28, min_samples_split=4 ..........\n",
      "[CV]  criterion=gini, max_leaf_nodes=28, min_samples_split=4, score=0.721389 -   4.0s\n",
      "[CV] criterion=gini, max_leaf_nodes=29, min_samples_split=2 ..........\n",
      "[CV]  criterion=gini, max_leaf_nodes=29, min_samples_split=2, score=0.727078 -   4.4s\n",
      "[CV] criterion=gini, max_leaf_nodes=29, min_samples_split=2 ..........\n",
      "[CV]  criterion=gini, max_leaf_nodes=29, min_samples_split=2, score=0.741963 -   3.8s\n",
      "[CV] criterion=gini, max_leaf_nodes=29, min_samples_split=2 ..........\n",
      "[CV]  criterion=gini, max_leaf_nodes=29, min_samples_split=2, score=0.721389 -   3.5s\n",
      "[CV] criterion=gini, max_leaf_nodes=29, min_samples_split=3 ..........\n",
      "[CV]  criterion=gini, max_leaf_nodes=29, min_samples_split=3, score=0.727078 -   3.5s\n",
      "[CV] criterion=gini, max_leaf_nodes=29, min_samples_split=3 ..........\n",
      "[CV]  criterion=gini, max_leaf_nodes=29, min_samples_split=3, score=0.741963 -   3.5s\n",
      "[CV] criterion=gini, max_leaf_nodes=29, min_samples_split=3 ..........\n",
      "[CV]  criterion=gini, max_leaf_nodes=29, min_samples_split=3, score=0.721389 -   3.8s\n",
      "[CV] criterion=gini, max_leaf_nodes=29, min_samples_split=4 ..........\n",
      "[CV]  criterion=gini, max_leaf_nodes=29, min_samples_split=4, score=0.727078 -   3.7s\n",
      "[CV] criterion=gini, max_leaf_nodes=29, min_samples_split=4 ..........\n",
      "[CV]  criterion=gini, max_leaf_nodes=29, min_samples_split=4, score=0.741963 -   3.6s\n",
      "[CV] criterion=gini, max_leaf_nodes=29, min_samples_split=4 ..........\n",
      "[CV]  criterion=gini, max_leaf_nodes=29, min_samples_split=4, score=0.721389 -   3.4s\n",
      "[CV] criterion=entropy, max_leaf_nodes=2, min_samples_split=2 ........\n",
      "[CV]  criterion=entropy, max_leaf_nodes=2, min_samples_split=2, score=0.618252 -   0.3s\n",
      "[CV] criterion=entropy, max_leaf_nodes=2, min_samples_split=2 ........\n",
      "[CV]  criterion=entropy, max_leaf_nodes=2, min_samples_split=2, score=0.600514 -   0.5s\n",
      "[CV] criterion=entropy, max_leaf_nodes=2, min_samples_split=2 ........\n",
      "[CV]  criterion=entropy, max_leaf_nodes=2, min_samples_split=2, score=0.608658 -   0.4s\n",
      "[CV] criterion=entropy, max_leaf_nodes=2, min_samples_split=3 ........\n",
      "[CV]  criterion=entropy, max_leaf_nodes=2, min_samples_split=3, score=0.618252 -   0.3s\n",
      "[CV] criterion=entropy, max_leaf_nodes=2, min_samples_split=3 ........\n",
      "[CV]  criterion=entropy, max_leaf_nodes=2, min_samples_split=3, score=0.600514 -   0.3s\n",
      "[CV] criterion=entropy, max_leaf_nodes=2, min_samples_split=3 ........\n",
      "[CV]  criterion=entropy, max_leaf_nodes=2, min_samples_split=3, score=0.608658 -   0.5s\n",
      "[CV] criterion=entropy, max_leaf_nodes=2, min_samples_split=4 ........\n",
      "[CV]  criterion=entropy, max_leaf_nodes=2, min_samples_split=4, score=0.618252 -   0.4s\n",
      "[CV] criterion=entropy, max_leaf_nodes=2, min_samples_split=4 ........\n",
      "[CV]  criterion=entropy, max_leaf_nodes=2, min_samples_split=4, score=0.600514 -   0.5s\n",
      "[CV] criterion=entropy, max_leaf_nodes=2, min_samples_split=4 ........\n",
      "[CV]  criterion=entropy, max_leaf_nodes=2, min_samples_split=4, score=0.608658 -   0.4s\n",
      "[CV] criterion=entropy, max_leaf_nodes=3, min_samples_split=2 ........\n",
      "[CV]  criterion=entropy, max_leaf_nodes=3, min_samples_split=2, score=0.618252 -   0.5s\n",
      "[CV] criterion=entropy, max_leaf_nodes=3, min_samples_split=2 ........\n",
      "[CV]  criterion=entropy, max_leaf_nodes=3, min_samples_split=2, score=0.600514 -   0.5s\n",
      "[CV] criterion=entropy, max_leaf_nodes=3, min_samples_split=2 ........\n",
      "[CV]  criterion=entropy, max_leaf_nodes=3, min_samples_split=2, score=0.608658 -   0.5s\n",
      "[CV] criterion=entropy, max_leaf_nodes=3, min_samples_split=3 ........\n",
      "[CV]  criterion=entropy, max_leaf_nodes=3, min_samples_split=3, score=0.618252 -   0.6s\n",
      "[CV] criterion=entropy, max_leaf_nodes=3, min_samples_split=3 ........\n",
      "[CV]  criterion=entropy, max_leaf_nodes=3, min_samples_split=3, score=0.600514 -   0.5s\n",
      "[CV] criterion=entropy, max_leaf_nodes=3, min_samples_split=3 ........\n",
      "[CV]  criterion=entropy, max_leaf_nodes=3, min_samples_split=3, score=0.608658 -   0.6s\n",
      "[CV] criterion=entropy, max_leaf_nodes=3, min_samples_split=4 ........\n"
     ]
    },
    {
     "name": "stdout",
     "output_type": "stream",
     "text": [
      "[CV]  criterion=entropy, max_leaf_nodes=3, min_samples_split=4, score=0.618252 -   0.5s\n",
      "[CV] criterion=entropy, max_leaf_nodes=3, min_samples_split=4 ........\n",
      "[CV]  criterion=entropy, max_leaf_nodes=3, min_samples_split=4, score=0.600514 -   0.6s\n",
      "[CV] criterion=entropy, max_leaf_nodes=3, min_samples_split=4 ........\n",
      "[CV]  criterion=entropy, max_leaf_nodes=3, min_samples_split=4, score=0.608658 -   0.5s\n",
      "[CV] criterion=entropy, max_leaf_nodes=4, min_samples_split=2 ........\n",
      "[CV]  criterion=entropy, max_leaf_nodes=4, min_samples_split=2, score=0.651671 -   0.8s\n",
      "[CV] criterion=entropy, max_leaf_nodes=4, min_samples_split=2 ........\n",
      "[CV]  criterion=entropy, max_leaf_nodes=4, min_samples_split=2, score=0.636520 -   0.6s\n",
      "[CV] criterion=entropy, max_leaf_nodes=4, min_samples_split=2 ........\n",
      "[CV]  criterion=entropy, max_leaf_nodes=4, min_samples_split=2, score=0.643378 -   0.7s\n",
      "[CV] criterion=entropy, max_leaf_nodes=4, min_samples_split=3 ........\n",
      "[CV]  criterion=entropy, max_leaf_nodes=4, min_samples_split=3, score=0.651671 -   0.6s\n",
      "[CV] criterion=entropy, max_leaf_nodes=4, min_samples_split=3 ........\n",
      "[CV]  criterion=entropy, max_leaf_nodes=4, min_samples_split=3, score=0.636520 -   0.7s\n",
      "[CV] criterion=entropy, max_leaf_nodes=4, min_samples_split=3 ........\n",
      "[CV]  criterion=entropy, max_leaf_nodes=4, min_samples_split=3, score=0.643378 -   0.7s\n",
      "[CV] criterion=entropy, max_leaf_nodes=4, min_samples_split=4 ........\n",
      "[CV]  criterion=entropy, max_leaf_nodes=4, min_samples_split=4, score=0.651671 -   0.7s\n",
      "[CV] criterion=entropy, max_leaf_nodes=4, min_samples_split=4 ........\n",
      "[CV]  criterion=entropy, max_leaf_nodes=4, min_samples_split=4, score=0.636520 -   0.7s\n",
      "[CV] criterion=entropy, max_leaf_nodes=4, min_samples_split=4 ........\n",
      "[CV]  criterion=entropy, max_leaf_nodes=4, min_samples_split=4, score=0.643378 -   0.6s\n",
      "[CV] criterion=entropy, max_leaf_nodes=5, min_samples_split=2 ........\n",
      "[CV]  criterion=entropy, max_leaf_nodes=5, min_samples_split=2, score=0.669666 -   0.9s\n",
      "[CV] criterion=entropy, max_leaf_nodes=5, min_samples_split=2 ........\n",
      "[CV]  criterion=entropy, max_leaf_nodes=5, min_samples_split=2, score=0.656665 -   1.0s\n",
      "[CV] criterion=entropy, max_leaf_nodes=5, min_samples_split=2 ........\n",
      "[CV]  criterion=entropy, max_leaf_nodes=5, min_samples_split=2, score=0.643378 -   0.9s\n",
      "[CV] criterion=entropy, max_leaf_nodes=5, min_samples_split=3 ........\n",
      "[CV]  criterion=entropy, max_leaf_nodes=5, min_samples_split=3, score=0.669666 -   0.9s\n",
      "[CV] criterion=entropy, max_leaf_nodes=5, min_samples_split=3 ........\n",
      "[CV]  criterion=entropy, max_leaf_nodes=5, min_samples_split=3, score=0.656665 -   0.9s\n",
      "[CV] criterion=entropy, max_leaf_nodes=5, min_samples_split=3 ........\n",
      "[CV]  criterion=entropy, max_leaf_nodes=5, min_samples_split=3, score=0.643378 -   0.8s\n",
      "[CV] criterion=entropy, max_leaf_nodes=5, min_samples_split=4 ........\n",
      "[CV]  criterion=entropy, max_leaf_nodes=5, min_samples_split=4, score=0.669666 -   0.9s\n",
      "[CV] criterion=entropy, max_leaf_nodes=5, min_samples_split=4 ........\n",
      "[CV]  criterion=entropy, max_leaf_nodes=5, min_samples_split=4, score=0.656665 -   0.9s\n",
      "[CV] criterion=entropy, max_leaf_nodes=5, min_samples_split=4 ........\n",
      "[CV]  criterion=entropy, max_leaf_nodes=5, min_samples_split=4, score=0.643378 -   0.8s\n",
      "[CV] criterion=entropy, max_leaf_nodes=6, min_samples_split=2 ........\n",
      "[CV]  criterion=entropy, max_leaf_nodes=6, min_samples_split=2, score=0.669666 -   1.1s\n",
      "[CV] criterion=entropy, max_leaf_nodes=6, min_samples_split=2 ........\n",
      "[CV]  criterion=entropy, max_leaf_nodes=6, min_samples_split=2, score=0.656665 -   1.3s\n",
      "[CV] criterion=entropy, max_leaf_nodes=6, min_samples_split=2 ........\n",
      "[CV]  criterion=entropy, max_leaf_nodes=6, min_samples_split=2, score=0.663095 -   1.1s\n",
      "[CV] criterion=entropy, max_leaf_nodes=6, min_samples_split=3 ........\n",
      "[CV]  criterion=entropy, max_leaf_nodes=6, min_samples_split=3, score=0.669666 -   1.0s\n",
      "[CV] criterion=entropy, max_leaf_nodes=6, min_samples_split=3 ........\n",
      "[CV]  criterion=entropy, max_leaf_nodes=6, min_samples_split=3, score=0.656665 -   1.1s\n",
      "[CV] criterion=entropy, max_leaf_nodes=6, min_samples_split=3 ........\n",
      "[CV]  criterion=entropy, max_leaf_nodes=6, min_samples_split=3, score=0.663095 -   0.9s\n",
      "[CV] criterion=entropy, max_leaf_nodes=6, min_samples_split=4 ........\n",
      "[CV]  criterion=entropy, max_leaf_nodes=6, min_samples_split=4, score=0.669666 -   1.0s\n",
      "[CV] criterion=entropy, max_leaf_nodes=6, min_samples_split=4 ........\n",
      "[CV]  criterion=entropy, max_leaf_nodes=6, min_samples_split=4, score=0.656665 -   1.2s\n",
      "[CV] criterion=entropy, max_leaf_nodes=6, min_samples_split=4 ........\n",
      "[CV]  criterion=entropy, max_leaf_nodes=6, min_samples_split=4, score=0.663095 -   1.1s\n",
      "[CV] criterion=entropy, max_leaf_nodes=7, min_samples_split=2 ........\n",
      "[CV]  criterion=entropy, max_leaf_nodes=7, min_samples_split=2, score=0.669666 -   1.1s\n",
      "[CV] criterion=entropy, max_leaf_nodes=7, min_samples_split=2 ........\n",
      "[CV]  criterion=entropy, max_leaf_nodes=7, min_samples_split=2, score=0.656665 -   1.2s\n",
      "[CV] criterion=entropy, max_leaf_nodes=7, min_samples_split=2 ........\n",
      "[CV]  criterion=entropy, max_leaf_nodes=7, min_samples_split=2, score=0.663095 -   1.2s\n",
      "[CV] criterion=entropy, max_leaf_nodes=7, min_samples_split=3 ........\n",
      "[CV]  criterion=entropy, max_leaf_nodes=7, min_samples_split=3, score=0.669666 -   1.2s\n",
      "[CV] criterion=entropy, max_leaf_nodes=7, min_samples_split=3 ........\n",
      "[CV]  criterion=entropy, max_leaf_nodes=7, min_samples_split=3, score=0.656665 -   1.0s\n",
      "[CV] criterion=entropy, max_leaf_nodes=7, min_samples_split=3 ........\n",
      "[CV]  criterion=entropy, max_leaf_nodes=7, min_samples_split=3, score=0.663095 -   1.1s\n",
      "[CV] criterion=entropy, max_leaf_nodes=7, min_samples_split=4 ........\n",
      "[CV]  criterion=entropy, max_leaf_nodes=7, min_samples_split=4, score=0.669666 -   1.1s\n",
      "[CV] criterion=entropy, max_leaf_nodes=7, min_samples_split=4 ........\n",
      "[CV]  criterion=entropy, max_leaf_nodes=7, min_samples_split=4, score=0.656665 -   1.1s\n",
      "[CV] criterion=entropy, max_leaf_nodes=7, min_samples_split=4 ........\n",
      "[CV]  criterion=entropy, max_leaf_nodes=7, min_samples_split=4, score=0.663095 -   1.1s\n",
      "[CV] criterion=entropy, max_leaf_nodes=8, min_samples_split=2 ........\n",
      "[CV]  criterion=entropy, max_leaf_nodes=8, min_samples_split=2, score=0.669666 -   1.3s\n",
      "[CV] criterion=entropy, max_leaf_nodes=8, min_samples_split=2 ........\n",
      "[CV]  criterion=entropy, max_leaf_nodes=8, min_samples_split=2, score=0.656665 -   1.3s\n",
      "[CV] criterion=entropy, max_leaf_nodes=8, min_samples_split=2 ........\n",
      "[CV]  criterion=entropy, max_leaf_nodes=8, min_samples_split=2, score=0.663095 -   1.5s\n",
      "[CV] criterion=entropy, max_leaf_nodes=8, min_samples_split=3 ........\n",
      "[CV]  criterion=entropy, max_leaf_nodes=8, min_samples_split=3, score=0.669666 -   1.3s\n",
      "[CV] criterion=entropy, max_leaf_nodes=8, min_samples_split=3 ........\n",
      "[CV]  criterion=entropy, max_leaf_nodes=8, min_samples_split=3, score=0.656665 -   1.3s\n",
      "[CV] criterion=entropy, max_leaf_nodes=8, min_samples_split=3 ........\n",
      "[CV]  criterion=entropy, max_leaf_nodes=8, min_samples_split=3, score=0.663095 -   1.2s\n",
      "[CV] criterion=entropy, max_leaf_nodes=8, min_samples_split=4 ........\n",
      "[CV]  criterion=entropy, max_leaf_nodes=8, min_samples_split=4, score=0.669666 -   1.2s\n",
      "[CV] criterion=entropy, max_leaf_nodes=8, min_samples_split=4 ........\n",
      "[CV]  criterion=entropy, max_leaf_nodes=8, min_samples_split=4, score=0.656665 -   1.3s\n",
      "[CV] criterion=entropy, max_leaf_nodes=8, min_samples_split=4 ........\n",
      "[CV]  criterion=entropy, max_leaf_nodes=8, min_samples_split=4, score=0.663095 -   1.2s\n",
      "[CV] criterion=entropy, max_leaf_nodes=9, min_samples_split=2 ........\n",
      "[CV]  criterion=entropy, max_leaf_nodes=9, min_samples_split=2, score=0.687232 -   1.4s\n",
      "[CV] criterion=entropy, max_leaf_nodes=9, min_samples_split=2 ........\n",
      "[CV]  criterion=entropy, max_leaf_nodes=9, min_samples_split=2, score=0.656665 -   1.4s\n",
      "[CV] criterion=entropy, max_leaf_nodes=9, min_samples_split=2 ........\n",
      "[CV]  criterion=entropy, max_leaf_nodes=9, min_samples_split=2, score=0.676382 -   1.4s\n",
      "[CV] criterion=entropy, max_leaf_nodes=9, min_samples_split=3 ........\n",
      "[CV]  criterion=entropy, max_leaf_nodes=9, min_samples_split=3, score=0.687232 -   1.5s\n",
      "[CV] criterion=entropy, max_leaf_nodes=9, min_samples_split=3 ........\n"
     ]
    },
    {
     "name": "stdout",
     "output_type": "stream",
     "text": [
      "[CV]  criterion=entropy, max_leaf_nodes=9, min_samples_split=3, score=0.656665 -   1.6s\n",
      "[CV] criterion=entropy, max_leaf_nodes=9, min_samples_split=3 ........\n",
      "[CV]  criterion=entropy, max_leaf_nodes=9, min_samples_split=3, score=0.676382 -   1.4s\n",
      "[CV] criterion=entropy, max_leaf_nodes=9, min_samples_split=4 ........\n",
      "[CV]  criterion=entropy, max_leaf_nodes=9, min_samples_split=4, score=0.687232 -   1.4s\n",
      "[CV] criterion=entropy, max_leaf_nodes=9, min_samples_split=4 ........\n",
      "[CV]  criterion=entropy, max_leaf_nodes=9, min_samples_split=4, score=0.656665 -   1.4s\n",
      "[CV] criterion=entropy, max_leaf_nodes=9, min_samples_split=4 ........\n",
      "[CV]  criterion=entropy, max_leaf_nodes=9, min_samples_split=4, score=0.676382 -   1.4s\n",
      "[CV] criterion=entropy, max_leaf_nodes=10, min_samples_split=2 .......\n",
      "[CV]  criterion=entropy, max_leaf_nodes=10, min_samples_split=2, score=0.687232 -   1.5s\n",
      "[CV] criterion=entropy, max_leaf_nodes=10, min_samples_split=2 .......\n",
      "[CV]  criterion=entropy, max_leaf_nodes=10, min_samples_split=2, score=0.657523 -   1.4s\n",
      "[CV] criterion=entropy, max_leaf_nodes=10, min_samples_split=2 .......\n",
      "[CV]  criterion=entropy, max_leaf_nodes=10, min_samples_split=2, score=0.676382 -   1.5s\n",
      "[CV] criterion=entropy, max_leaf_nodes=10, min_samples_split=3 .......\n",
      "[CV]  criterion=entropy, max_leaf_nodes=10, min_samples_split=3, score=0.687232 -   1.5s\n",
      "[CV] criterion=entropy, max_leaf_nodes=10, min_samples_split=3 .......\n",
      "[CV]  criterion=entropy, max_leaf_nodes=10, min_samples_split=3, score=0.657523 -   1.4s\n",
      "[CV] criterion=entropy, max_leaf_nodes=10, min_samples_split=3 .......\n",
      "[CV]  criterion=entropy, max_leaf_nodes=10, min_samples_split=3, score=0.676382 -   1.8s\n",
      "[CV] criterion=entropy, max_leaf_nodes=10, min_samples_split=4 .......\n",
      "[CV]  criterion=entropy, max_leaf_nodes=10, min_samples_split=4, score=0.687232 -   1.5s\n",
      "[CV] criterion=entropy, max_leaf_nodes=10, min_samples_split=4 .......\n",
      "[CV]  criterion=entropy, max_leaf_nodes=10, min_samples_split=4, score=0.657523 -   1.4s\n",
      "[CV] criterion=entropy, max_leaf_nodes=10, min_samples_split=4 .......\n",
      "[CV]  criterion=entropy, max_leaf_nodes=10, min_samples_split=4, score=0.676382 -   1.5s\n",
      "[CV] criterion=entropy, max_leaf_nodes=11, min_samples_split=2 .......\n",
      "[CV]  criterion=entropy, max_leaf_nodes=11, min_samples_split=2, score=0.687232 -   1.6s\n",
      "[CV] criterion=entropy, max_leaf_nodes=11, min_samples_split=2 .......\n",
      "[CV]  criterion=entropy, max_leaf_nodes=11, min_samples_split=2, score=0.657523 -   1.6s\n",
      "[CV] criterion=entropy, max_leaf_nodes=11, min_samples_split=2 .......\n",
      "[CV]  criterion=entropy, max_leaf_nodes=11, min_samples_split=2, score=0.676382 -   1.7s\n",
      "[CV] criterion=entropy, max_leaf_nodes=11, min_samples_split=3 .......\n",
      "[CV]  criterion=entropy, max_leaf_nodes=11, min_samples_split=3, score=0.687232 -   1.6s\n",
      "[CV] criterion=entropy, max_leaf_nodes=11, min_samples_split=3 .......\n",
      "[CV]  criterion=entropy, max_leaf_nodes=11, min_samples_split=3, score=0.657523 -   1.5s\n",
      "[CV] criterion=entropy, max_leaf_nodes=11, min_samples_split=3 .......\n",
      "[CV]  criterion=entropy, max_leaf_nodes=11, min_samples_split=3, score=0.676382 -   2.0s\n",
      "[CV] criterion=entropy, max_leaf_nodes=11, min_samples_split=4 .......\n",
      "[CV]  criterion=entropy, max_leaf_nodes=11, min_samples_split=4, score=0.687232 -   1.7s\n",
      "[CV] criterion=entropy, max_leaf_nodes=11, min_samples_split=4 .......\n",
      "[CV]  criterion=entropy, max_leaf_nodes=11, min_samples_split=4, score=0.657523 -   1.8s\n",
      "[CV] criterion=entropy, max_leaf_nodes=11, min_samples_split=4 .......\n",
      "[CV]  criterion=entropy, max_leaf_nodes=11, min_samples_split=4, score=0.676382 -   1.7s\n",
      "[CV] criterion=entropy, max_leaf_nodes=12, min_samples_split=2 .......\n",
      "[CV]  criterion=entropy, max_leaf_nodes=12, min_samples_split=2, score=0.687232 -   1.8s\n",
      "[CV] criterion=entropy, max_leaf_nodes=12, min_samples_split=2 .......\n",
      "[CV]  criterion=entropy, max_leaf_nodes=12, min_samples_split=2, score=0.657523 -   1.8s\n",
      "[CV] criterion=entropy, max_leaf_nodes=12, min_samples_split=2 .......\n",
      "[CV]  criterion=entropy, max_leaf_nodes=12, min_samples_split=2, score=0.676382 -   2.0s\n",
      "[CV] criterion=entropy, max_leaf_nodes=12, min_samples_split=3 .......\n",
      "[CV]  criterion=entropy, max_leaf_nodes=12, min_samples_split=3, score=0.687232 -   1.8s\n",
      "[CV] criterion=entropy, max_leaf_nodes=12, min_samples_split=3 .......\n",
      "[CV]  criterion=entropy, max_leaf_nodes=12, min_samples_split=3, score=0.657523 -   2.1s\n",
      "[CV] criterion=entropy, max_leaf_nodes=12, min_samples_split=3 .......\n",
      "[CV]  criterion=entropy, max_leaf_nodes=12, min_samples_split=3, score=0.676382 -   1.9s\n",
      "[CV] criterion=entropy, max_leaf_nodes=12, min_samples_split=4 .......\n",
      "[CV]  criterion=entropy, max_leaf_nodes=12, min_samples_split=4, score=0.687232 -   1.8s\n",
      "[CV] criterion=entropy, max_leaf_nodes=12, min_samples_split=4 .......\n",
      "[CV]  criterion=entropy, max_leaf_nodes=12, min_samples_split=4, score=0.657523 -   1.8s\n",
      "[CV] criterion=entropy, max_leaf_nodes=12, min_samples_split=4 .......\n",
      "[CV]  criterion=entropy, max_leaf_nodes=12, min_samples_split=4, score=0.676382 -   2.0s\n",
      "[CV] criterion=entropy, max_leaf_nodes=13, min_samples_split=2 .......\n",
      "[CV]  criterion=entropy, max_leaf_nodes=13, min_samples_split=2, score=0.691088 -   2.1s\n",
      "[CV] criterion=entropy, max_leaf_nodes=13, min_samples_split=2 .......\n",
      "[CV]  criterion=entropy, max_leaf_nodes=13, min_samples_split=2, score=0.657523 -   2.4s\n",
      "[CV] criterion=entropy, max_leaf_nodes=13, min_samples_split=2 .......\n",
      "[CV]  criterion=entropy, max_leaf_nodes=13, min_samples_split=2, score=0.678954 -   1.9s\n",
      "[CV] criterion=entropy, max_leaf_nodes=13, min_samples_split=3 .......\n",
      "[CV]  criterion=entropy, max_leaf_nodes=13, min_samples_split=3, score=0.691088 -   2.0s\n",
      "[CV] criterion=entropy, max_leaf_nodes=13, min_samples_split=3 .......\n",
      "[CV]  criterion=entropy, max_leaf_nodes=13, min_samples_split=3, score=0.657523 -   2.0s\n",
      "[CV] criterion=entropy, max_leaf_nodes=13, min_samples_split=3 .......\n",
      "[CV]  criterion=entropy, max_leaf_nodes=13, min_samples_split=3, score=0.678954 -   2.1s\n",
      "[CV] criterion=entropy, max_leaf_nodes=13, min_samples_split=4 .......\n",
      "[CV]  criterion=entropy, max_leaf_nodes=13, min_samples_split=4, score=0.691088 -   2.0s\n",
      "[CV] criterion=entropy, max_leaf_nodes=13, min_samples_split=4 .......\n",
      "[CV]  criterion=entropy, max_leaf_nodes=13, min_samples_split=4, score=0.657523 -   2.0s\n",
      "[CV] criterion=entropy, max_leaf_nodes=13, min_samples_split=4 .......\n",
      "[CV]  criterion=entropy, max_leaf_nodes=13, min_samples_split=4, score=0.678954 -   1.9s\n",
      "[CV] criterion=entropy, max_leaf_nodes=14, min_samples_split=2 .......\n",
      "[CV]  criterion=entropy, max_leaf_nodes=14, min_samples_split=2, score=0.691088 -   2.1s\n",
      "[CV] criterion=entropy, max_leaf_nodes=14, min_samples_split=2 .......\n",
      "[CV]  criterion=entropy, max_leaf_nodes=14, min_samples_split=2, score=0.681097 -   2.2s\n",
      "[CV] criterion=entropy, max_leaf_nodes=14, min_samples_split=2 .......\n",
      "[CV]  criterion=entropy, max_leaf_nodes=14, min_samples_split=2, score=0.678954 -   2.3s\n",
      "[CV] criterion=entropy, max_leaf_nodes=14, min_samples_split=3 .......\n",
      "[CV]  criterion=entropy, max_leaf_nodes=14, min_samples_split=3, score=0.691088 -   2.0s\n",
      "[CV] criterion=entropy, max_leaf_nodes=14, min_samples_split=3 .......\n",
      "[CV]  criterion=entropy, max_leaf_nodes=14, min_samples_split=3, score=0.681097 -   2.1s\n",
      "[CV] criterion=entropy, max_leaf_nodes=14, min_samples_split=3 .......\n",
      "[CV]  criterion=entropy, max_leaf_nodes=14, min_samples_split=3, score=0.678954 -   2.0s\n",
      "[CV] criterion=entropy, max_leaf_nodes=14, min_samples_split=4 .......\n",
      "[CV]  criterion=entropy, max_leaf_nodes=14, min_samples_split=4, score=0.691088 -   2.0s\n",
      "[CV] criterion=entropy, max_leaf_nodes=14, min_samples_split=4 .......\n",
      "[CV]  criterion=entropy, max_leaf_nodes=14, min_samples_split=4, score=0.681097 -   1.9s\n",
      "[CV] criterion=entropy, max_leaf_nodes=14, min_samples_split=4 .......\n",
      "[CV]  criterion=entropy, max_leaf_nodes=14, min_samples_split=4, score=0.678954 -   1.9s\n",
      "[CV] criterion=entropy, max_leaf_nodes=15, min_samples_split=2 .......\n",
      "[CV]  criterion=entropy, max_leaf_nodes=15, min_samples_split=2, score=0.693231 -   2.1s\n",
      "[CV] criterion=entropy, max_leaf_nodes=15, min_samples_split=2 .......\n",
      "[CV]  criterion=entropy, max_leaf_nodes=15, min_samples_split=2, score=0.684955 -   2.0s\n",
      "[CV] criterion=entropy, max_leaf_nodes=15, min_samples_split=2 .......\n"
     ]
    },
    {
     "name": "stdout",
     "output_type": "stream",
     "text": [
      "[CV]  criterion=entropy, max_leaf_nodes=15, min_samples_split=2, score=0.687098 -   1.8s\n",
      "[CV] criterion=entropy, max_leaf_nodes=15, min_samples_split=3 .......\n",
      "[CV]  criterion=entropy, max_leaf_nodes=15, min_samples_split=3, score=0.693231 -   1.9s\n",
      "[CV] criterion=entropy, max_leaf_nodes=15, min_samples_split=3 .......\n",
      "[CV]  criterion=entropy, max_leaf_nodes=15, min_samples_split=3, score=0.684955 -   2.0s\n",
      "[CV] criterion=entropy, max_leaf_nodes=15, min_samples_split=3 .......\n",
      "[CV]  criterion=entropy, max_leaf_nodes=15, min_samples_split=3, score=0.687098 -   1.9s\n",
      "[CV] criterion=entropy, max_leaf_nodes=15, min_samples_split=4 .......\n",
      "[CV]  criterion=entropy, max_leaf_nodes=15, min_samples_split=4, score=0.693231 -   1.9s\n",
      "[CV] criterion=entropy, max_leaf_nodes=15, min_samples_split=4 .......\n",
      "[CV]  criterion=entropy, max_leaf_nodes=15, min_samples_split=4, score=0.684955 -   2.1s\n",
      "[CV] criterion=entropy, max_leaf_nodes=15, min_samples_split=4 .......\n",
      "[CV]  criterion=entropy, max_leaf_nodes=15, min_samples_split=4, score=0.687098 -   2.2s\n",
      "[CV] criterion=entropy, max_leaf_nodes=16, min_samples_split=2 .......\n",
      "[CV]  criterion=entropy, max_leaf_nodes=16, min_samples_split=2, score=0.693231 -   2.0s\n",
      "[CV] criterion=entropy, max_leaf_nodes=16, min_samples_split=2 .......\n",
      "[CV]  criterion=entropy, max_leaf_nodes=16, min_samples_split=2, score=0.687098 -   2.0s\n",
      "[CV] criterion=entropy, max_leaf_nodes=16, min_samples_split=2 .......\n",
      "[CV]  criterion=entropy, max_leaf_nodes=16, min_samples_split=2, score=0.687098 -   1.9s\n",
      "[CV] criterion=entropy, max_leaf_nodes=16, min_samples_split=3 .......\n",
      "[CV]  criterion=entropy, max_leaf_nodes=16, min_samples_split=3, score=0.693231 -   2.1s\n",
      "[CV] criterion=entropy, max_leaf_nodes=16, min_samples_split=3 .......\n",
      "[CV]  criterion=entropy, max_leaf_nodes=16, min_samples_split=3, score=0.687098 -   2.0s\n",
      "[CV] criterion=entropy, max_leaf_nodes=16, min_samples_split=3 .......\n",
      "[CV]  criterion=entropy, max_leaf_nodes=16, min_samples_split=3, score=0.687098 -   1.9s\n",
      "[CV] criterion=entropy, max_leaf_nodes=16, min_samples_split=4 .......\n",
      "[CV]  criterion=entropy, max_leaf_nodes=16, min_samples_split=4, score=0.693231 -   2.2s\n",
      "[CV] criterion=entropy, max_leaf_nodes=16, min_samples_split=4 .......\n",
      "[CV]  criterion=entropy, max_leaf_nodes=16, min_samples_split=4, score=0.687098 -   2.1s\n",
      "[CV] criterion=entropy, max_leaf_nodes=16, min_samples_split=4 .......\n",
      "[CV]  criterion=entropy, max_leaf_nodes=16, min_samples_split=4, score=0.687098 -   2.0s\n",
      "[CV] criterion=entropy, max_leaf_nodes=17, min_samples_split=2 .......\n",
      "[CV]  criterion=entropy, max_leaf_nodes=17, min_samples_split=2, score=0.694087 -   2.1s\n",
      "[CV] criterion=entropy, max_leaf_nodes=17, min_samples_split=2 .......\n",
      "[CV]  criterion=entropy, max_leaf_nodes=17, min_samples_split=2, score=0.689670 -   2.1s\n",
      "[CV] criterion=entropy, max_leaf_nodes=17, min_samples_split=2 .......\n",
      "[CV]  criterion=entropy, max_leaf_nodes=17, min_samples_split=2, score=0.690956 -   2.3s\n",
      "[CV] criterion=entropy, max_leaf_nodes=17, min_samples_split=3 .......\n",
      "[CV]  criterion=entropy, max_leaf_nodes=17, min_samples_split=3, score=0.694087 -   2.3s\n",
      "[CV] criterion=entropy, max_leaf_nodes=17, min_samples_split=3 .......\n",
      "[CV]  criterion=entropy, max_leaf_nodes=17, min_samples_split=3, score=0.689670 -   2.4s\n",
      "[CV] criterion=entropy, max_leaf_nodes=17, min_samples_split=3 .......\n",
      "[CV]  criterion=entropy, max_leaf_nodes=17, min_samples_split=3, score=0.690956 -   2.2s\n",
      "[CV] criterion=entropy, max_leaf_nodes=17, min_samples_split=4 .......\n",
      "[CV]  criterion=entropy, max_leaf_nodes=17, min_samples_split=4, score=0.694087 -   2.2s\n",
      "[CV] criterion=entropy, max_leaf_nodes=17, min_samples_split=4 .......\n",
      "[CV]  criterion=entropy, max_leaf_nodes=17, min_samples_split=4, score=0.689670 -   2.3s\n",
      "[CV] criterion=entropy, max_leaf_nodes=17, min_samples_split=4 .......\n",
      "[CV]  criterion=entropy, max_leaf_nodes=17, min_samples_split=4, score=0.690956 -   2.2s\n",
      "[CV] criterion=entropy, max_leaf_nodes=18, min_samples_split=2 .......\n",
      "[CV]  criterion=entropy, max_leaf_nodes=18, min_samples_split=2, score=0.709512 -   2.2s\n",
      "[CV] criterion=entropy, max_leaf_nodes=18, min_samples_split=2 .......\n",
      "[CV]  criterion=entropy, max_leaf_nodes=18, min_samples_split=2, score=0.689670 -   2.3s\n",
      "[CV] criterion=entropy, max_leaf_nodes=18, min_samples_split=2 .......\n",
      "[CV]  criterion=entropy, max_leaf_nodes=18, min_samples_split=2, score=0.693956 -   2.5s\n",
      "[CV] criterion=entropy, max_leaf_nodes=18, min_samples_split=3 .......\n",
      "[CV]  criterion=entropy, max_leaf_nodes=18, min_samples_split=3, score=0.709512 -   2.5s\n",
      "[CV] criterion=entropy, max_leaf_nodes=18, min_samples_split=3 .......\n",
      "[CV]  criterion=entropy, max_leaf_nodes=18, min_samples_split=3, score=0.689670 -   2.3s\n",
      "[CV] criterion=entropy, max_leaf_nodes=18, min_samples_split=3 .......\n",
      "[CV]  criterion=entropy, max_leaf_nodes=18, min_samples_split=3, score=0.693956 -   2.2s\n",
      "[CV] criterion=entropy, max_leaf_nodes=18, min_samples_split=4 .......\n",
      "[CV]  criterion=entropy, max_leaf_nodes=18, min_samples_split=4, score=0.709512 -   2.3s\n",
      "[CV] criterion=entropy, max_leaf_nodes=18, min_samples_split=4 .......\n",
      "[CV]  criterion=entropy, max_leaf_nodes=18, min_samples_split=4, score=0.689670 -   2.7s\n",
      "[CV] criterion=entropy, max_leaf_nodes=18, min_samples_split=4 .......\n",
      "[CV]  criterion=entropy, max_leaf_nodes=18, min_samples_split=4, score=0.693956 -   3.0s\n",
      "[CV] criterion=entropy, max_leaf_nodes=19, min_samples_split=2 .......\n",
      "[CV]  criterion=entropy, max_leaf_nodes=19, min_samples_split=2, score=0.716795 -   2.6s\n",
      "[CV] criterion=entropy, max_leaf_nodes=19, min_samples_split=2 .......\n",
      "[CV]  criterion=entropy, max_leaf_nodes=19, min_samples_split=2, score=0.693956 -   2.5s\n",
      "[CV] criterion=entropy, max_leaf_nodes=19, min_samples_split=2 .......\n",
      "[CV]  criterion=entropy, max_leaf_nodes=19, min_samples_split=2, score=0.704243 -   2.8s\n",
      "[CV] criterion=entropy, max_leaf_nodes=19, min_samples_split=3 .......\n",
      "[CV]  criterion=entropy, max_leaf_nodes=19, min_samples_split=3, score=0.716795 -   2.6s\n",
      "[CV] criterion=entropy, max_leaf_nodes=19, min_samples_split=3 .......\n",
      "[CV]  criterion=entropy, max_leaf_nodes=19, min_samples_split=3, score=0.693956 -   2.6s\n",
      "[CV] criterion=entropy, max_leaf_nodes=19, min_samples_split=3 .......\n",
      "[CV]  criterion=entropy, max_leaf_nodes=19, min_samples_split=3, score=0.704243 -   2.9s\n",
      "[CV] criterion=entropy, max_leaf_nodes=19, min_samples_split=4 .......\n",
      "[CV]  criterion=entropy, max_leaf_nodes=19, min_samples_split=4, score=0.716795 -   2.5s\n",
      "[CV] criterion=entropy, max_leaf_nodes=19, min_samples_split=4 .......\n",
      "[CV]  criterion=entropy, max_leaf_nodes=19, min_samples_split=4, score=0.693956 -   2.4s\n",
      "[CV] criterion=entropy, max_leaf_nodes=19, min_samples_split=4 .......\n",
      "[CV]  criterion=entropy, max_leaf_nodes=19, min_samples_split=4, score=0.704243 -   2.4s\n",
      "[CV] criterion=entropy, max_leaf_nodes=20, min_samples_split=2 .......\n",
      "[CV]  criterion=entropy, max_leaf_nodes=20, min_samples_split=2, score=0.715938 -   2.6s\n",
      "[CV] criterion=entropy, max_leaf_nodes=20, min_samples_split=2 .......\n",
      "[CV]  criterion=entropy, max_leaf_nodes=20, min_samples_split=2, score=0.693956 -   2.5s\n",
      "[CV] criterion=entropy, max_leaf_nodes=20, min_samples_split=2 .......\n",
      "[CV]  criterion=entropy, max_leaf_nodes=20, min_samples_split=2, score=0.703386 -   2.8s\n",
      "[CV] criterion=entropy, max_leaf_nodes=20, min_samples_split=3 .......\n",
      "[CV]  criterion=entropy, max_leaf_nodes=20, min_samples_split=3, score=0.715938 -   2.8s\n",
      "[CV] criterion=entropy, max_leaf_nodes=20, min_samples_split=3 .......\n",
      "[CV]  criterion=entropy, max_leaf_nodes=20, min_samples_split=3, score=0.693956 -   2.9s\n",
      "[CV] criterion=entropy, max_leaf_nodes=20, min_samples_split=3 .......\n",
      "[CV]  criterion=entropy, max_leaf_nodes=20, min_samples_split=3, score=0.703386 -   2.5s\n",
      "[CV] criterion=entropy, max_leaf_nodes=20, min_samples_split=4 .......\n",
      "[CV]  criterion=entropy, max_leaf_nodes=20, min_samples_split=4, score=0.715938 -   3.0s\n",
      "[CV] criterion=entropy, max_leaf_nodes=20, min_samples_split=4 .......\n",
      "[CV]  criterion=entropy, max_leaf_nodes=20, min_samples_split=4, score=0.693956 -   2.6s\n",
      "[CV] criterion=entropy, max_leaf_nodes=20, min_samples_split=4 .......\n",
      "[CV]  criterion=entropy, max_leaf_nodes=20, min_samples_split=4, score=0.703386 -   2.9s\n",
      "[CV] criterion=entropy, max_leaf_nodes=21, min_samples_split=2 .......\n"
     ]
    },
    {
     "name": "stdout",
     "output_type": "stream",
     "text": [
      "[CV]  criterion=entropy, max_leaf_nodes=21, min_samples_split=2, score=0.717652 -   2.7s\n",
      "[CV] criterion=entropy, max_leaf_nodes=21, min_samples_split=2 .......\n",
      "[CV]  criterion=entropy, max_leaf_nodes=21, min_samples_split=2, score=0.690099 -   2.7s\n",
      "[CV] criterion=entropy, max_leaf_nodes=21, min_samples_split=2 .......\n",
      "[CV]  criterion=entropy, max_leaf_nodes=21, min_samples_split=2, score=0.703386 -   2.6s\n",
      "[CV] criterion=entropy, max_leaf_nodes=21, min_samples_split=3 .......\n",
      "[CV]  criterion=entropy, max_leaf_nodes=21, min_samples_split=3, score=0.717652 -   2.5s\n",
      "[CV] criterion=entropy, max_leaf_nodes=21, min_samples_split=3 .......\n",
      "[CV]  criterion=entropy, max_leaf_nodes=21, min_samples_split=3, score=0.690099 -   2.8s\n",
      "[CV] criterion=entropy, max_leaf_nodes=21, min_samples_split=3 .......\n",
      "[CV]  criterion=entropy, max_leaf_nodes=21, min_samples_split=3, score=0.703386 -   2.6s\n",
      "[CV] criterion=entropy, max_leaf_nodes=21, min_samples_split=4 .......\n",
      "[CV]  criterion=entropy, max_leaf_nodes=21, min_samples_split=4, score=0.717652 -   2.6s\n",
      "[CV] criterion=entropy, max_leaf_nodes=21, min_samples_split=4 .......\n",
      "[CV]  criterion=entropy, max_leaf_nodes=21, min_samples_split=4, score=0.690099 -   2.6s\n",
      "[CV] criterion=entropy, max_leaf_nodes=21, min_samples_split=4 .......\n",
      "[CV]  criterion=entropy, max_leaf_nodes=21, min_samples_split=4, score=0.703386 -   2.5s\n",
      "[CV] criterion=entropy, max_leaf_nodes=22, min_samples_split=2 .......\n",
      "[CV]  criterion=entropy, max_leaf_nodes=22, min_samples_split=2, score=0.721937 -   2.6s\n",
      "[CV] criterion=entropy, max_leaf_nodes=22, min_samples_split=2 .......\n",
      "[CV]  criterion=entropy, max_leaf_nodes=22, min_samples_split=2, score=0.696528 -   3.1s\n",
      "[CV] criterion=entropy, max_leaf_nodes=22, min_samples_split=2 .......\n",
      "[CV]  criterion=entropy, max_leaf_nodes=22, min_samples_split=2, score=0.708101 -   2.6s\n",
      "[CV] criterion=entropy, max_leaf_nodes=22, min_samples_split=3 .......\n",
      "[CV]  criterion=entropy, max_leaf_nodes=22, min_samples_split=3, score=0.721937 -   2.6s\n",
      "[CV] criterion=entropy, max_leaf_nodes=22, min_samples_split=3 .......\n",
      "[CV]  criterion=entropy, max_leaf_nodes=22, min_samples_split=3, score=0.696528 -   2.7s\n",
      "[CV] criterion=entropy, max_leaf_nodes=22, min_samples_split=3 .......\n",
      "[CV]  criterion=entropy, max_leaf_nodes=22, min_samples_split=3, score=0.708101 -   2.8s\n",
      "[CV] criterion=entropy, max_leaf_nodes=22, min_samples_split=4 .......\n",
      "[CV]  criterion=entropy, max_leaf_nodes=22, min_samples_split=4, score=0.721937 -   2.8s\n",
      "[CV] criterion=entropy, max_leaf_nodes=22, min_samples_split=4 .......\n",
      "[CV]  criterion=entropy, max_leaf_nodes=22, min_samples_split=4, score=0.696528 -   3.1s\n",
      "[CV] criterion=entropy, max_leaf_nodes=22, min_samples_split=4 .......\n",
      "[CV]  criterion=entropy, max_leaf_nodes=22, min_samples_split=4, score=0.708101 -   2.6s\n",
      "[CV] criterion=entropy, max_leaf_nodes=23, min_samples_split=2 .......\n",
      "[CV]  criterion=entropy, max_leaf_nodes=23, min_samples_split=2, score=0.721937 -   2.7s\n",
      "[CV] criterion=entropy, max_leaf_nodes=23, min_samples_split=2 .......\n",
      "[CV]  criterion=entropy, max_leaf_nodes=23, min_samples_split=2, score=0.696957 -   2.8s\n",
      "[CV] criterion=entropy, max_leaf_nodes=23, min_samples_split=2 .......\n",
      "[CV]  criterion=entropy, max_leaf_nodes=23, min_samples_split=2, score=0.709387 -   2.7s\n",
      "[CV] criterion=entropy, max_leaf_nodes=23, min_samples_split=3 .......\n",
      "[CV]  criterion=entropy, max_leaf_nodes=23, min_samples_split=3, score=0.721937 -   2.9s\n",
      "[CV] criterion=entropy, max_leaf_nodes=23, min_samples_split=3 .......\n",
      "[CV]  criterion=entropy, max_leaf_nodes=23, min_samples_split=3, score=0.696957 -   2.9s\n",
      "[CV] criterion=entropy, max_leaf_nodes=23, min_samples_split=3 .......\n",
      "[CV]  criterion=entropy, max_leaf_nodes=23, min_samples_split=3, score=0.709387 -   2.7s\n",
      "[CV] criterion=entropy, max_leaf_nodes=23, min_samples_split=4 .......\n",
      "[CV]  criterion=entropy, max_leaf_nodes=23, min_samples_split=4, score=0.721937 -   2.8s\n",
      "[CV] criterion=entropy, max_leaf_nodes=23, min_samples_split=4 .......\n",
      "[CV]  criterion=entropy, max_leaf_nodes=23, min_samples_split=4, score=0.696957 -   2.9s\n",
      "[CV] criterion=entropy, max_leaf_nodes=23, min_samples_split=4 .......\n",
      "[CV]  criterion=entropy, max_leaf_nodes=23, min_samples_split=4, score=0.709387 -   2.6s\n",
      "[CV] criterion=entropy, max_leaf_nodes=24, min_samples_split=2 .......\n",
      "[CV]  criterion=entropy, max_leaf_nodes=24, min_samples_split=2, score=0.721937 -   3.2s\n",
      "[CV] criterion=entropy, max_leaf_nodes=24, min_samples_split=2 .......\n",
      "[CV]  criterion=entropy, max_leaf_nodes=24, min_samples_split=2, score=0.696957 -   3.1s\n",
      "[CV] criterion=entropy, max_leaf_nodes=24, min_samples_split=2 .......\n",
      "[CV]  criterion=entropy, max_leaf_nodes=24, min_samples_split=2, score=0.713673 -   2.9s\n",
      "[CV] criterion=entropy, max_leaf_nodes=24, min_samples_split=3 .......\n",
      "[CV]  criterion=entropy, max_leaf_nodes=24, min_samples_split=3, score=0.721937 -   2.9s\n",
      "[CV] criterion=entropy, max_leaf_nodes=24, min_samples_split=3 .......\n",
      "[CV]  criterion=entropy, max_leaf_nodes=24, min_samples_split=3, score=0.696957 -   3.1s\n",
      "[CV] criterion=entropy, max_leaf_nodes=24, min_samples_split=3 .......\n",
      "[CV]  criterion=entropy, max_leaf_nodes=24, min_samples_split=3, score=0.713673 -   3.0s\n",
      "[CV] criterion=entropy, max_leaf_nodes=24, min_samples_split=4 .......\n",
      "[CV]  criterion=entropy, max_leaf_nodes=24, min_samples_split=4, score=0.721937 -   2.7s\n",
      "[CV] criterion=entropy, max_leaf_nodes=24, min_samples_split=4 .......\n",
      "[CV]  criterion=entropy, max_leaf_nodes=24, min_samples_split=4, score=0.696957 -   3.2s\n",
      "[CV] criterion=entropy, max_leaf_nodes=24, min_samples_split=4 .......\n",
      "[CV]  criterion=entropy, max_leaf_nodes=24, min_samples_split=4, score=0.713673 -   3.1s\n",
      "[CV] criterion=entropy, max_leaf_nodes=25, min_samples_split=2 .......\n",
      "[CV]  criterion=entropy, max_leaf_nodes=25, min_samples_split=2, score=0.721937 -   3.1s\n",
      "[CV] criterion=entropy, max_leaf_nodes=25, min_samples_split=2 .......\n",
      "[CV]  criterion=entropy, max_leaf_nodes=25, min_samples_split=2, score=0.696957 -   5.1s\n",
      "[CV] criterion=entropy, max_leaf_nodes=25, min_samples_split=2 .......\n",
      "[CV]  criterion=entropy, max_leaf_nodes=25, min_samples_split=2, score=0.718817 -   3.4s\n",
      "[CV] criterion=entropy, max_leaf_nodes=25, min_samples_split=3 .......\n",
      "[CV]  criterion=entropy, max_leaf_nodes=25, min_samples_split=3, score=0.721937 -   3.6s\n",
      "[CV] criterion=entropy, max_leaf_nodes=25, min_samples_split=3 .......\n",
      "[CV]  criterion=entropy, max_leaf_nodes=25, min_samples_split=3, score=0.696957 -   3.2s\n",
      "[CV] criterion=entropy, max_leaf_nodes=25, min_samples_split=3 .......\n",
      "[CV]  criterion=entropy, max_leaf_nodes=25, min_samples_split=3, score=0.718817 -   3.4s\n",
      "[CV] criterion=entropy, max_leaf_nodes=25, min_samples_split=4 .......\n",
      "[CV]  criterion=entropy, max_leaf_nodes=25, min_samples_split=4, score=0.721937 -   3.0s\n",
      "[CV] criterion=entropy, max_leaf_nodes=25, min_samples_split=4 .......\n",
      "[CV]  criterion=entropy, max_leaf_nodes=25, min_samples_split=4, score=0.696957 -   3.2s\n",
      "[CV] criterion=entropy, max_leaf_nodes=25, min_samples_split=4 .......\n",
      "[CV]  criterion=entropy, max_leaf_nodes=25, min_samples_split=4, score=0.718817 -   3.0s\n",
      "[CV] criterion=entropy, max_leaf_nodes=26, min_samples_split=2 .......\n",
      "[CV]  criterion=entropy, max_leaf_nodes=26, min_samples_split=2, score=0.721937 -   3.0s\n",
      "[CV] criterion=entropy, max_leaf_nodes=26, min_samples_split=2 .......\n",
      "[CV]  criterion=entropy, max_leaf_nodes=26, min_samples_split=2, score=0.696957 -   3.6s\n",
      "[CV] criterion=entropy, max_leaf_nodes=26, min_samples_split=2 .......\n",
      "[CV]  criterion=entropy, max_leaf_nodes=26, min_samples_split=2, score=0.718817 -   3.0s\n",
      "[CV] criterion=entropy, max_leaf_nodes=26, min_samples_split=3 .......\n",
      "[CV]  criterion=entropy, max_leaf_nodes=26, min_samples_split=3, score=0.721937 -   3.1s\n",
      "[CV] criterion=entropy, max_leaf_nodes=26, min_samples_split=3 .......\n",
      "[CV]  criterion=entropy, max_leaf_nodes=26, min_samples_split=3, score=0.696957 -   3.0s\n",
      "[CV] criterion=entropy, max_leaf_nodes=26, min_samples_split=3 .......\n",
      "[CV]  criterion=entropy, max_leaf_nodes=26, min_samples_split=3, score=0.718817 -   2.8s\n",
      "[CV] criterion=entropy, max_leaf_nodes=26, min_samples_split=4 .......\n",
      "[CV]  criterion=entropy, max_leaf_nodes=26, min_samples_split=4, score=0.721937 -   3.0s\n",
      "[CV] criterion=entropy, max_leaf_nodes=26, min_samples_split=4 .......\n"
     ]
    },
    {
     "name": "stdout",
     "output_type": "stream",
     "text": [
      "[CV]  criterion=entropy, max_leaf_nodes=26, min_samples_split=4, score=0.696957 -   2.9s\n",
      "[CV] criterion=entropy, max_leaf_nodes=26, min_samples_split=4 .......\n",
      "[CV]  criterion=entropy, max_leaf_nodes=26, min_samples_split=4, score=0.718817 -   2.8s\n",
      "[CV] criterion=entropy, max_leaf_nodes=27, min_samples_split=2 .......\n",
      "[CV]  criterion=entropy, max_leaf_nodes=27, min_samples_split=2, score=0.725793 -   2.9s\n",
      "[CV] criterion=entropy, max_leaf_nodes=27, min_samples_split=2 .......\n",
      "[CV]  criterion=entropy, max_leaf_nodes=27, min_samples_split=2, score=0.712387 -   3.0s\n",
      "[CV] criterion=entropy, max_leaf_nodes=27, min_samples_split=2 .......\n",
      "[CV]  criterion=entropy, max_leaf_nodes=27, min_samples_split=2, score=0.720532 -   2.9s\n",
      "[CV] criterion=entropy, max_leaf_nodes=27, min_samples_split=3 .......\n",
      "[CV]  criterion=entropy, max_leaf_nodes=27, min_samples_split=3, score=0.725793 -   3.0s\n",
      "[CV] criterion=entropy, max_leaf_nodes=27, min_samples_split=3 .......\n",
      "[CV]  criterion=entropy, max_leaf_nodes=27, min_samples_split=3, score=0.712387 -   3.0s\n",
      "[CV] criterion=entropy, max_leaf_nodes=27, min_samples_split=3 .......\n",
      "[CV]  criterion=entropy, max_leaf_nodes=27, min_samples_split=3, score=0.720532 -   2.7s\n",
      "[CV] criterion=entropy, max_leaf_nodes=27, min_samples_split=4 .......\n",
      "[CV]  criterion=entropy, max_leaf_nodes=27, min_samples_split=4, score=0.725793 -   3.2s\n",
      "[CV] criterion=entropy, max_leaf_nodes=27, min_samples_split=4 .......\n",
      "[CV]  criterion=entropy, max_leaf_nodes=27, min_samples_split=4, score=0.712387 -   3.6s\n",
      "[CV] criterion=entropy, max_leaf_nodes=27, min_samples_split=4 .......\n",
      "[CV]  criterion=entropy, max_leaf_nodes=27, min_samples_split=4, score=0.720532 -   3.2s\n",
      "[CV] criterion=entropy, max_leaf_nodes=28, min_samples_split=2 .......\n",
      "[CV]  criterion=entropy, max_leaf_nodes=28, min_samples_split=2, score=0.725793 -   3.2s\n",
      "[CV] criterion=entropy, max_leaf_nodes=28, min_samples_split=2 .......\n",
      "[CV]  criterion=entropy, max_leaf_nodes=28, min_samples_split=2, score=0.712816 -   3.5s\n",
      "[CV] criterion=entropy, max_leaf_nodes=28, min_samples_split=2 .......\n",
      "[CV]  criterion=entropy, max_leaf_nodes=28, min_samples_split=2, score=0.719246 -   3.1s\n",
      "[CV] criterion=entropy, max_leaf_nodes=28, min_samples_split=3 .......\n",
      "[CV]  criterion=entropy, max_leaf_nodes=28, min_samples_split=3, score=0.725793 -   3.7s\n",
      "[CV] criterion=entropy, max_leaf_nodes=28, min_samples_split=3 .......\n",
      "[CV]  criterion=entropy, max_leaf_nodes=28, min_samples_split=3, score=0.712816 -   3.4s\n",
      "[CV] criterion=entropy, max_leaf_nodes=28, min_samples_split=3 .......\n",
      "[CV]  criterion=entropy, max_leaf_nodes=28, min_samples_split=3, score=0.719246 -   3.3s\n",
      "[CV] criterion=entropy, max_leaf_nodes=28, min_samples_split=4 .......\n",
      "[CV]  criterion=entropy, max_leaf_nodes=28, min_samples_split=4, score=0.725793 -   3.5s\n",
      "[CV] criterion=entropy, max_leaf_nodes=28, min_samples_split=4 .......\n",
      "[CV]  criterion=entropy, max_leaf_nodes=28, min_samples_split=4, score=0.712816 -   3.9s\n",
      "[CV] criterion=entropy, max_leaf_nodes=28, min_samples_split=4 .......\n",
      "[CV]  criterion=entropy, max_leaf_nodes=28, min_samples_split=4, score=0.719246 -   3.5s\n",
      "[CV] criterion=entropy, max_leaf_nodes=29, min_samples_split=2 .......\n",
      "[CV]  criterion=entropy, max_leaf_nodes=29, min_samples_split=2, score=0.729649 -   3.4s\n",
      "[CV] criterion=entropy, max_leaf_nodes=29, min_samples_split=2 .......\n",
      "[CV]  criterion=entropy, max_leaf_nodes=29, min_samples_split=2, score=0.716245 -   3.5s\n",
      "[CV] criterion=entropy, max_leaf_nodes=29, min_samples_split=2 .......\n",
      "[CV]  criterion=entropy, max_leaf_nodes=29, min_samples_split=2, score=0.718817 -   3.0s\n",
      "[CV] criterion=entropy, max_leaf_nodes=29, min_samples_split=3 .......\n",
      "[CV]  criterion=entropy, max_leaf_nodes=29, min_samples_split=3, score=0.729649 -   3.6s\n",
      "[CV] criterion=entropy, max_leaf_nodes=29, min_samples_split=3 .......\n",
      "[CV]  criterion=entropy, max_leaf_nodes=29, min_samples_split=3, score=0.716245 -   3.3s\n",
      "[CV] criterion=entropy, max_leaf_nodes=29, min_samples_split=3 .......\n",
      "[CV]  criterion=entropy, max_leaf_nodes=29, min_samples_split=3, score=0.718817 -   3.1s\n",
      "[CV] criterion=entropy, max_leaf_nodes=29, min_samples_split=4 .......\n",
      "[CV]  criterion=entropy, max_leaf_nodes=29, min_samples_split=4, score=0.729649 -   3.3s\n",
      "[CV] criterion=entropy, max_leaf_nodes=29, min_samples_split=4 .......\n",
      "[CV]  criterion=entropy, max_leaf_nodes=29, min_samples_split=4, score=0.716245 -   3.3s\n",
      "[CV] criterion=entropy, max_leaf_nodes=29, min_samples_split=4 .......\n",
      "[CV]  criterion=entropy, max_leaf_nodes=29, min_samples_split=4, score=0.718817 -   3.1s\n"
     ]
    },
    {
     "name": "stderr",
     "output_type": "stream",
     "text": [
      "[Parallel(n_jobs=1)]: Done 504 out of 504 | elapsed: 18.9min finished\n"
     ]
    },
    {
     "data": {
      "text/plain": [
       "GridSearchCV(cv=None, error_score='raise',\n",
       "       estimator=DecisionTreeClassifier(class_weight=None, criterion='gini', max_depth=None,\n",
       "            max_features=None, max_leaf_nodes=None,\n",
       "            min_impurity_decrease=0.0, min_impurity_split=None,\n",
       "            min_samples_leaf=1, min_samples_split=2,\n",
       "            min_weight_fraction_leaf=0.0, presort=False, random_state=None,\n",
       "            splitter='best'),\n",
       "       fit_params={}, iid=True, n_jobs=1,\n",
       "       param_grid={'criterion': ['gini', 'entropy'], 'max_leaf_nodes': [2, 3, 4, 5, 6, 7, 8, 9, 10, 11, 12, 13, 14, 15, 16, 17, 18, 19, 20, 21, 22, 23, 24, 25, 26, 27, 28, 29], 'min_samples_split': [2, 3, 4]},\n",
       "       pre_dispatch='2*n_jobs', refit=True, scoring=None, verbose=3)"
      ]
     },
     "execution_count": 87,
     "metadata": {
      "tags": []
     },
     "output_type": "execute_result"
    }
   ],
   "source": [
    "grid1.fit(train_count_vec,y_train)"
   ]
  },
  {
   "cell_type": "code",
   "execution_count": 0,
   "metadata": {
    "colab": {},
    "colab_type": "code",
    "id": "OxS330Y6R24N",
    "outputId": "7cc7ed81-3690-48a0-c97e-109f1f9458e5"
   },
   "outputs": [
    {
     "data": {
      "text/plain": [
       "DecisionTreeClassifier(class_weight=None, criterion='gini', max_depth=None,\n",
       "            max_features=None, max_leaf_nodes=29,\n",
       "            min_impurity_decrease=0.0, min_impurity_split=None,\n",
       "            min_samples_leaf=1, min_samples_split=2,\n",
       "            min_weight_fraction_leaf=0.0, presort=False, random_state=None,\n",
       "            splitter='best')"
      ]
     },
     "execution_count": 88,
     "metadata": {
      "tags": []
     },
     "output_type": "execute_result"
    }
   ],
   "source": [
    "grid1.best_estimator_"
   ]
  },
  {
   "cell_type": "code",
   "execution_count": 0,
   "metadata": {
    "colab": {},
    "colab_type": "code",
    "id": "tOMrxnxoR24U",
    "outputId": "f6094c82-a5b1-4895-fef5-e902f41223f7"
   },
   "outputs": [
    {
     "data": {
      "text/plain": [
       "{'criterion': 'gini', 'max_leaf_nodes': 29, 'min_samples_split': 2}"
      ]
     },
     "execution_count": 89,
     "metadata": {
      "tags": []
     },
     "output_type": "execute_result"
    }
   ],
   "source": [
    "grid1.best_params_"
   ]
  },
  {
   "cell_type": "code",
   "execution_count": 0,
   "metadata": {
    "colab": {},
    "colab_type": "code",
    "id": "13hx1sQQR24i",
    "outputId": "563ab562-489a-43f0-b6b6-c9291a297970"
   },
   "outputs": [
    {
     "data": {
      "text/plain": [
       "0.7301428571428571"
      ]
     },
     "execution_count": 90,
     "metadata": {
      "tags": []
     },
     "output_type": "execute_result"
    }
   ],
   "source": [
    "grid1.best_score_"
   ]
  },
  {
   "cell_type": "code",
   "execution_count": 0,
   "metadata": {
    "colab": {},
    "colab_type": "code",
    "id": "YzP5gOkWR249"
   },
   "outputs": [],
   "source": [
    "y_pred_g2 = grid1.predict(test_count_vec)"
   ]
  },
  {
   "cell_type": "code",
   "execution_count": 0,
   "metadata": {
    "colab": {},
    "colab_type": "code",
    "id": "WMEzcdBuR25F",
    "outputId": "db186bbe-8ab4-4bf9-9c12-c03c610c1a71"
   },
   "outputs": [
    {
     "name": "stdout",
     "output_type": "stream",
     "text": [
      "[[1125  404]\n",
      " [ 389 1082]]\n"
     ]
    }
   ],
   "source": [
    "print(confusion_matrix(y_test,y_pred_g2))"
   ]
  },
  {
   "cell_type": "code",
   "execution_count": 0,
   "metadata": {
    "colab": {},
    "colab_type": "code",
    "id": "G-C9TGlHR25L",
    "outputId": "64343fc1-9806-4107-bc9e-78fbdf2c2285"
   },
   "outputs": [
    {
     "name": "stdout",
     "output_type": "stream",
     "text": [
      "0.7356666666666667\n"
     ]
    }
   ],
   "source": [
    "print(accuracy_score(y_test,y_pred_g2))"
   ]
  },
  {
   "cell_type": "code",
   "execution_count": 0,
   "metadata": {
    "colab": {},
    "colab_type": "code",
    "id": "WyLz860kR25R",
    "outputId": "00ecdc4f-4217-4cf8-fd4c-562103b855e4"
   },
   "outputs": [
    {
     "name": "stdout",
     "output_type": "stream",
     "text": [
      "             precision    recall  f1-score   support\n",
      "\n",
      "          0       0.74      0.74      0.74      1529\n",
      "          1       0.73      0.74      0.73      1471\n",
      "\n",
      "avg / total       0.74      0.74      0.74      3000\n",
      "\n"
     ]
    }
   ],
   "source": [
    "print(classification_report(y_test,y_pred_g2))"
   ]
  },
  {
   "cell_type": "markdown",
   "metadata": {
    "colab_type": "text",
    "id": "M02R0WW2R25X"
   },
   "source": [
    "## Support Vector Machine "
   ]
  },
  {
   "cell_type": "code",
   "execution_count": 0,
   "metadata": {
    "colab": {},
    "colab_type": "code",
    "id": "pkl0xr57R25X"
   },
   "outputs": [],
   "source": [
    "clf_svm = SVC()"
   ]
  },
  {
   "cell_type": "code",
   "execution_count": 0,
   "metadata": {
    "colab": {},
    "colab_type": "code",
    "id": "NijlawkWR25c",
    "outputId": "4af390a6-0b23-4a6f-a308-161f108ab880"
   },
   "outputs": [
    {
     "data": {
      "text/plain": [
       "SVC(C=1.0, cache_size=200, class_weight=None, coef0=0.0,\n",
       "  decision_function_shape='ovr', degree=3, gamma='auto', kernel='rbf',\n",
       "  max_iter=-1, probability=False, random_state=None, shrinking=True,\n",
       "  tol=0.001, verbose=False)"
      ]
     },
     "execution_count": 99,
     "metadata": {
      "tags": []
     },
     "output_type": "execute_result"
    }
   ],
   "source": [
    "clf_svm.fit(train_count_vec,y_train)"
   ]
  },
  {
   "cell_type": "code",
   "execution_count": 0,
   "metadata": {
    "colab": {},
    "colab_type": "code",
    "id": "wxj5DKfgR25f"
   },
   "outputs": [],
   "source": [
    "y_pred2 = clf_svm.predict(test_count_vec)"
   ]
  },
  {
   "cell_type": "markdown",
   "metadata": {
    "colab_type": "text",
    "id": "7b3x9QIvR25l"
   },
   "source": [
    "## Model Evaluation"
   ]
  },
  {
   "cell_type": "code",
   "execution_count": 0,
   "metadata": {
    "colab": {},
    "colab_type": "code",
    "id": "Y1KbuhqYR25l",
    "outputId": "ac266dbe-f81f-44ff-dbc5-8c64c98393ab"
   },
   "outputs": [
    {
     "name": "stdout",
     "output_type": "stream",
     "text": [
      "[[1529    0]\n",
      " [1471    0]]\n"
     ]
    }
   ],
   "source": [
    "print(confusion_matrix(y_test,y_pred2))"
   ]
  },
  {
   "cell_type": "code",
   "execution_count": 0,
   "metadata": {
    "colab": {},
    "colab_type": "code",
    "id": "ImpqCod3R25p",
    "outputId": "ba5d3451-6e08-4806-8128-372addf8106c"
   },
   "outputs": [
    {
     "name": "stdout",
     "output_type": "stream",
     "text": [
      "0.5096666666666667\n"
     ]
    }
   ],
   "source": [
    "print(accuracy_score(y_test,y_pred2))"
   ]
  },
  {
   "cell_type": "code",
   "execution_count": 0,
   "metadata": {
    "colab": {},
    "colab_type": "code",
    "id": "wwAotetqR25u",
    "outputId": "8472256f-6d1b-4ae5-a03e-a0ff63bfdb35"
   },
   "outputs": [
    {
     "name": "stdout",
     "output_type": "stream",
     "text": [
      "             precision    recall  f1-score   support\n",
      "\n",
      "          0       0.51      1.00      0.68      1529\n",
      "          1       0.00      0.00      0.00      1471\n",
      "\n",
      "avg / total       0.26      0.51      0.34      3000\n",
      "\n"
     ]
    },
    {
     "name": "stderr",
     "output_type": "stream",
     "text": [
      "C:\\Users\\Karthik Bharadhwaj\\Anaconda3\\lib\\site-packages\\sklearn\\metrics\\classification.py:1135: UndefinedMetricWarning: Precision and F-score are ill-defined and being set to 0.0 in labels with no predicted samples.\n",
      "  'precision', 'predicted', average, warn_for)\n"
     ]
    }
   ],
   "source": [
    "print(classification_report(y_test,y_pred2))"
   ]
  },
  {
   "cell_type": "markdown",
   "metadata": {
    "colab_type": "text",
    "id": "C6K1iuOkR252"
   },
   "source": [
    "## Hyperparameter Tunning : GridSearchCV "
   ]
  },
  {
   "cell_type": "code",
   "execution_count": 0,
   "metadata": {
    "colab": {},
    "colab_type": "code",
    "id": "cO2DURpwR252"
   },
   "outputs": [],
   "source": [
    "param_grid = {'C': [0.1, 1, 10, 100, 1000],  \n",
    "              'gamma': [1, 0.1, 0.01, 0.001, 0.0001], \n",
    "              'kernel': ['rbf', 'linear','poly','sigmoid']} "
   ]
  },
  {
   "cell_type": "code",
   "execution_count": 0,
   "metadata": {
    "colab": {},
    "colab_type": "code",
    "id": "fuiCyECHR258"
   },
   "outputs": [],
   "source": [
    "grid_svm = GridSearchCV(estimator=clf_svm,param_grid=param_grid,verbose=3)"
   ]
  },
  {
   "cell_type": "code",
   "execution_count": 0,
   "metadata": {
    "colab": {},
    "colab_type": "code",
    "id": "Dkop4X5ZR26C",
    "outputId": "5816efdf-b5bf-47a7-d20c-232ca62e9a03"
   },
   "outputs": [
    {
     "name": "stdout",
     "output_type": "stream",
     "text": [
      "Fitting 3 folds for each of 100 candidates, totalling 300 fits\n",
      "[CV] C=0.1, gamma=1, kernel=rbf ......................................\n",
      "[CV] ............. C=0.1, gamma=1, kernel=rbf, score=0.509854 -  26.8s\n",
      "[CV] C=0.1, gamma=1, kernel=rbf ......................................\n"
     ]
    },
    {
     "name": "stderr",
     "output_type": "stream",
     "text": [
      "[Parallel(n_jobs=1)]: Done   1 out of   1 | elapsed:   26.8s remaining:    0.0s\n"
     ]
    },
    {
     "name": "stdout",
     "output_type": "stream",
     "text": [
      "[CV] ............. C=0.1, gamma=1, kernel=rbf, score=0.509644 -  26.5s\n",
      "[CV] C=0.1, gamma=1, kernel=rbf ......................................\n"
     ]
    },
    {
     "name": "stderr",
     "output_type": "stream",
     "text": [
      "[Parallel(n_jobs=1)]: Done   2 out of   2 | elapsed:   53.4s remaining:    0.0s\n"
     ]
    },
    {
     "name": "stdout",
     "output_type": "stream",
     "text": [
      "[CV] ............. C=0.1, gamma=1, kernel=rbf, score=0.509644 -  29.1s\n",
      "[CV] C=0.1, gamma=1, kernel=linear ...................................\n",
      "[CV] .......... C=0.1, gamma=1, kernel=linear, score=0.832476 -  14.9s\n",
      "[CV] C=0.1, gamma=1, kernel=linear ...................................\n",
      "[CV] .......... C=0.1, gamma=1, kernel=linear, score=0.833262 -  15.3s\n",
      "[CV] C=0.1, gamma=1, kernel=linear ...................................\n",
      "[CV] .......... C=0.1, gamma=1, kernel=linear, score=0.841835 -  14.5s\n",
      "[CV] C=0.1, gamma=1, kernel=poly .....................................\n",
      "[CV] ............ C=0.1, gamma=1, kernel=poly, score=0.791345 -  33.2s\n",
      "[CV] C=0.1, gamma=1, kernel=poly .....................................\n",
      "[CV] ............ C=0.1, gamma=1, kernel=poly, score=0.764681 -  31.3s\n",
      "[CV] C=0.1, gamma=1, kernel=poly .....................................\n",
      "[CV] ............ C=0.1, gamma=1, kernel=poly, score=0.774539 -  25.6s\n",
      "[CV] C=0.1, gamma=1, kernel=sigmoid ..................................\n",
      "[CV] ......... C=0.1, gamma=1, kernel=sigmoid, score=0.650386 -  13.9s\n",
      "[CV] C=0.1, gamma=1, kernel=sigmoid ..................................\n",
      "[CV] ......... C=0.1, gamma=1, kernel=sigmoid, score=0.651522 -  14.1s\n",
      "[CV] C=0.1, gamma=1, kernel=sigmoid ..................................\n",
      "[CV] ......... C=0.1, gamma=1, kernel=sigmoid, score=0.633090 -  14.0s\n",
      "[CV] C=0.1, gamma=0.1, kernel=rbf ....................................\n",
      "[CV] ........... C=0.1, gamma=0.1, kernel=rbf, score=0.515424 -  29.1s\n",
      "[CV] C=0.1, gamma=0.1, kernel=rbf ....................................\n",
      "[CV] ........... C=0.1, gamma=0.1, kernel=rbf, score=0.521217 -  26.4s\n",
      "[CV] C=0.1, gamma=0.1, kernel=rbf ....................................\n",
      "[CV] ........... C=0.1, gamma=0.1, kernel=rbf, score=0.511787 -  27.3s\n",
      "[CV] C=0.1, gamma=0.1, kernel=linear .................................\n",
      "[CV] ........ C=0.1, gamma=0.1, kernel=linear, score=0.832476 -  14.0s\n",
      "[CV] C=0.1, gamma=0.1, kernel=linear .................................\n",
      "[CV] ........ C=0.1, gamma=0.1, kernel=linear, score=0.833262 -  14.1s\n",
      "[CV] C=0.1, gamma=0.1, kernel=linear .................................\n",
      "[CV] ........ C=0.1, gamma=0.1, kernel=linear, score=0.841835 -  13.7s\n",
      "[CV] C=0.1, gamma=0.1, kernel=poly ...................................\n",
      "[CV] .......... C=0.1, gamma=0.1, kernel=poly, score=0.729220 -  24.8s\n",
      "[CV] C=0.1, gamma=0.1, kernel=poly ...................................\n",
      "[CV] .......... C=0.1, gamma=0.1, kernel=poly, score=0.700386 -  24.3s\n",
      "[CV] C=0.1, gamma=0.1, kernel=poly ...................................\n",
      "[CV] .......... C=0.1, gamma=0.1, kernel=poly, score=0.757823 -  24.6s\n",
      "[CV] C=0.1, gamma=0.1, kernel=sigmoid ................................\n",
      "[CV] ....... C=0.1, gamma=0.1, kernel=sigmoid, score=0.722793 -  15.5s\n",
      "[CV] C=0.1, gamma=0.1, kernel=sigmoid ................................\n",
      "[CV] ....... C=0.1, gamma=0.1, kernel=sigmoid, score=0.718817 -  16.3s\n",
      "[CV] C=0.1, gamma=0.1, kernel=sigmoid ................................\n",
      "[CV] ....... C=0.1, gamma=0.1, kernel=sigmoid, score=0.738105 -  16.5s\n",
      "[CV] C=0.1, gamma=0.01, kernel=rbf ...................................\n",
      "[CV] .......... C=0.1, gamma=0.01, kernel=rbf, score=0.716367 -  24.5s\n",
      "[CV] C=0.1, gamma=0.01, kernel=rbf ...................................\n",
      "[CV] .......... C=0.1, gamma=0.01, kernel=rbf, score=0.714959 -  25.7s\n",
      "[CV] C=0.1, gamma=0.01, kernel=rbf ...................................\n",
      "[CV] .......... C=0.1, gamma=0.01, kernel=rbf, score=0.736820 -  26.3s\n",
      "[CV] C=0.1, gamma=0.01, kernel=linear ................................\n",
      "[CV] ....... C=0.1, gamma=0.01, kernel=linear, score=0.832476 -  14.7s\n",
      "[CV] C=0.1, gamma=0.01, kernel=linear ................................\n",
      "[CV] ....... C=0.1, gamma=0.01, kernel=linear, score=0.833262 -  14.5s\n",
      "[CV] C=0.1, gamma=0.01, kernel=linear ................................\n",
      "[CV] ....... C=0.1, gamma=0.01, kernel=linear, score=0.841835 -  14.5s\n",
      "[CV] C=0.1, gamma=0.01, kernel=poly ..................................\n",
      "[CV] ......... C=0.1, gamma=0.01, kernel=poly, score=0.509854 -  27.4s\n",
      "[CV] C=0.1, gamma=0.01, kernel=poly ..................................\n",
      "[CV] ......... C=0.1, gamma=0.01, kernel=poly, score=0.509644 -  27.6s\n",
      "[CV] C=0.1, gamma=0.01, kernel=poly ..................................\n",
      "[CV] ......... C=0.1, gamma=0.01, kernel=poly, score=0.510073 -  27.1s\n",
      "[CV] C=0.1, gamma=0.01, kernel=sigmoid ...............................\n",
      "[CV] ...... C=0.1, gamma=0.01, kernel=sigmoid, score=0.776778 -  25.9s\n",
      "[CV] C=0.1, gamma=0.01, kernel=sigmoid ...............................\n",
      "[CV] ...... C=0.1, gamma=0.01, kernel=sigmoid, score=0.775825 -  26.2s\n",
      "[CV] C=0.1, gamma=0.01, kernel=sigmoid ...............................\n",
      "[CV] ...... C=0.1, gamma=0.01, kernel=sigmoid, score=0.774968 -  25.3s\n",
      "[CV] C=0.1, gamma=0.001, kernel=rbf ..................................\n",
      "[CV] ......... C=0.1, gamma=0.001, kernel=rbf, score=0.510283 -  27.7s\n",
      "[CV] C=0.1, gamma=0.001, kernel=rbf ..................................\n",
      "[CV] ......... C=0.1, gamma=0.001, kernel=rbf, score=0.509644 -  27.4s\n",
      "[CV] C=0.1, gamma=0.001, kernel=rbf ..................................\n",
      "[CV] ......... C=0.1, gamma=0.001, kernel=rbf, score=0.510073 -  27.6s\n",
      "[CV] C=0.1, gamma=0.001, kernel=linear ...............................\n",
      "[CV] ...... C=0.1, gamma=0.001, kernel=linear, score=0.832476 -  14.7s\n",
      "[CV] C=0.1, gamma=0.001, kernel=linear ...............................\n",
      "[CV] ...... C=0.1, gamma=0.001, kernel=linear, score=0.833262 -  14.7s\n",
      "[CV] C=0.1, gamma=0.001, kernel=linear ...............................\n",
      "[CV] ...... C=0.1, gamma=0.001, kernel=linear, score=0.841835 -  14.8s\n",
      "[CV] C=0.1, gamma=0.001, kernel=poly .................................\n",
      "[CV] ........ C=0.1, gamma=0.001, kernel=poly, score=0.509854 -  31.1s\n",
      "[CV] C=0.1, gamma=0.001, kernel=poly .................................\n",
      "[CV] ........ C=0.1, gamma=0.001, kernel=poly, score=0.509644 -  28.0s\n",
      "[CV] C=0.1, gamma=0.001, kernel=poly .................................\n",
      "[CV] ........ C=0.1, gamma=0.001, kernel=poly, score=0.509644 -  28.3s\n",
      "[CV] C=0.1, gamma=0.001, kernel=sigmoid ..............................\n",
      "[CV] ..... C=0.1, gamma=0.001, kernel=sigmoid, score=0.509854 -  29.4s\n",
      "[CV] C=0.1, gamma=0.001, kernel=sigmoid ..............................\n",
      "[CV] ..... C=0.1, gamma=0.001, kernel=sigmoid, score=0.509644 -  29.9s\n",
      "[CV] C=0.1, gamma=0.001, kernel=sigmoid ..............................\n",
      "[CV] ..... C=0.1, gamma=0.001, kernel=sigmoid, score=0.510073 -  29.5s\n",
      "[CV] C=0.1, gamma=0.0001, kernel=rbf .................................\n",
      "[CV] ........ C=0.1, gamma=0.0001, kernel=rbf, score=0.509854 -  31.0s\n",
      "[CV] C=0.1, gamma=0.0001, kernel=rbf .................................\n",
      "[CV] ........ C=0.1, gamma=0.0001, kernel=rbf, score=0.509644 -  30.8s\n",
      "[CV] C=0.1, gamma=0.0001, kernel=rbf .................................\n",
      "[CV] ........ C=0.1, gamma=0.0001, kernel=rbf, score=0.509644 -  31.0s\n",
      "[CV] C=0.1, gamma=0.0001, kernel=linear ..............................\n",
      "[CV] ..... C=0.1, gamma=0.0001, kernel=linear, score=0.832476 -  16.7s\n",
      "[CV] C=0.1, gamma=0.0001, kernel=linear ..............................\n",
      "[CV] ..... C=0.1, gamma=0.0001, kernel=linear, score=0.833262 -  16.8s\n",
      "[CV] C=0.1, gamma=0.0001, kernel=linear ..............................\n",
      "[CV] ..... C=0.1, gamma=0.0001, kernel=linear, score=0.841835 -  16.9s\n",
      "[CV] C=0.1, gamma=0.0001, kernel=poly ................................\n",
      "[CV] ....... C=0.1, gamma=0.0001, kernel=poly, score=0.509854 -  31.4s\n",
      "[CV] C=0.1, gamma=0.0001, kernel=poly ................................\n",
      "[CV] ....... C=0.1, gamma=0.0001, kernel=poly, score=0.509644 -  29.9s\n",
      "[CV] C=0.1, gamma=0.0001, kernel=poly ................................\n",
      "[CV] ....... C=0.1, gamma=0.0001, kernel=poly, score=0.509644 -  30.0s\n",
      "[CV] C=0.1, gamma=0.0001, kernel=sigmoid .............................\n",
      "[CV] .... C=0.1, gamma=0.0001, kernel=sigmoid, score=0.509854 -  31.3s\n",
      "[CV] C=0.1, gamma=0.0001, kernel=sigmoid .............................\n",
      "[CV] .... C=0.1, gamma=0.0001, kernel=sigmoid, score=0.509644 -  30.3s\n",
      "[CV] C=0.1, gamma=0.0001, kernel=sigmoid .............................\n",
      "[CV] .... C=0.1, gamma=0.0001, kernel=sigmoid, score=0.509644 -  30.2s\n",
      "[CV] C=1, gamma=1, kernel=rbf ........................................\n"
     ]
    },
    {
     "name": "stdout",
     "output_type": "stream",
     "text": [
      "[CV] ............... C=1, gamma=1, kernel=rbf, score=0.509854 -  31.5s\n",
      "[CV] C=1, gamma=1, kernel=rbf ........................................\n",
      "[CV] ............... C=1, gamma=1, kernel=rbf, score=0.509644 -  31.2s\n",
      "[CV] C=1, gamma=1, kernel=rbf ........................................\n",
      "[CV] ............... C=1, gamma=1, kernel=rbf, score=0.509644 -  31.0s\n",
      "[CV] C=1, gamma=1, kernel=linear .....................................\n",
      "[CV] ............ C=1, gamma=1, kernel=linear, score=0.809769 -  14.3s\n",
      "[CV] C=1, gamma=1, kernel=linear .....................................\n",
      "[CV] ............ C=1, gamma=1, kernel=linear, score=0.816974 -  15.9s\n",
      "[CV] C=1, gamma=1, kernel=linear .....................................\n",
      "[CV] ............ C=1, gamma=1, kernel=linear, score=0.813973 -  16.1s\n",
      "[CV] C=1, gamma=1, kernel=poly .......................................\n",
      "[CV] .............. C=1, gamma=1, kernel=poly, score=0.791345 -  29.1s\n",
      "[CV] C=1, gamma=1, kernel=poly .......................................\n",
      "[CV] .............. C=1, gamma=1, kernel=poly, score=0.764681 -  28.4s\n",
      "[CV] C=1, gamma=1, kernel=poly .......................................\n",
      "[CV] .............. C=1, gamma=1, kernel=poly, score=0.774539 -  21.8s\n",
      "[CV] C=1, gamma=1, kernel=sigmoid ....................................\n",
      "[CV] ........... C=1, gamma=1, kernel=sigmoid, score=0.636675 -  10.8s\n",
      "[CV] C=1, gamma=1, kernel=sigmoid ....................................\n",
      "[CV] ........... C=1, gamma=1, kernel=sigmoid, score=0.640377 -  11.3s\n",
      "[CV] C=1, gamma=1, kernel=sigmoid ....................................\n",
      "[CV] ........... C=1, gamma=1, kernel=sigmoid, score=0.618517 -  11.0s\n",
      "[CV] C=1, gamma=0.1, kernel=rbf ......................................\n",
      "[CV] ............. C=1, gamma=0.1, kernel=rbf, score=0.654670 -  23.8s\n",
      "[CV] C=1, gamma=0.1, kernel=rbf ......................................\n",
      "[CV] ............. C=1, gamma=0.1, kernel=rbf, score=0.633090 -  24.7s\n",
      "[CV] C=1, gamma=0.1, kernel=rbf ......................................\n",
      "[CV] ............. C=1, gamma=0.1, kernel=rbf, score=0.671667 -  24.2s\n",
      "[CV] C=1, gamma=0.1, kernel=linear ...................................\n",
      "[CV] .......... C=1, gamma=0.1, kernel=linear, score=0.809769 -  12.8s\n",
      "[CV] C=1, gamma=0.1, kernel=linear ...................................\n",
      "[CV] .......... C=1, gamma=0.1, kernel=linear, score=0.816974 -  12.9s\n",
      "[CV] C=1, gamma=0.1, kernel=linear ...................................\n",
      "[CV] .......... C=1, gamma=0.1, kernel=linear, score=0.813973 -  12.7s\n",
      "[CV] C=1, gamma=0.1, kernel=poly .....................................\n",
      "[CV] ............ C=1, gamma=0.1, kernel=poly, score=0.786204 -  28.1s\n",
      "[CV] C=1, gamma=0.1, kernel=poly .....................................\n",
      "[CV] ............ C=1, gamma=0.1, kernel=poly, score=0.755251 -  28.0s\n",
      "[CV] C=1, gamma=0.1, kernel=poly .....................................\n",
      "[CV] ............ C=1, gamma=0.1, kernel=poly, score=0.781397 -  22.8s\n",
      "[CV] C=1, gamma=0.1, kernel=sigmoid ..................................\n",
      "[CV] ......... C=1, gamma=0.1, kernel=sigmoid, score=0.683805 -   9.2s\n",
      "[CV] C=1, gamma=0.1, kernel=sigmoid ..................................\n",
      "[CV] ......... C=1, gamma=0.1, kernel=sigmoid, score=0.690527 -   9.7s\n",
      "[CV] C=1, gamma=0.1, kernel=sigmoid ..................................\n",
      "[CV] ......... C=1, gamma=0.1, kernel=sigmoid, score=0.696099 -   9.6s\n",
      "[CV] C=1, gamma=0.01, kernel=rbf .....................................\n",
      "[CV] ............ C=1, gamma=0.01, kernel=rbf, score=0.836761 -  19.0s\n",
      "[CV] C=1, gamma=0.01, kernel=rbf .....................................\n",
      "[CV] ............ C=1, gamma=0.01, kernel=rbf, score=0.833262 -  18.9s\n",
      "[CV] C=1, gamma=0.01, kernel=rbf .....................................\n",
      "[CV] ............ C=1, gamma=0.01, kernel=rbf, score=0.841406 -  19.0s\n",
      "[CV] C=1, gamma=0.01, kernel=linear ..................................\n",
      "[CV] ......... C=1, gamma=0.01, kernel=linear, score=0.809769 -  12.9s\n",
      "[CV] C=1, gamma=0.01, kernel=linear ..................................\n",
      "[CV] ......... C=1, gamma=0.01, kernel=linear, score=0.816974 -  12.8s\n",
      "[CV] C=1, gamma=0.01, kernel=linear ..................................\n",
      "[CV] ......... C=1, gamma=0.01, kernel=linear, score=0.813973 -  12.4s\n",
      "[CV] C=1, gamma=0.01, kernel=poly ....................................\n",
      "[CV] ........... C=1, gamma=0.01, kernel=poly, score=0.544559 -  24.3s\n",
      "[CV] C=1, gamma=0.01, kernel=poly ....................................\n",
      "[CV] ........... C=1, gamma=0.01, kernel=poly, score=0.533648 -  24.1s\n",
      "[CV] C=1, gamma=0.01, kernel=poly ....................................\n",
      "[CV] ........... C=1, gamma=0.01, kernel=poly, score=0.531933 -  24.1s\n",
      "[CV] C=1, gamma=0.01, kernel=sigmoid .................................\n",
      "[CV] ........ C=1, gamma=0.01, kernel=sigmoid, score=0.829477 -  16.1s\n",
      "[CV] C=1, gamma=0.01, kernel=sigmoid .................................\n",
      "[CV] ........ C=1, gamma=0.01, kernel=sigmoid, score=0.833691 -  16.1s\n",
      "[CV] C=1, gamma=0.01, kernel=sigmoid .................................\n",
      "[CV] ........ C=1, gamma=0.01, kernel=sigmoid, score=0.839263 -  16.2s\n",
      "[CV] C=1, gamma=0.001, kernel=rbf ....................................\n",
      "[CV] ........... C=1, gamma=0.001, kernel=rbf, score=0.798201 -  20.9s\n",
      "[CV] C=1, gamma=0.001, kernel=rbf ....................................\n",
      "[CV] ........... C=1, gamma=0.001, kernel=rbf, score=0.799400 -  21.1s\n",
      "[CV] C=1, gamma=0.001, kernel=rbf ....................................\n",
      "[CV] ........... C=1, gamma=0.001, kernel=rbf, score=0.805401 -  21.0s\n",
      "[CV] C=1, gamma=0.001, kernel=linear .................................\n",
      "[CV] ........ C=1, gamma=0.001, kernel=linear, score=0.809769 -  12.9s\n",
      "[CV] C=1, gamma=0.001, kernel=linear .................................\n",
      "[CV] ........ C=1, gamma=0.001, kernel=linear, score=0.816974 -  12.9s\n",
      "[CV] C=1, gamma=0.001, kernel=linear .................................\n",
      "[CV] ........ C=1, gamma=0.001, kernel=linear, score=0.813973 -  12.7s\n",
      "[CV] C=1, gamma=0.001, kernel=poly ...................................\n",
      "[CV] .......... C=1, gamma=0.001, kernel=poly, score=0.509854 -  24.3s\n",
      "[CV] C=1, gamma=0.001, kernel=poly ...................................\n",
      "[CV] .......... C=1, gamma=0.001, kernel=poly, score=0.509644 -  24.4s\n",
      "[CV] C=1, gamma=0.001, kernel=poly ...................................\n",
      "[CV] .......... C=1, gamma=0.001, kernel=poly, score=0.509644 -  24.2s\n",
      "[CV] C=1, gamma=0.001, kernel=sigmoid ................................\n",
      "[CV] ....... C=1, gamma=0.001, kernel=sigmoid, score=0.777635 -  23.3s\n",
      "[CV] C=1, gamma=0.001, kernel=sigmoid ................................\n",
      "[CV] ....... C=1, gamma=0.001, kernel=sigmoid, score=0.774539 -  23.8s\n",
      "[CV] C=1, gamma=0.001, kernel=sigmoid ................................\n",
      "[CV] ....... C=1, gamma=0.001, kernel=sigmoid, score=0.776254 -  22.9s\n",
      "[CV] C=1, gamma=0.0001, kernel=rbf ...................................\n",
      "[CV] .......... C=1, gamma=0.0001, kernel=rbf, score=0.511140 -  24.4s\n",
      "[CV] C=1, gamma=0.0001, kernel=rbf ...................................\n",
      "[CV] .......... C=1, gamma=0.0001, kernel=rbf, score=0.511359 -  24.2s\n",
      "[CV] C=1, gamma=0.0001, kernel=rbf ...................................\n",
      "[CV] .......... C=1, gamma=0.0001, kernel=rbf, score=0.510073 -  24.6s\n",
      "[CV] C=1, gamma=0.0001, kernel=linear ................................\n",
      "[CV] ....... C=1, gamma=0.0001, kernel=linear, score=0.809769 -  12.8s\n",
      "[CV] C=1, gamma=0.0001, kernel=linear ................................\n",
      "[CV] ....... C=1, gamma=0.0001, kernel=linear, score=0.816974 -  12.6s\n",
      "[CV] C=1, gamma=0.0001, kernel=linear ................................\n",
      "[CV] ....... C=1, gamma=0.0001, kernel=linear, score=0.813973 -  12.6s\n",
      "[CV] C=1, gamma=0.0001, kernel=poly ..................................\n",
      "[CV] ......... C=1, gamma=0.0001, kernel=poly, score=0.509854 -  23.9s\n",
      "[CV] C=1, gamma=0.0001, kernel=poly ..................................\n",
      "[CV] ......... C=1, gamma=0.0001, kernel=poly, score=0.509644 -  23.2s\n",
      "[CV] C=1, gamma=0.0001, kernel=poly ..................................\n",
      "[CV] ......... C=1, gamma=0.0001, kernel=poly, score=0.509644 -  23.7s\n",
      "[CV] C=1, gamma=0.0001, kernel=sigmoid ...............................\n",
      "[CV] ...... C=1, gamma=0.0001, kernel=sigmoid, score=0.509854 -  25.1s\n",
      "[CV] C=1, gamma=0.0001, kernel=sigmoid ...............................\n"
     ]
    },
    {
     "name": "stdout",
     "output_type": "stream",
     "text": [
      "[CV] ...... C=1, gamma=0.0001, kernel=sigmoid, score=0.509644 -  24.7s\n",
      "[CV] C=1, gamma=0.0001, kernel=sigmoid ...............................\n",
      "[CV] ...... C=1, gamma=0.0001, kernel=sigmoid, score=0.510073 -  24.6s\n",
      "[CV] C=10, gamma=1, kernel=rbf .......................................\n",
      "[CV] .............. C=10, gamma=1, kernel=rbf, score=0.509854 -  25.3s\n",
      "[CV] C=10, gamma=1, kernel=rbf .......................................\n",
      "[CV] .............. C=10, gamma=1, kernel=rbf, score=0.509644 -  25.1s\n",
      "[CV] C=10, gamma=1, kernel=rbf .......................................\n",
      "[CV] .............. C=10, gamma=1, kernel=rbf, score=0.509644 -  25.2s\n",
      "[CV] C=10, gamma=1, kernel=linear ....................................\n",
      "[CV] ........... C=10, gamma=1, kernel=linear, score=0.808483 -  12.7s\n",
      "[CV] C=10, gamma=1, kernel=linear ....................................\n",
      "[CV] ........... C=10, gamma=1, kernel=linear, score=0.815259 -  12.5s\n",
      "[CV] C=10, gamma=1, kernel=linear ....................................\n",
      "[CV] ........... C=10, gamma=1, kernel=linear, score=0.814402 -  12.8s\n",
      "[CV] C=10, gamma=1, kernel=poly ......................................\n",
      "[CV] ............. C=10, gamma=1, kernel=poly, score=0.791345 -  27.9s\n",
      "[CV] C=10, gamma=1, kernel=poly ......................................\n",
      "[CV] ............. C=10, gamma=1, kernel=poly, score=0.764681 -  27.5s\n",
      "[CV] C=10, gamma=1, kernel=poly ......................................\n",
      "[CV] ............. C=10, gamma=1, kernel=poly, score=0.774539 -  23.0s\n",
      "[CV] C=10, gamma=1, kernel=sigmoid ...................................\n",
      "[CV] .......... C=10, gamma=1, kernel=sigmoid, score=0.631962 -  11.1s\n",
      "[CV] C=10, gamma=1, kernel=sigmoid ...................................\n",
      "[CV] .......... C=10, gamma=1, kernel=sigmoid, score=0.640377 -  11.7s\n",
      "[CV] C=10, gamma=1, kernel=sigmoid ...................................\n",
      "[CV] .......... C=10, gamma=1, kernel=sigmoid, score=0.619803 -  11.0s\n",
      "[CV] C=10, gamma=0.1, kernel=rbf .....................................\n",
      "[CV] ............ C=10, gamma=0.1, kernel=rbf, score=0.670951 -  25.0s\n",
      "[CV] C=10, gamma=0.1, kernel=rbf .....................................\n",
      "[CV] ............ C=10, gamma=0.1, kernel=rbf, score=0.650664 -  25.2s\n",
      "[CV] C=10, gamma=0.1, kernel=rbf .....................................\n",
      "[CV] ............ C=10, gamma=0.1, kernel=rbf, score=0.678526 -  24.8s\n",
      "[CV] C=10, gamma=0.1, kernel=linear ..................................\n",
      "[CV] ......... C=10, gamma=0.1, kernel=linear, score=0.808483 -  12.8s\n",
      "[CV] C=10, gamma=0.1, kernel=linear ..................................\n",
      "[CV] ......... C=10, gamma=0.1, kernel=linear, score=0.815259 -  12.7s\n",
      "[CV] C=10, gamma=0.1, kernel=linear ..................................\n",
      "[CV] ......... C=10, gamma=0.1, kernel=linear, score=0.814402 -  12.8s\n",
      "[CV] C=10, gamma=0.1, kernel=poly ....................................\n",
      "[CV] ........... C=10, gamma=0.1, kernel=poly, score=0.791345 -  27.8s\n",
      "[CV] C=10, gamma=0.1, kernel=poly ....................................\n",
      "[CV] ........... C=10, gamma=0.1, kernel=poly, score=0.764681 -  27.7s\n",
      "[CV] C=10, gamma=0.1, kernel=poly ....................................\n",
      "[CV] ........... C=10, gamma=0.1, kernel=poly, score=0.774539 -  22.9s\n",
      "[CV] C=10, gamma=0.1, kernel=sigmoid .................................\n",
      "[CV] ........ C=10, gamma=0.1, kernel=sigmoid, score=0.677378 -   8.4s\n",
      "[CV] C=10, gamma=0.1, kernel=sigmoid .................................\n",
      "[CV] ........ C=10, gamma=0.1, kernel=sigmoid, score=0.682383 -   8.9s\n",
      "[CV] C=10, gamma=0.1, kernel=sigmoid .................................\n",
      "[CV] ........ C=10, gamma=0.1, kernel=sigmoid, score=0.693528 -   8.6s\n",
      "[CV] C=10, gamma=0.01, kernel=rbf ....................................\n",
      "[CV] ........... C=10, gamma=0.01, kernel=rbf, score=0.828620 -  21.4s\n",
      "[CV] C=10, gamma=0.01, kernel=rbf ....................................\n",
      "[CV] ........... C=10, gamma=0.01, kernel=rbf, score=0.829833 -  20.8s\n",
      "[CV] C=10, gamma=0.01, kernel=rbf ....................................\n",
      "[CV] ........... C=10, gamma=0.01, kernel=rbf, score=0.829833 -  21.1s\n",
      "[CV] C=10, gamma=0.01, kernel=linear .................................\n",
      "[CV] ........ C=10, gamma=0.01, kernel=linear, score=0.808483 -  12.9s\n",
      "[CV] C=10, gamma=0.01, kernel=linear .................................\n",
      "[CV] ........ C=10, gamma=0.01, kernel=linear, score=0.815259 -  12.8s\n",
      "[CV] C=10, gamma=0.01, kernel=linear .................................\n",
      "[CV] ........ C=10, gamma=0.01, kernel=linear, score=0.814402 -  12.6s\n",
      "[CV] C=10, gamma=0.01, kernel=poly ...................................\n",
      "[CV] .......... C=10, gamma=0.01, kernel=poly, score=0.726650 -  23.9s\n",
      "[CV] C=10, gamma=0.01, kernel=poly ...................................\n",
      "[CV] .......... C=10, gamma=0.01, kernel=poly, score=0.672953 -  24.0s\n",
      "[CV] C=10, gamma=0.01, kernel=poly ...................................\n",
      "[CV] .......... C=10, gamma=0.01, kernel=poly, score=0.702529 -  23.7s\n",
      "[CV] C=10, gamma=0.01, kernel=sigmoid ................................\n",
      "[CV] ....... C=10, gamma=0.01, kernel=sigmoid, score=0.792202 -  11.0s\n",
      "[CV] C=10, gamma=0.01, kernel=sigmoid ................................\n",
      "[CV] ....... C=10, gamma=0.01, kernel=sigmoid, score=0.803258 -  10.9s\n",
      "[CV] C=10, gamma=0.01, kernel=sigmoid ................................\n",
      "[CV] ....... C=10, gamma=0.01, kernel=sigmoid, score=0.810544 -  12.8s\n",
      "[CV] C=10, gamma=0.001, kernel=rbf ...................................\n",
      "[CV] .......... C=10, gamma=0.001, kernel=rbf, score=0.841474 -  15.0s\n",
      "[CV] C=10, gamma=0.001, kernel=rbf ...................................\n",
      "[CV] .......... C=10, gamma=0.001, kernel=rbf, score=0.837977 -  15.2s\n",
      "[CV] C=10, gamma=0.001, kernel=rbf ...................................\n",
      "[CV] .......... C=10, gamma=0.001, kernel=rbf, score=0.849121 -  15.1s\n",
      "[CV] C=10, gamma=0.001, kernel=linear ................................\n",
      "[CV] ....... C=10, gamma=0.001, kernel=linear, score=0.808483 -  12.8s\n",
      "[CV] C=10, gamma=0.001, kernel=linear ................................\n",
      "[CV] ....... C=10, gamma=0.001, kernel=linear, score=0.815259 -  12.8s\n",
      "[CV] C=10, gamma=0.001, kernel=linear ................................\n",
      "[CV] ....... C=10, gamma=0.001, kernel=linear, score=0.814402 -  12.6s\n",
      "[CV] C=10, gamma=0.001, kernel=poly ..................................\n",
      "[CV] ......... C=10, gamma=0.001, kernel=poly, score=0.509854 -  24.2s\n",
      "[CV] C=10, gamma=0.001, kernel=poly ..................................\n",
      "[CV] ......... C=10, gamma=0.001, kernel=poly, score=0.509644 -  24.3s\n",
      "[CV] C=10, gamma=0.001, kernel=poly ..................................\n",
      "[CV] ......... C=10, gamma=0.001, kernel=poly, score=0.509644 -  23.7s\n",
      "[CV] C=10, gamma=0.001, kernel=sigmoid ...............................\n",
      "[CV] ...... C=10, gamma=0.001, kernel=sigmoid, score=0.838475 -  16.2s\n",
      "[CV] C=10, gamma=0.001, kernel=sigmoid ...............................\n",
      "[CV] ...... C=10, gamma=0.001, kernel=sigmoid, score=0.835405 -  16.6s\n",
      "[CV] C=10, gamma=0.001, kernel=sigmoid ...............................\n",
      "[CV] ...... C=10, gamma=0.001, kernel=sigmoid, score=0.840549 -  15.9s\n",
      "[CV] C=10, gamma=0.0001, kernel=rbf ..................................\n",
      "[CV] ......... C=10, gamma=0.0001, kernel=rbf, score=0.802485 -  20.7s\n",
      "[CV] C=10, gamma=0.0001, kernel=rbf ..................................\n",
      "[CV] ......... C=10, gamma=0.0001, kernel=rbf, score=0.803258 -  20.6s\n",
      "[CV] C=10, gamma=0.0001, kernel=rbf ..................................\n",
      "[CV] ......... C=10, gamma=0.0001, kernel=rbf, score=0.807115 -  20.4s\n",
      "[CV] C=10, gamma=0.0001, kernel=linear ...............................\n",
      "[CV] ...... C=10, gamma=0.0001, kernel=linear, score=0.808483 -  12.8s\n",
      "[CV] C=10, gamma=0.0001, kernel=linear ...............................\n",
      "[CV] ...... C=10, gamma=0.0001, kernel=linear, score=0.815259 -  12.8s\n",
      "[CV] C=10, gamma=0.0001, kernel=linear ...............................\n",
      "[CV] ...... C=10, gamma=0.0001, kernel=linear, score=0.814402 -  12.7s\n",
      "[CV] C=10, gamma=0.0001, kernel=poly .................................\n",
      "[CV] ........ C=10, gamma=0.0001, kernel=poly, score=0.509854 -  23.5s\n",
      "[CV] C=10, gamma=0.0001, kernel=poly .................................\n",
      "[CV] ........ C=10, gamma=0.0001, kernel=poly, score=0.509644 -  23.7s\n",
      "[CV] C=10, gamma=0.0001, kernel=poly .................................\n"
     ]
    },
    {
     "name": "stdout",
     "output_type": "stream",
     "text": [
      "[CV] ........ C=10, gamma=0.0001, kernel=poly, score=0.509644 -  23.8s\n",
      "[CV] C=10, gamma=0.0001, kernel=sigmoid ..............................\n",
      "[CV] ..... C=10, gamma=0.0001, kernel=sigmoid, score=0.777635 -  23.2s\n",
      "[CV] C=10, gamma=0.0001, kernel=sigmoid ..............................\n",
      "[CV] ..... C=10, gamma=0.0001, kernel=sigmoid, score=0.774539 -  23.1s\n",
      "[CV] C=10, gamma=0.0001, kernel=sigmoid ..............................\n",
      "[CV] ..... C=10, gamma=0.0001, kernel=sigmoid, score=0.776254 -  22.9s\n",
      "[CV] C=100, gamma=1, kernel=rbf ......................................\n",
      "[CV] ............. C=100, gamma=1, kernel=rbf, score=0.509854 -  25.2s\n",
      "[CV] C=100, gamma=1, kernel=rbf ......................................\n",
      "[CV] ............. C=100, gamma=1, kernel=rbf, score=0.509644 -  25.4s\n",
      "[CV] C=100, gamma=1, kernel=rbf ......................................\n",
      "[CV] ............. C=100, gamma=1, kernel=rbf, score=0.509644 -  25.0s\n",
      "[CV] C=100, gamma=1, kernel=linear ...................................\n",
      "[CV] .......... C=100, gamma=1, kernel=linear, score=0.808483 -  12.9s\n",
      "[CV] C=100, gamma=1, kernel=linear ...................................\n",
      "[CV] .......... C=100, gamma=1, kernel=linear, score=0.815259 -  12.9s\n",
      "[CV] C=100, gamma=1, kernel=linear ...................................\n",
      "[CV] .......... C=100, gamma=1, kernel=linear, score=0.814402 -  12.8s\n",
      "[CV] C=100, gamma=1, kernel=poly .....................................\n",
      "[CV] ............ C=100, gamma=1, kernel=poly, score=0.791345 -  27.6s\n",
      "[CV] C=100, gamma=1, kernel=poly .....................................\n",
      "[CV] ............ C=100, gamma=1, kernel=poly, score=0.764681 -  27.7s\n",
      "[CV] C=100, gamma=1, kernel=poly .....................................\n",
      "[CV] ............ C=100, gamma=1, kernel=poly, score=0.774539 -  23.0s\n",
      "[CV] C=100, gamma=1, kernel=sigmoid ..................................\n",
      "[CV] ......... C=100, gamma=1, kernel=sigmoid, score=0.635818 -  10.7s\n",
      "[CV] C=100, gamma=1, kernel=sigmoid ..................................\n",
      "[CV] ......... C=100, gamma=1, kernel=sigmoid, score=0.639520 -  11.8s\n",
      "[CV] C=100, gamma=1, kernel=sigmoid ..................................\n",
      "[CV] ......... C=100, gamma=1, kernel=sigmoid, score=0.617231 -  11.5s\n",
      "[CV] C=100, gamma=0.1, kernel=rbf ....................................\n",
      "[CV] ........... C=100, gamma=0.1, kernel=rbf, score=0.670951 -  25.1s\n",
      "[CV] C=100, gamma=0.1, kernel=rbf ....................................\n",
      "[CV] ........... C=100, gamma=0.1, kernel=rbf, score=0.650664 -  25.0s\n",
      "[CV] C=100, gamma=0.1, kernel=rbf ....................................\n",
      "[CV] ........... C=100, gamma=0.1, kernel=rbf, score=0.678526 -  24.8s\n",
      "[CV] C=100, gamma=0.1, kernel=linear .................................\n",
      "[CV] ........ C=100, gamma=0.1, kernel=linear, score=0.808483 -  12.9s\n",
      "[CV] C=100, gamma=0.1, kernel=linear .................................\n",
      "[CV] ........ C=100, gamma=0.1, kernel=linear, score=0.815259 -  12.7s\n",
      "[CV] C=100, gamma=0.1, kernel=linear .................................\n",
      "[CV] ........ C=100, gamma=0.1, kernel=linear, score=0.814402 -  12.6s\n",
      "[CV] C=100, gamma=0.1, kernel=poly ...................................\n",
      "[CV] .......... C=100, gamma=0.1, kernel=poly, score=0.791345 -  27.8s\n",
      "[CV] C=100, gamma=0.1, kernel=poly ...................................\n",
      "[CV] .......... C=100, gamma=0.1, kernel=poly, score=0.764681 -  27.5s\n",
      "[CV] C=100, gamma=0.1, kernel=poly ...................................\n",
      "[CV] .......... C=100, gamma=0.1, kernel=poly, score=0.774539 -  23.2s\n",
      "[CV] C=100, gamma=0.1, kernel=sigmoid ................................\n",
      "[CV] ....... C=100, gamma=0.1, kernel=sigmoid, score=0.679949 -   8.5s\n",
      "[CV] C=100, gamma=0.1, kernel=sigmoid ................................\n",
      "[CV] ....... C=100, gamma=0.1, kernel=sigmoid, score=0.679811 -   9.6s\n",
      "[CV] C=100, gamma=0.1, kernel=sigmoid ................................\n",
      "[CV] ....... C=100, gamma=0.1, kernel=sigmoid, score=0.694385 -   8.5s\n",
      "[CV] C=100, gamma=0.01, kernel=rbf ...................................\n",
      "[CV] .......... C=100, gamma=0.01, kernel=rbf, score=0.826478 -  21.0s\n",
      "[CV] C=100, gamma=0.01, kernel=rbf ...................................\n",
      "[CV] .......... C=100, gamma=0.01, kernel=rbf, score=0.827261 -  21.2s\n",
      "[CV] C=100, gamma=0.01, kernel=rbf ...................................\n",
      "[CV] .......... C=100, gamma=0.01, kernel=rbf, score=0.831976 -  21.0s\n",
      "[CV] C=100, gamma=0.01, kernel=linear ................................\n",
      "[CV] ....... C=100, gamma=0.01, kernel=linear, score=0.808483 -  12.8s\n",
      "[CV] C=100, gamma=0.01, kernel=linear ................................\n",
      "[CV] ....... C=100, gamma=0.01, kernel=linear, score=0.815259 -  12.8s\n",
      "[CV] C=100, gamma=0.01, kernel=linear ................................\n",
      "[CV] ....... C=100, gamma=0.01, kernel=linear, score=0.814402 -  12.7s\n",
      "[CV] C=100, gamma=0.01, kernel=poly ..................................\n",
      "[CV] ......... C=100, gamma=0.01, kernel=poly, score=0.729220 -  23.2s\n",
      "[CV] C=100, gamma=0.01, kernel=poly ..................................\n",
      "[CV] ......... C=100, gamma=0.01, kernel=poly, score=0.700386 -  23.1s\n",
      "[CV] C=100, gamma=0.01, kernel=poly ..................................\n",
      "[CV] ......... C=100, gamma=0.01, kernel=poly, score=0.757823 -  23.2s\n",
      "[CV] C=100, gamma=0.01, kernel=sigmoid ...............................\n",
      "[CV] ...... C=100, gamma=0.01, kernel=sigmoid, score=0.736075 -   9.3s\n",
      "[CV] C=100, gamma=0.01, kernel=sigmoid ...............................\n",
      "[CV] ...... C=100, gamma=0.01, kernel=sigmoid, score=0.754393 -   8.1s\n",
      "[CV] C=100, gamma=0.01, kernel=sigmoid ...............................\n",
      "[CV] ...... C=100, gamma=0.01, kernel=sigmoid, score=0.757394 -   8.4s\n",
      "[CV] C=100, gamma=0.001, kernel=rbf ..................................\n",
      "[CV] ......... C=100, gamma=0.001, kernel=rbf, score=0.820908 -  13.2s\n",
      "[CV] C=100, gamma=0.001, kernel=rbf ..................................\n",
      "[CV] ......... C=100, gamma=0.001, kernel=rbf, score=0.827261 -  13.3s\n",
      "[CV] C=100, gamma=0.001, kernel=rbf ..................................\n",
      "[CV] ......... C=100, gamma=0.001, kernel=rbf, score=0.825975 -  13.5s\n",
      "[CV] C=100, gamma=0.001, kernel=linear ...............................\n",
      "[CV] ...... C=100, gamma=0.001, kernel=linear, score=0.808483 -  12.8s\n",
      "[CV] C=100, gamma=0.001, kernel=linear ...............................\n",
      "[CV] ...... C=100, gamma=0.001, kernel=linear, score=0.815259 -  12.7s\n",
      "[CV] C=100, gamma=0.001, kernel=linear ...............................\n",
      "[CV] ...... C=100, gamma=0.001, kernel=linear, score=0.814402 -  12.5s\n",
      "[CV] C=100, gamma=0.001, kernel=poly .................................\n",
      "[CV] ........ C=100, gamma=0.001, kernel=poly, score=0.509854 -  24.3s\n",
      "[CV] C=100, gamma=0.001, kernel=poly .................................\n",
      "[CV] ........ C=100, gamma=0.001, kernel=poly, score=0.509644 -  24.4s\n",
      "[CV] C=100, gamma=0.001, kernel=poly .................................\n",
      "[CV] ........ C=100, gamma=0.001, kernel=poly, score=0.510073 -  23.8s\n",
      "[CV] C=100, gamma=0.001, kernel=sigmoid ..............................\n",
      "[CV] ..... C=100, gamma=0.001, kernel=sigmoid, score=0.832476 -  13.6s\n",
      "[CV] C=100, gamma=0.001, kernel=sigmoid ..............................\n",
      "[CV] ..... C=100, gamma=0.001, kernel=sigmoid, score=0.833262 -  13.5s\n",
      "[CV] C=100, gamma=0.001, kernel=sigmoid ..............................\n",
      "[CV] ..... C=100, gamma=0.001, kernel=sigmoid, score=0.840120 -  13.5s\n",
      "[CV] C=100, gamma=0.0001, kernel=rbf .................................\n",
      "[CV] ........ C=100, gamma=0.0001, kernel=rbf, score=0.838475 -  14.6s\n",
      "[CV] C=100, gamma=0.0001, kernel=rbf .................................\n",
      "[CV] ........ C=100, gamma=0.0001, kernel=rbf, score=0.839691 -  15.0s\n",
      "[CV] C=100, gamma=0.0001, kernel=rbf .................................\n",
      "[CV] ........ C=100, gamma=0.0001, kernel=rbf, score=0.849979 -  14.9s\n",
      "[CV] C=100, gamma=0.0001, kernel=linear ..............................\n",
      "[CV] ..... C=100, gamma=0.0001, kernel=linear, score=0.808483 -  12.8s\n",
      "[CV] C=100, gamma=0.0001, kernel=linear ..............................\n",
      "[CV] ..... C=100, gamma=0.0001, kernel=linear, score=0.815259 -  12.6s\n",
      "[CV] C=100, gamma=0.0001, kernel=linear ..............................\n",
      "[CV] ..... C=100, gamma=0.0001, kernel=linear, score=0.814402 -  12.6s\n",
      "[CV] C=100, gamma=0.0001, kernel=poly ................................\n"
     ]
    },
    {
     "name": "stdout",
     "output_type": "stream",
     "text": [
      "[CV] ....... C=100, gamma=0.0001, kernel=poly, score=0.509854 -  23.4s\n",
      "[CV] C=100, gamma=0.0001, kernel=poly ................................\n",
      "[CV] ....... C=100, gamma=0.0001, kernel=poly, score=0.509644 -  23.7s\n",
      "[CV] C=100, gamma=0.0001, kernel=poly ................................\n",
      "[CV] ....... C=100, gamma=0.0001, kernel=poly, score=0.509644 -  23.7s\n",
      "[CV] C=100, gamma=0.0001, kernel=sigmoid .............................\n",
      "[CV] .... C=100, gamma=0.0001, kernel=sigmoid, score=0.838475 -  16.3s\n",
      "[CV] C=100, gamma=0.0001, kernel=sigmoid .............................\n",
      "[CV] .... C=100, gamma=0.0001, kernel=sigmoid, score=0.835405 -  16.7s\n",
      "[CV] C=100, gamma=0.0001, kernel=sigmoid .............................\n",
      "[CV] .... C=100, gamma=0.0001, kernel=sigmoid, score=0.840120 -  15.9s\n",
      "[CV] C=1000, gamma=1, kernel=rbf .....................................\n",
      "[CV] ............ C=1000, gamma=1, kernel=rbf, score=0.509854 -  25.2s\n",
      "[CV] C=1000, gamma=1, kernel=rbf .....................................\n",
      "[CV] ............ C=1000, gamma=1, kernel=rbf, score=0.509644 -  25.3s\n",
      "[CV] C=1000, gamma=1, kernel=rbf .....................................\n",
      "[CV] ............ C=1000, gamma=1, kernel=rbf, score=0.509644 -  25.5s\n",
      "[CV] C=1000, gamma=1, kernel=linear ..................................\n",
      "[CV] ......... C=1000, gamma=1, kernel=linear, score=0.808483 -  13.0s\n",
      "[CV] C=1000, gamma=1, kernel=linear ..................................\n",
      "[CV] ......... C=1000, gamma=1, kernel=linear, score=0.815259 -  12.9s\n",
      "[CV] C=1000, gamma=1, kernel=linear ..................................\n",
      "[CV] ......... C=1000, gamma=1, kernel=linear, score=0.814402 -  12.7s\n",
      "[CV] C=1000, gamma=1, kernel=poly ....................................\n",
      "[CV] ........... C=1000, gamma=1, kernel=poly, score=0.791345 -  27.7s\n",
      "[CV] C=1000, gamma=1, kernel=poly ....................................\n",
      "[CV] ........... C=1000, gamma=1, kernel=poly, score=0.764681 -  27.7s\n",
      "[CV] C=1000, gamma=1, kernel=poly ....................................\n",
      "[CV] ........... C=1000, gamma=1, kernel=poly, score=0.774539 -  23.2s\n",
      "[CV] C=1000, gamma=1, kernel=sigmoid .................................\n",
      "[CV] ........ C=1000, gamma=1, kernel=sigmoid, score=0.636247 -  11.8s\n",
      "[CV] C=1000, gamma=1, kernel=sigmoid .................................\n",
      "[CV] ........ C=1000, gamma=1, kernel=sigmoid, score=0.638663 -  11.6s\n",
      "[CV] C=1000, gamma=1, kernel=sigmoid .................................\n",
      "[CV] ........ C=1000, gamma=1, kernel=sigmoid, score=0.615088 -  11.3s\n",
      "[CV] C=1000, gamma=0.1, kernel=rbf ...................................\n",
      "[CV] .......... C=1000, gamma=0.1, kernel=rbf, score=0.670951 -  25.2s\n",
      "[CV] C=1000, gamma=0.1, kernel=rbf ...................................\n",
      "[CV] .......... C=1000, gamma=0.1, kernel=rbf, score=0.650664 -  25.1s\n",
      "[CV] C=1000, gamma=0.1, kernel=rbf ...................................\n",
      "[CV] .......... C=1000, gamma=0.1, kernel=rbf, score=0.678526 -  25.0s\n",
      "[CV] C=1000, gamma=0.1, kernel=linear ................................\n",
      "[CV] ....... C=1000, gamma=0.1, kernel=linear, score=0.808483 -  13.0s\n",
      "[CV] C=1000, gamma=0.1, kernel=linear ................................\n",
      "[CV] ....... C=1000, gamma=0.1, kernel=linear, score=0.815259 -  13.1s\n",
      "[CV] C=1000, gamma=0.1, kernel=linear ................................\n",
      "[CV] ....... C=1000, gamma=0.1, kernel=linear, score=0.814402 -  13.0s\n",
      "[CV] C=1000, gamma=0.1, kernel=poly ..................................\n",
      "[CV] ......... C=1000, gamma=0.1, kernel=poly, score=0.791345 -  28.6s\n",
      "[CV] C=1000, gamma=0.1, kernel=poly ..................................\n",
      "[CV] ......... C=1000, gamma=0.1, kernel=poly, score=0.764681 -  28.0s\n",
      "[CV] C=1000, gamma=0.1, kernel=poly ..................................\n",
      "[CV] ......... C=1000, gamma=0.1, kernel=poly, score=0.774539 -  22.6s\n",
      "[CV] C=1000, gamma=0.1, kernel=sigmoid ...............................\n",
      "[CV] ...... C=1000, gamma=0.1, kernel=sigmoid, score=0.678663 -   8.5s\n",
      "[CV] C=1000, gamma=0.1, kernel=sigmoid ...............................\n",
      "[CV] ...... C=1000, gamma=0.1, kernel=sigmoid, score=0.685812 -   8.9s\n",
      "[CV] C=1000, gamma=0.1, kernel=sigmoid ...............................\n",
      "[CV] ...... C=1000, gamma=0.1, kernel=sigmoid, score=0.695242 -   8.7s\n",
      "[CV] C=1000, gamma=0.01, kernel=rbf ..................................\n",
      "[CV] ......... C=1000, gamma=0.01, kernel=rbf, score=0.826478 -  21.1s\n",
      "[CV] C=1000, gamma=0.01, kernel=rbf ..................................\n",
      "[CV] ......... C=1000, gamma=0.01, kernel=rbf, score=0.827261 -  21.0s\n",
      "[CV] C=1000, gamma=0.01, kernel=rbf ..................................\n",
      "[CV] ......... C=1000, gamma=0.01, kernel=rbf, score=0.831976 -  21.4s\n",
      "[CV] C=1000, gamma=0.01, kernel=linear ...............................\n",
      "[CV] ...... C=1000, gamma=0.01, kernel=linear, score=0.808483 -  12.6s\n",
      "[CV] C=1000, gamma=0.01, kernel=linear ...............................\n",
      "[CV] ...... C=1000, gamma=0.01, kernel=linear, score=0.815259 -  12.8s\n",
      "[CV] C=1000, gamma=0.01, kernel=linear ...............................\n",
      "[CV] ...... C=1000, gamma=0.01, kernel=linear, score=0.814402 -  12.7s\n",
      "[CV] C=1000, gamma=0.01, kernel=poly .................................\n",
      "[CV] ........ C=1000, gamma=0.01, kernel=poly, score=0.786204 -  28.6s\n",
      "[CV] C=1000, gamma=0.01, kernel=poly .................................\n",
      "[CV] ........ C=1000, gamma=0.01, kernel=poly, score=0.755251 -  28.2s\n",
      "[CV] C=1000, gamma=0.01, kernel=poly .................................\n",
      "[CV] ........ C=1000, gamma=0.01, kernel=poly, score=0.781397 -  22.6s\n",
      "[CV] C=1000, gamma=0.01, kernel=sigmoid ..............................\n",
      "[CV] ..... C=1000, gamma=0.01, kernel=sigmoid, score=0.739931 -   7.6s\n",
      "[CV] C=1000, gamma=0.01, kernel=sigmoid ..............................\n",
      "[CV] ..... C=1000, gamma=0.01, kernel=sigmoid, score=0.746678 -   8.2s\n",
      "[CV] C=1000, gamma=0.01, kernel=sigmoid ..............................\n",
      "[CV] ..... C=1000, gamma=0.01, kernel=sigmoid, score=0.749679 -  10.8s\n",
      "[CV] C=1000, gamma=0.001, kernel=rbf .................................\n",
      "[CV] ........ C=1000, gamma=0.001, kernel=rbf, score=0.811054 -  21.7s\n",
      "[CV] C=1000, gamma=0.001, kernel=rbf .................................\n",
      "[CV] ........ C=1000, gamma=0.001, kernel=rbf, score=0.820403 -  16.9s\n",
      "[CV] C=1000, gamma=0.001, kernel=rbf .................................\n",
      "[CV] ........ C=1000, gamma=0.001, kernel=rbf, score=0.817402 -  16.9s\n",
      "[CV] C=1000, gamma=0.001, kernel=linear ..............................\n",
      "[CV] ..... C=1000, gamma=0.001, kernel=linear, score=0.808483 -  12.8s\n",
      "[CV] C=1000, gamma=0.001, kernel=linear ..............................\n",
      "[CV] ..... C=1000, gamma=0.001, kernel=linear, score=0.815259 -  12.9s\n",
      "[CV] C=1000, gamma=0.001, kernel=linear ..............................\n",
      "[CV] ..... C=1000, gamma=0.001, kernel=linear, score=0.814402 -  12.3s\n",
      "[CV] C=1000, gamma=0.001, kernel=poly ................................\n",
      "[CV] ....... C=1000, gamma=0.001, kernel=poly, score=0.544559 -  24.5s\n",
      "[CV] C=1000, gamma=0.001, kernel=poly ................................\n",
      "[CV] ....... C=1000, gamma=0.001, kernel=poly, score=0.533648 -  24.4s\n",
      "[CV] C=1000, gamma=0.001, kernel=poly ................................\n",
      "[CV] ....... C=1000, gamma=0.001, kernel=poly, score=0.531933 -  24.0s\n",
      "[CV] C=1000, gamma=0.001, kernel=sigmoid .............................\n",
      "[CV] .... C=1000, gamma=0.001, kernel=sigmoid, score=0.809769 -  13.1s\n",
      "[CV] C=1000, gamma=0.001, kernel=sigmoid .............................\n",
      "[CV] .... C=1000, gamma=0.001, kernel=sigmoid, score=0.816974 -  13.3s\n",
      "[CV] C=1000, gamma=0.001, kernel=sigmoid .............................\n",
      "[CV] .... C=1000, gamma=0.001, kernel=sigmoid, score=0.814402 -  13.3s\n",
      "[CV] C=1000, gamma=0.0001, kernel=rbf ................................\n",
      "[CV] ....... C=1000, gamma=0.0001, kernel=rbf, score=0.813625 -  12.8s\n",
      "[CV] C=1000, gamma=0.0001, kernel=rbf ................................\n",
      "[CV] ....... C=1000, gamma=0.0001, kernel=rbf, score=0.826404 -  13.1s\n",
      "[CV] C=1000, gamma=0.0001, kernel=rbf ................................\n",
      "[CV] ....... C=1000, gamma=0.0001, kernel=rbf, score=0.822975 -  13.1s\n",
      "[CV] C=1000, gamma=0.0001, kernel=linear .............................\n",
      "[CV] .... C=1000, gamma=0.0001, kernel=linear, score=0.808483 -  12.9s\n",
      "[CV] C=1000, gamma=0.0001, kernel=linear .............................\n"
     ]
    },
    {
     "name": "stdout",
     "output_type": "stream",
     "text": [
      "[CV] .... C=1000, gamma=0.0001, kernel=linear, score=0.815259 -  12.8s\n",
      "[CV] C=1000, gamma=0.0001, kernel=linear .............................\n",
      "[CV] .... C=1000, gamma=0.0001, kernel=linear, score=0.814402 -  12.3s\n",
      "[CV] C=1000, gamma=0.0001, kernel=poly ...............................\n",
      "[CV] ...... C=1000, gamma=0.0001, kernel=poly, score=0.509854 -  24.4s\n",
      "[CV] C=1000, gamma=0.0001, kernel=poly ...............................\n",
      "[CV] ...... C=1000, gamma=0.0001, kernel=poly, score=0.509644 -  30.8s\n",
      "[CV] C=1000, gamma=0.0001, kernel=poly ...............................\n",
      "[CV] ...... C=1000, gamma=0.0001, kernel=poly, score=0.509644 -  30.7s\n",
      "[CV] C=1000, gamma=0.0001, kernel=sigmoid ............................\n",
      "[CV] ... C=1000, gamma=0.0001, kernel=sigmoid, score=0.832476 -  15.7s\n",
      "[CV] C=1000, gamma=0.0001, kernel=sigmoid ............................\n",
      "[CV] ... C=1000, gamma=0.0001, kernel=sigmoid, score=0.833691 -  14.6s\n",
      "[CV] C=1000, gamma=0.0001, kernel=sigmoid ............................\n",
      "[CV] ... C=1000, gamma=0.0001, kernel=sigmoid, score=0.841835 -  18.7s\n"
     ]
    },
    {
     "name": "stderr",
     "output_type": "stream",
     "text": [
      "[Parallel(n_jobs=1)]: Done 300 out of 300 | elapsed: 97.3min finished\n"
     ]
    },
    {
     "data": {
      "text/plain": [
       "GridSearchCV(cv=None, error_score='raise',\n",
       "       estimator=SVC(C=1.0, cache_size=200, class_weight=None, coef0=0.0,\n",
       "  decision_function_shape='ovr', degree=3, gamma='auto', kernel='rbf',\n",
       "  max_iter=-1, probability=False, random_state=None, shrinking=True,\n",
       "  tol=0.001, verbose=False),\n",
       "       fit_params={}, iid=True, n_jobs=1,\n",
       "       param_grid={'C': [0.1, 1, 10, 100, 1000], 'gamma': [1, 0.1, 0.01, 0.001, 0.0001], 'kernel': ['rbf', 'linear', 'poly', 'sigmoid']},\n",
       "       pre_dispatch='2*n_jobs', refit=True, scoring=None, verbose=3)"
      ]
     },
     "execution_count": 106,
     "metadata": {
      "tags": []
     },
     "output_type": "execute_result"
    }
   ],
   "source": [
    "grid_svm.fit(train_count_vec,y_train)"
   ]
  },
  {
   "cell_type": "code",
   "execution_count": 0,
   "metadata": {
    "colab": {},
    "colab_type": "code",
    "id": "SgB_LM-SR26G",
    "outputId": "4ba0f681-e9c6-47d6-bbfc-555fff0c3a1f"
   },
   "outputs": [
    {
     "data": {
      "text/plain": [
       "SVC(C=10, cache_size=200, class_weight=None, coef0=0.0,\n",
       "  decision_function_shape='ovr', degree=3, gamma=0.001, kernel='rbf',\n",
       "  max_iter=-1, probability=False, random_state=None, shrinking=True,\n",
       "  tol=0.001, verbose=False)"
      ]
     },
     "execution_count": 107,
     "metadata": {
      "tags": []
     },
     "output_type": "execute_result"
    }
   ],
   "source": [
    "grid_svm.best_estimator_"
   ]
  },
  {
   "cell_type": "code",
   "execution_count": 0,
   "metadata": {
    "colab": {},
    "colab_type": "code",
    "id": "yAUDZGYNR26L",
    "outputId": "79541567-5ac6-4580-fcae-575078ea8a6d"
   },
   "outputs": [
    {
     "data": {
      "text/plain": [
       "{'C': 10, 'gamma': 0.001, 'kernel': 'rbf'}"
      ]
     },
     "execution_count": 108,
     "metadata": {
      "tags": []
     },
     "output_type": "execute_result"
    }
   ],
   "source": [
    "grid_svm.best_params_"
   ]
  },
  {
   "cell_type": "code",
   "execution_count": 0,
   "metadata": {
    "colab": {},
    "colab_type": "code",
    "id": "btnm2Z6oR26Q",
    "outputId": "09097fb4-a00d-4572-f86c-23e48d6dbf35"
   },
   "outputs": [
    {
     "data": {
      "text/plain": [
       "0.8428571428571429"
      ]
     },
     "execution_count": 109,
     "metadata": {
      "tags": []
     },
     "output_type": "execute_result"
    }
   ],
   "source": [
    "grid_svm.best_score_"
   ]
  },
  {
   "cell_type": "code",
   "execution_count": 0,
   "metadata": {
    "colab": {},
    "colab_type": "code",
    "id": "Ua-AotODR26T"
   },
   "outputs": [],
   "source": [
    "y_pred_svm = grid_svm.predict(test_count_vec)"
   ]
  },
  {
   "cell_type": "code",
   "execution_count": 0,
   "metadata": {
    "colab": {},
    "colab_type": "code",
    "id": "v8jLJWx9R26W",
    "outputId": "c19cdcc3-04b4-4d9e-aede-10c806ff4aba"
   },
   "outputs": [
    {
     "name": "stdout",
     "output_type": "stream",
     "text": [
      "[[1273  256]\n",
      " [ 227 1244]]\n"
     ]
    }
   ],
   "source": [
    "print(confusion_matrix(y_test,y_pred_svm))"
   ]
  },
  {
   "cell_type": "code",
   "execution_count": 0,
   "metadata": {
    "colab": {},
    "colab_type": "code",
    "id": "ZNENC1s9R26a",
    "outputId": "933f02fc-ccab-4fb7-a04d-35967b44ea15"
   },
   "outputs": [
    {
     "name": "stdout",
     "output_type": "stream",
     "text": [
      "0.839\n"
     ]
    }
   ],
   "source": [
    "print(accuracy_score(y_test,y_pred_svm))"
   ]
  },
  {
   "cell_type": "code",
   "execution_count": 0,
   "metadata": {
    "colab": {},
    "colab_type": "code",
    "id": "UxRzi7FNR26e",
    "outputId": "c99eed77-435c-45be-a961-d25a0c19e796"
   },
   "outputs": [
    {
     "name": "stdout",
     "output_type": "stream",
     "text": [
      "             precision    recall  f1-score   support\n",
      "\n",
      "          0       0.85      0.83      0.84      1529\n",
      "          1       0.83      0.85      0.84      1471\n",
      "\n",
      "avg / total       0.84      0.84      0.84      3000\n",
      "\n"
     ]
    }
   ],
   "source": [
    "print(classification_report(y_test,y_pred_svm))"
   ]
  },
  {
   "cell_type": "markdown",
   "metadata": {
    "colab_type": "text",
    "id": "NezfY9DzR26h"
   },
   "source": [
    "## Conclusion for Machine Learning Models: "
   ]
  },
  {
   "cell_type": "markdown",
   "metadata": {
    "colab_type": "text",
    "id": "CQ7NdzZuR26i"
   },
   "source": [
    "SVM with {'C': 10, 'gamma': 0.001, 'kernel': 'rbf'} Out-performs MultiNomialNB, Decision Tree Model."
   ]
  },
  {
   "cell_type": "markdown",
   "metadata": {
    "colab_type": "text",
    "id": "7q2OhEthR26j"
   },
   "source": [
    "## Word Cloud"
   ]
  },
  {
   "cell_type": "code",
   "execution_count": 0,
   "metadata": {
    "colab": {},
    "colab_type": "code",
    "id": "dCAB2vUUR26k"
   },
   "outputs": [],
   "source": [
    "wordcloud = WordCloud(width = 800, height = 800, \n",
    "                background_color ='white', \n",
    "                stopwords = stopwords, \n",
    "                min_font_size = 10).generate(X[0])"
   ]
  },
  {
   "cell_type": "code",
   "execution_count": 0,
   "metadata": {
    "colab": {},
    "colab_type": "code",
    "id": "6MYqjg5SR26o",
    "outputId": "b8e138ea-a3ec-4cdc-fe09-fa513d52c2e7"
   },
   "outputs": [
    {
     "data": {
      "image/png": "[encoded data removed]",
      "text/plain": [
       "<Figure size 720x720 with 1 Axes>"
      ]
     },
     "metadata": {
      "needs_background": "light",
      "tags": []
     },
     "output_type": "display_data"
    }
   ],
   "source": [
    "plt.figure(figsize = (10, 10), facecolor = None) \n",
    "plt.imshow(wordcloud) \n",
    "plt.axis(\"off\") \n",
    "plt.tight_layout(pad = 0) \n",
    "plt.show() "
   ]
  },
  {
   "cell_type": "markdown",
   "metadata": {
    "colab": {},
    "colab_type": "code",
    "id": "NDXHnMRwVAKj"
   },
   "source": [
    "# Deep Learning"
   ]
  },
  {
   "cell_type": "markdown",
   "metadata": {
    "colab": {},
    "colab_type": "code",
    "id": "UB2Pmt9WU_4c"
   },
   "source": [
    "## Recurrent Neural Networks (LSTM) "
   ]
  },
  {
   "cell_type": "markdown",
   "metadata": {
    "colab": {},
    "colab_type": "code",
    "id": "J36Fi6jGU_1d"
   },
   "source": [
    "## Importing Required Libraries"
   ]
  },
  {
   "cell_type": "code",
   "execution_count": 2,
   "metadata": {
    "colab": {
     "base_uri": "https://localhost:8080/",
     "height": 35
    },
    "colab_type": "code",
    "id": "Ms3vFGOhU_o7",
    "outputId": "a8ade0a9-04b8-4723-d3be-4a03ace7069b"
   },
   "outputs": [
    {
     "name": "stderr",
     "output_type": "stream",
     "text": [
      "Using TensorFlow backend.\n"
     ]
    }
   ],
   "source": [
    "import tensorflow as tf\n",
    "from tensorflow import keras\n",
    "from keras.preprocessing.text import Tokenizer\n",
    "from keras.preprocessing.sequence import pad_sequences\n",
    "from keras import models, layers\n",
    "from keras.callbacks import EarlyStopping"
   ]
  },
  {
   "cell_type": "code",
   "execution_count": 0,
   "metadata": {
    "colab": {},
    "colab_type": "code",
    "id": "MfDr5VJwVQVE"
   },
   "outputs": [],
   "source": [
    "import io \n",
    "from google.colab import files"
   ]
  },
  {
   "cell_type": "code",
   "execution_count": 4,
   "metadata": {
    "colab": {
     "base_uri": "https://localhost:8080/",
     "height": 75,
     "resources": {
      "http://localhost:8080/nbextensions/google.colab/files.js": {
       "data": "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",
       "headers": [
        [
         "content-type",
         "application/javascript"
        ]
       ],
       "ok": true,
       "status": 200,
       "status_text": ""
      }
     }
    },
    "colab_type": "code",
    "id": "53pVAxR6VVNs",
    "outputId": "9d25de04-f0f9-477d-ae84-b43621c125e0"
   },
   "outputs": [
    {
     "data": {
      "text/html": [
       "\n",
       "     <input type=\"file\" id=\"files-68af848a-9ad5-4ecd-a329-126b7c60b8df\" name=\"files[]\" multiple disabled />\n",
       "     <output id=\"result-68af848a-9ad5-4ecd-a329-126b7c60b8df\">\n",
       "      Upload widget is only available when the cell has been executed in the\n",
       "      current browser session. Please rerun this cell to enable.\n",
       "      </output>\n",
       "      <script src=\"/nbextensions/google.colab/files.js\"></script> "
      ],
      "text/plain": [
       "<IPython.core.display.HTML object>"
      ]
     },
     "metadata": {
      "tags": []
     },
     "output_type": "display_data"
    },
    {
     "name": "stdout",
     "output_type": "stream",
     "text": [
      "Saving amazonreviews.tsv to amazonreviews.tsv\n"
     ]
    }
   ],
   "source": [
    "uploaded = files.upload()"
   ]
  },
  {
   "cell_type": "code",
   "execution_count": 0,
   "metadata": {
    "colab": {},
    "colab_type": "code",
    "id": "UmBqfMj0VXg2"
   },
   "outputs": [],
   "source": [
    "df = pd.read_csv(io.BytesIO(uploaded['amazonreviews.tsv']),sep='\\t')"
   ]
  },
  {
   "cell_type": "code",
   "execution_count": 10,
   "metadata": {
    "colab": {
     "base_uri": "https://localhost:8080/",
     "height": 181
    },
    "colab_type": "code",
    "id": "esgqlG1kV27U",
    "outputId": "2764656f-9d75-420f-9bc4-97b626525c4a"
   },
   "outputs": [
    {
     "name": "stdout",
     "output_type": "stream",
     "text": [
      "<class 'pandas.core.frame.DataFrame'>\n",
      "RangeIndex: 10000 entries, 0 to 9999\n",
      "Data columns (total 2 columns):\n",
      " #   Column  Non-Null Count  Dtype \n",
      "---  ------  --------------  ----- \n",
      " 0   label   10000 non-null  object\n",
      " 1   review  10000 non-null  object\n",
      "dtypes: object(2)\n",
      "memory usage: 156.4+ KB\n"
     ]
    }
   ],
   "source": [
    "df.info()"
   ]
  },
  {
   "cell_type": "markdown",
   "metadata": {
    "colab": {},
    "colab_type": "code",
    "id": "4TZ8uJdSWCTF"
   },
   "source": [
    "## Text Pre-processing with keras"
   ]
  },
  {
   "cell_type": "code",
   "execution_count": 0,
   "metadata": {
    "colab": {},
    "colab_type": "code",
    "id": "s7pJ_UNvWME2"
   },
   "outputs": [],
   "source": [
    "le = LabelEncoder()\n",
    "\n",
    "df.label = le.fit_transform(df.label)"
   ]
  },
  {
   "cell_type": "code",
   "execution_count": 13,
   "metadata": {
    "colab": {
     "base_uri": "https://localhost:8080/",
     "height": 198
    },
    "colab_type": "code",
    "id": "X9ZZrNWjWXL3",
    "outputId": "bd8150c5-c263-4eb5-eab6-ab72886420e3"
   },
   "outputs": [
    {
     "data": {
      "text/html": [
       "<div>\n",
       "<style scoped>\n",
       "    .dataframe tbody tr th:only-of-type {\n",
       "        vertical-align: middle;\n",
       "    }\n",
       "\n",
       "    .dataframe tbody tr th {\n",
       "        vertical-align: top;\n",
       "    }\n",
       "\n",
       "    .dataframe thead th {\n",
       "        text-align: right;\n",
       "    }\n",
       "</style>\n",
       "<table border=\"1\" class=\"dataframe\">\n",
       "  <thead>\n",
       "    <tr style=\"text-align: right;\">\n",
       "      <th></th>\n",
       "      <th>label</th>\n",
       "      <th>review</th>\n",
       "    </tr>\n",
       "  </thead>\n",
       "  <tbody>\n",
       "    <tr>\n",
       "      <th>0</th>\n",
       "      <td>1</td>\n",
       "      <td>Stuning even for the non-gamer: This sound tra...</td>\n",
       "    </tr>\n",
       "    <tr>\n",
       "      <th>1</th>\n",
       "      <td>1</td>\n",
       "      <td>The best soundtrack ever to anything.: I'm rea...</td>\n",
       "    </tr>\n",
       "    <tr>\n",
       "      <th>2</th>\n",
       "      <td>1</td>\n",
       "      <td>Amazing!: This soundtrack is my favorite music...</td>\n",
       "    </tr>\n",
       "    <tr>\n",
       "      <th>3</th>\n",
       "      <td>1</td>\n",
       "      <td>Excellent Soundtrack: I truly like this soundt...</td>\n",
       "    </tr>\n",
       "    <tr>\n",
       "      <th>4</th>\n",
       "      <td>1</td>\n",
       "      <td>Remember, Pull Your Jaw Off The Floor After He...</td>\n",
       "    </tr>\n",
       "  </tbody>\n",
       "</table>\n",
       "</div>"
      ],
      "text/plain": [
       "   label                                             review\n",
       "0      1  Stuning even for the non-gamer: This sound tra...\n",
       "1      1  The best soundtrack ever to anything.: I'm rea...\n",
       "2      1  Amazing!: This soundtrack is my favorite music...\n",
       "3      1  Excellent Soundtrack: I truly like this soundt...\n",
       "4      1  Remember, Pull Your Jaw Off The Floor After He..."
      ]
     },
     "execution_count": 13,
     "metadata": {
      "tags": []
     },
     "output_type": "execute_result"
    }
   ],
   "source": [
    "df.head()"
   ]
  },
  {
   "cell_type": "markdown",
   "metadata": {
    "colab": {},
    "colab_type": "code",
    "id": "dYnSMRucXAA0"
   },
   "source": [
    "## Tokenization"
   ]
  },
  {
   "cell_type": "markdown",
   "metadata": {
    "colab": {},
    "colab_type": "code",
    "id": "cIaRQwWVXU5d"
   },
   "source": [
    "keras_token = Tokenizer(num_words=10000)\n",
    "keras_token.fit_on_texts(df.review)"
   ]
  },
  {
   "cell_type": "code",
   "execution_count": 16,
   "metadata": {
    "colab": {
     "base_uri": "https://localhost:8080/",
     "height": 35
    },
    "colab_type": "code",
    "id": "-oxSMw66XX5t",
    "outputId": "f89d60e0-719e-4702-d9c1-3a6bf4111124"
   },
   "outputs": [
    {
     "data": {
      "text/plain": [
       "33469"
      ]
     },
     "execution_count": 16,
     "metadata": {
      "tags": []
     },
     "output_type": "execute_result"
    }
   ],
   "source": [
    "len(keras_token.word_index)"
   ]
  },
  {
   "cell_type": "markdown",
   "metadata": {
    "colab": {},
    "colab_type": "code",
    "id": "pOotDPaeXZlg"
   },
   "source": [
    "## Text to Sequences"
   ]
  },
  {
   "cell_type": "code",
   "execution_count": 0,
   "metadata": {
    "colab": {},
    "colab_type": "code",
    "id": "mJe_UeISXjiJ"
   },
   "outputs": [],
   "source": [
    "keras_result = keras_token.texts_to_sequences(df.review)"
   ]
  },
  {
   "cell_type": "code",
   "execution_count": 0,
   "metadata": {
    "colab": {},
    "colab_type": "code",
    "id": "DxK7Nt1SXl27"
   },
   "outputs": [],
   "source": [
    "keras_pad_result = pad_sequences(keras_result, maxlen=500, padding='post')"
   ]
  },
  {
   "cell_type": "code",
   "execution_count": 20,
   "metadata": {
    "colab": {
     "base_uri": "https://localhost:8080/",
     "height": 35
    },
    "colab_type": "code",
    "id": "l-PzyHsCXrIM",
    "outputId": "f3b37bd6-024a-4595-9c8c-291561c8950f"
   },
   "outputs": [
    {
     "data": {
      "text/plain": [
       "(10000, 500)"
      ]
     },
     "execution_count": 20,
     "metadata": {
      "tags": []
     },
     "output_type": "execute_result"
    }
   ],
   "source": [
    "keras_pad_result.shape"
   ]
  },
  {
   "cell_type": "markdown",
   "metadata": {
    "colab": {},
    "colab_type": "code",
    "id": "qhKgn1afXuc9"
   },
   "source": [
    "## Splitting Dataset to Train and test sets"
   ]
  },
  {
   "cell_type": "code",
   "execution_count": 0,
   "metadata": {
    "colab": {},
    "colab_type": "code",
    "id": "9ELeUIKEXwdi"
   },
   "outputs": [],
   "source": [
    "X_train, X_test, y_train, y_test = train_test_split(keras_pad_result, df.label.values, test_size=0.3, random_state=42, stratify=df.label.values)"
   ]
  },
  {
   "cell_type": "code",
   "execution_count": 23,
   "metadata": {
    "colab": {
     "base_uri": "https://localhost:8080/",
     "height": 35
    },
    "colab_type": "code",
    "id": "MpJHAl5vX7nr",
    "outputId": "b55f340a-956d-474b-fe02-0d85dd47359f"
   },
   "outputs": [
    {
     "name": "stdout",
     "output_type": "stream",
     "text": [
      "(7000, 500) (3000, 500) (7000,) (3000,)\n"
     ]
    }
   ],
   "source": [
    "print(X_train.shape,X_test.shape,y_train.shape,y_test.shape)"
   ]
  },
  {
   "cell_type": "markdown",
   "metadata": {
    "colab": {},
    "colab_type": "code",
    "id": "Xul2vP_UX92U"
   },
   "source": [
    "## Model Building"
   ]
  },
  {
   "cell_type": "code",
   "execution_count": 0,
   "metadata": {
    "colab": {},
    "colab_type": "code",
    "id": "NXfKyjcRYCbJ"
   },
   "outputs": [],
   "source": [
    "model = models.Sequential()"
   ]
  },
  {
   "cell_type": "code",
   "execution_count": 0,
   "metadata": {
    "colab": {},
    "colab_type": "code",
    "id": "jXjKvbx2YEC-"
   },
   "outputs": [],
   "source": [
    "model.add(layers.Embedding(10000, 50, input_length=500)) #input_layer\n",
    "model.add(layers.Conv1D(128, 8, activation='relu'))\n",
    "model.add(layers.Dropout(0.2))\n",
    "model.add(layers.MaxPool1D(3))\n",
    "model.add(layers.Conv1D(256, 8, activation='relu'))\n",
    "model.add(layers.Dropout(0.2))\n",
    "model.add(layers.Bidirectional(layers.LSTM(128, return_sequences=True, dropout=0.2, recurrent_dropout=0.2)))\n",
    "model.add(layers.Bidirectional(layers.LSTM(256, dropout=0.2, recurrent_dropout=0.2)))\n",
    "model.add(layers.Dense(256, activation='relu'))\n",
    "model.add(layers.Dropout(0.2))\n",
    "model.add(layers.Dense(1, activation='sigmoid')) #output layer "
   ]
  },
  {
   "cell_type": "markdown",
   "metadata": {
    "colab": {},
    "colab_type": "code",
    "id": "hJQm-uhIYFvq"
   },
   "source": [
    "## Model Summary"
   ]
  },
  {
   "cell_type": "code",
   "execution_count": 28,
   "metadata": {
    "colab": {
     "base_uri": "https://localhost:8080/",
     "height": 563
    },
    "colab_type": "code",
    "id": "-GwfopWYYJBz",
    "outputId": "09db311f-e0ee-4182-eecb-3977b925dcb4"
   },
   "outputs": [
    {
     "name": "stdout",
     "output_type": "stream",
     "text": [
      "Model: \"sequential_1\"\n",
      "_________________________________________________________________\n",
      "Layer (type)                 Output Shape              Param #   \n",
      "=================================================================\n",
      "embedding_1 (Embedding)      (None, 500, 50)           500000    \n",
      "_________________________________________________________________\n",
      "conv1d_1 (Conv1D)            (None, 493, 128)          51328     \n",
      "_________________________________________________________________\n",
      "dropout_1 (Dropout)          (None, 493, 128)          0         \n",
      "_________________________________________________________________\n",
      "max_pooling1d_1 (MaxPooling1 (None, 164, 128)          0         \n",
      "_________________________________________________________________\n",
      "conv1d_2 (Conv1D)            (None, 157, 256)          262400    \n",
      "_________________________________________________________________\n",
      "dropout_2 (Dropout)          (None, 157, 256)          0         \n",
      "_________________________________________________________________\n",
      "bidirectional_1 (Bidirection (None, 157, 256)          394240    \n",
      "_________________________________________________________________\n",
      "bidirectional_2 (Bidirection (None, 512)               1050624   \n",
      "_________________________________________________________________\n",
      "dense_1 (Dense)              (None, 256)               131328    \n",
      "_________________________________________________________________\n",
      "dropout_3 (Dropout)          (None, 256)               0         \n",
      "_________________________________________________________________\n",
      "dense_2 (Dense)              (None, 1)                 257       \n",
      "=================================================================\n",
      "Total params: 2,390,177\n",
      "Trainable params: 2,390,177\n",
      "Non-trainable params: 0\n",
      "_________________________________________________________________\n"
     ]
    }
   ],
   "source": [
    "model.summary()"
   ]
  },
  {
   "cell_type": "code",
   "execution_count": 0,
   "metadata": {
    "colab": {},
    "colab_type": "code",
    "id": "Q-ff-c7JYKsY"
   },
   "outputs": [],
   "source": [
    "model.compile(loss='binary_crossentropy', optimizer='adam', metrics=['accuracy'])"
   ]
  },
  {
   "cell_type": "code",
   "execution_count": 0,
   "metadata": {
    "colab": {},
    "colab_type": "code",
    "id": "szpG3cF4YXLq"
   },
   "outputs": [],
   "source": [
    "es = EarlyStopping(monitor='accuracy', mode='max', patience=3)"
   ]
  },
  {
   "cell_type": "markdown",
   "metadata": {
    "colab": {},
    "colab_type": "code",
    "id": "biYvTLVTYZjD"
   },
   "source": [
    "## Model Fitting "
   ]
  },
  {
   "cell_type": "code",
   "execution_count": 34,
   "metadata": {
    "colab": {
     "base_uri": "https://localhost:8080/",
     "height": 474
    },
    "colab_type": "code",
    "id": "wnWuILbBYcii",
    "outputId": "57095c08-c53b-4d5c-caaa-3777558a0293"
   },
   "outputs": [
    {
     "name": "stderr",
     "output_type": "stream",
     "text": [
      "/usr/local/lib/python3.6/dist-packages/tensorflow/python/framework/indexed_slices.py:434: UserWarning: Converting sparse IndexedSlices to a dense Tensor of unknown shape. This may consume a large amount of memory.\n",
      "  \"Converting sparse IndexedSlices to a dense Tensor of unknown shape. \"\n"
     ]
    },
    {
     "name": "stdout",
     "output_type": "stream",
     "text": [
      "Train on 7000 samples, validate on 3000 samples\n",
      "Epoch 1/10\n",
      "7000/7000 [==============================] - 74s 11ms/step - loss: 0.6782 - accuracy: 0.5490 - val_loss: 0.5312 - val_accuracy: 0.7390\n",
      "Epoch 2/10\n",
      "7000/7000 [==============================] - 65s 9ms/step - loss: 0.3678 - accuracy: 0.8420 - val_loss: 0.3813 - val_accuracy: 0.8393\n",
      "Epoch 3/10\n",
      "7000/7000 [==============================] - 65s 9ms/step - loss: 0.1588 - accuracy: 0.9443 - val_loss: 0.4271 - val_accuracy: 0.8387\n",
      "Epoch 4/10\n",
      "7000/7000 [==============================] - 67s 10ms/step - loss: 0.0733 - accuracy: 0.9786 - val_loss: 0.6877 - val_accuracy: 0.8367\n",
      "Epoch 5/10\n",
      "7000/7000 [==============================] - 67s 10ms/step - loss: 0.0461 - accuracy: 0.9850 - val_loss: 0.7730 - val_accuracy: 0.8217\n",
      "Epoch 6/10\n",
      "7000/7000 [==============================] - 66s 9ms/step - loss: 0.0313 - accuracy: 0.9896 - val_loss: 0.6837 - val_accuracy: 0.8287\n",
      "Epoch 7/10\n",
      "7000/7000 [==============================] - 67s 10ms/step - loss: 0.0167 - accuracy: 0.9946 - val_loss: 0.9672 - val_accuracy: 0.8257\n",
      "Epoch 8/10\n",
      "7000/7000 [==============================] - 66s 9ms/step - loss: 0.0121 - accuracy: 0.9960 - val_loss: 0.8076 - val_accuracy: 0.8237\n",
      "Epoch 9/10\n",
      "7000/7000 [==============================] - 67s 10ms/step - loss: 0.0095 - accuracy: 0.9969 - val_loss: 1.0589 - val_accuracy: 0.8330\n",
      "Epoch 10/10\n",
      "7000/7000 [==============================] - 65s 9ms/step - loss: 0.0110 - accuracy: 0.9961 - val_loss: 0.9148 - val_accuracy: 0.8303\n"
     ]
    },
    {
     "data": {
      "text/plain": [
       "<keras.callbacks.callbacks.History at 0x7fdb8203c978>"
      ]
     },
     "execution_count": 34,
     "metadata": {
      "tags": []
     },
     "output_type": "execute_result"
    }
   ],
   "source": [
    "model.fit(X_train, y_train, batch_size=128, epochs=10, validation_data=(X_test, y_test),callbacks=[es])"
   ]
  },
  {
   "cell_type": "code",
   "execution_count": 0,
   "metadata": {
    "colab": {},
    "colab_type": "code",
    "id": "0qGKHOGyYgIv"
   },
   "outputs": [],
   "source": [
    "history = model.history.history"
   ]
  },
  {
   "cell_type": "code",
   "execution_count": 36,
   "metadata": {
    "colab": {
     "base_uri": "https://localhost:8080/",
     "height": 295
    },
    "colab_type": "code",
    "id": "mvQ2P26yYpSD",
    "outputId": "2e17667d-08e4-426d-cd7e-a7e0a672b1b3"
   },
   "outputs": [
    {
     "data": {
      "image/png": "[encoded data removed]",
      "text/plain": [
       "<Figure size 432x288 with 1 Axes>"
      ]
     },
     "metadata": {
      "needs_background": "light",
      "tags": []
     },
     "output_type": "display_data"
    }
   ],
   "source": [
    "plt.plot(history['accuracy'],label='Accuracy')\n",
    "plt.plot(history['val_accuracy'],label='Val_Accuracy')\n",
    "plt.title('Model Accuracy')\n",
    "plt.ylabel('Accuracy')\n",
    "plt.xlabel('Epoch')\n",
    "plt.legend(['Train', 'Test'], loc='upper left')\n",
    "plt.show()"
   ]
  },
  {
   "cell_type": "code",
   "execution_count": 37,
   "metadata": {
    "colab": {
     "base_uri": "https://localhost:8080/",
     "height": 295
    },
    "colab_type": "code",
    "id": "NGWPUfVPYrPR",
    "outputId": "dc83211e-fdc1-4179-83a0-c75482a800b5"
   },
   "outputs": [
    {
     "data": {
      "image/png": "[encoded data removed]",
      "text/plain": [
       "<Figure size 432x288 with 1 Axes>"
      ]
     },
     "metadata": {
      "needs_background": "light",
      "tags": []
     },
     "output_type": "display_data"
    }
   ],
   "source": [
    "plt.plot(history['loss'],label='Loss')\n",
    "plt.plot(history['val_loss'],label='Val_Loss')\n",
    "plt.title('Model Loss')\n",
    "plt.ylabel('Loss')\n",
    "plt.xlabel('epoch')\n",
    "plt.legend(['Train', 'Test'], loc='upper left')\n",
    "plt.show()"
   ]
  }
 ],
 "metadata": {
  "accelerator": "GPU",
  "colab": {
   "name": "Sentiment Analysis on Amazon Product reviews.ipynb",
   "provenance": []
  },
  "kernelspec": {
   "display_name": "Python 3",
   "language": "python",
   "name": "python3"
  },
  "language_info": {
   "codemirror_mode": {
    "name": "ipython",
    "version": 3
   },
   "file_extension": ".py",
   "mimetype": "text/x-python",
   "name": "python",
   "nbconvert_exporter": "python",
   "pygments_lexer": "ipython3",
   "version": "3.7.0"
  }
 },
 "nbformat": 4,
 "nbformat_minor": 1
}
